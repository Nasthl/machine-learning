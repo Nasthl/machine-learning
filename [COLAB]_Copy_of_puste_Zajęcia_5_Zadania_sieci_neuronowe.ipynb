{
  "nbformat": 4,
  "nbformat_minor": 0,
  "metadata": {
    "colab": {
      "provenance": [],
      "gpuType": "T4",
      "include_colab_link": true
    },
    "kernelspec": {
      "name": "python3",
      "display_name": "Python 3"
    },
    "language_info": {
      "name": "python"
    },
    "accelerator": "GPU"
  },
  "cells": [
    {
      "cell_type": "markdown",
      "metadata": {
        "id": "view-in-github",
        "colab_type": "text"
      },
      "source": [
        "<a href=\"https://colab.research.google.com/github/Nasthl/macnine-learning-/blob/main/%5BCOLAB%5D_Copy_of_puste_Zaj%C4%99cia_5_Zadania_sieci_neuronowe.ipynb\" target=\"_parent\"><img src=\"https://colab.research.google.com/assets/colab-badge.svg\" alt=\"Open In Colab\"/></a>"
      ]
    },
    {
      "cell_type": "code",
      "source": [
        "import numpy as np\n",
        "import matplotlib.pyplot as plt\n",
        "from sklearn.model_selection import train_test_split\n",
        "from sklearn.preprocessing import OneHotEncoder\n",
        "from keras.models import Sequential\n",
        "from keras.layers import Dense\n",
        "\n",
        "\n",
        "def plot_decision_boundary(model, X, y):\n",
        "    # Przygotowanie siatki punktów w zakresie danych wejściowych\n",
        "    x_min, x_max = X[:, 0].min() - 0.1, X[:, 0].max() + 0.1\n",
        "    y_min, y_max = X[:, 1].min() - 0.1, X[:, 1].max() + 0.1\n",
        "    h = 0.01\n",
        "    xx, yy = np.meshgrid(np.arange(x_min, x_max, h),\n",
        "                         np.arange(y_min, y_max, h))\n",
        "    grid_points = np.c_[xx.ravel(), yy.ravel()]\n",
        "\n",
        "    # Wykonanie predykcji dla siatki punktów\n",
        "    y_pred = model.predict(grid_points)\n",
        "\n",
        "    # Przekształcenie wyników predykcji do pierwotnego kształtu siatki\n",
        "    # Wykonanie predykcji dla siatki punktów\n",
        "    # @TODO poprawa dla sigmoid\n",
        "    y_pred = model.predict(grid_points)\n",
        "    y_pred = np.argmax(y_pred, axis=1)\n",
        "\n",
        "    # Przekształcenie wyników predykcji do pierwotnego kształtu siatki\n",
        "    y_pred = y_pred.reshape(xx.shape)\n",
        "\n",
        "    # Wyświetlenie wykresu z liniami decyzyjnymi\n",
        "    plt.contourf(xx, yy, y_pred, cmap=plt.cm.Paired)\n",
        "    plt.scatter(X[:, 0], X[:, 1], c=y, cmap='viridis')\n",
        "    plt.xlabel('X_1')\n",
        "    plt.ylabel('X_2')\n",
        "    plt.title('Decision Boundary')\n",
        "    plt.show()\n",
        "\n",
        "n_samples = 500\n",
        "n_classes = 2\n",
        "noise = 0.1\n",
        "angle = 45"
      ],
      "metadata": {
        "id": "yyov0LOJHH6J"
      },
      "execution_count": null,
      "outputs": []
    },
    {
      "cell_type": "markdown",
      "source": [
        "\n",
        "\n",
        "## Zadanie:\n",
        "Twoim zadaniem jest przeprowadzenie eksperymentów w aplikacji Playground TensorFlow, aby lepiej zrozumieć wpływ różnych czynników na działanie sieci neuronowych. Skoncentruj się na eksperymentowaniu z różnymi zbiorami danych, architekturą sieci neuronowej, współczynnikiem uczenia (learning rate) oraz funkcją aktywacji.\n",
        "\n",
        "Opis zadania:\n",
        "1. Otwórz aplikację Playground TensorFlow, dostępną pod adresem: https://playground.tensorflow.org/.\n",
        "2. Eksperymentuj ze zbiorami danych:\n",
        "   - Wybierz różne rodzaje zbiorów danych dostępnych w aplikacji, takie jak separowalne liniowo, spiralne, wykluczające XOR itp.\n",
        "   - Zobacz, jak różne typy danych wpływają na działanie sieci neuronowej.\n",
        "3. Eksperymentuj z architekturą sieci neuronowej:\n",
        "   - Zmień liczbę warstw sieci neuronowej.\n",
        "   - Zmień liczbę neuronów w poszczególnych warstwach.\n",
        "   - Dodaj lub usuń warstwy w modelu sieci neuronowej.\n",
        "4. Eksperymentuj z współczynnikiem uczenia (learning rate):\n",
        "   - Zmień wartość współczynnika uczenia i obserwuj, jak wpływa to na proces uczenia.\n",
        "   - Zwróć uwagę na tempo zbieżności i stabilność uczenia dla różnych wartości.\n",
        "5. Eksperymentuj z funkcją aktywacji:\n",
        "   - Zmień funkcję aktywacji w poszczególnych warstwach.\n",
        "   - Wypróbuj różne funkcje aktywacji, takie jak sigmoidalna, ReLU, tanh itp.\n",
        "   - Zauważ, jak różne funkcje aktywacji wpływają na działanie sieci neuronowej i proces uczenia.\n",
        "\n",
        "Celem tego zadania jest eksperymentowanie i obserwowanie, jak różne czynniki wpływają na zachowanie sieci neuronowej. Staraj się zrozumieć, jak zmiany w zbiorach danych, architekturze sieci, współczynniku uczenia i funkcji aktywacji wpływają na wydajność i efektywność sieci neuronowej w Kerasie.\n",
        "\n",
        "Po przeprowadzeniu eksperymentów, zastanów się nad wnioskami i spostrzeżeniami dotyczącymi różnych ustawień. Zrozumienie wpływu tych czynników pomoże Ci w dalszym rozwijaniu umiejętności w dziedzinie sieci neuronowych i zoptymalizowaniu swoich modeli w Kerasie."
      ],
      "metadata": {
        "id": "drmAuiVYXNMk"
      }
    },
    {
      "cell_type": "markdown",
      "source": [
        "1. Otwórz aplikację Playground TensorFlow, dostępną pod adresem: https://playground.tensorflow.org/."
      ],
      "metadata": {
        "id": "px0gWEkm9SK3"
      }
    },
    {
      "cell_type": "code",
      "source": [],
      "metadata": {
        "id": "H9zxfLim9Qqm"
      },
      "execution_count": null,
      "outputs": []
    },
    {
      "cell_type": "markdown",
      "source": [
        "2. Eksperymentuj ze zbiorami danych:\n",
        "   - Wybierz różne rodzaje zbiorów danych dostępnych w aplikacji, takie jak separowalne liniowo, spiralne, wykluczające XOR itp.\n",
        "   - Zobacz, jak różne typy danych wpływają na działanie sieci neuronowej."
      ],
      "metadata": {
        "id": "tAKC0d3b9ea-"
      }
    },
    {
      "cell_type": "code",
      "source": [
        "# Jakie dane:Circle"
      ],
      "metadata": {
        "id": "2ISkrj_d9aMv"
      },
      "execution_count": null,
      "outputs": []
    },
    {
      "cell_type": "markdown",
      "source": [
        "3. Eksperymentuj z architekturą sieci neuronowej:\n",
        "   - Zmień liczbę warstw sieci neuronowej.\n",
        "   - Zmień liczbę neuronów w poszczególnych warstwach.\n",
        "   - Dodaj lub usuń warstwy w modelu sieci neuronowej."
      ],
      "metadata": {
        "id": "LFyrWhsF9giw"
      }
    },
    {
      "cell_type": "code",
      "source": [
        "# ile_warst =2"
      ],
      "metadata": {
        "id": "XbUQYiLA9iFF"
      },
      "execution_count": null,
      "outputs": []
    },
    {
      "cell_type": "markdown",
      "source": [
        "4. Eksperymentuj z współczynnikiem uczenia (learning rate):\n",
        "   - Zmień wartość współczynnika uczenia i obserwuj, jak wpływa to na proces uczenia."
      ],
      "metadata": {
        "id": "9zHyrQSa9iKn"
      }
    },
    {
      "cell_type": "code",
      "source": [
        "# best_lr =0,3"
      ],
      "metadata": {
        "id": "NqWYeyw_9jxP"
      },
      "execution_count": null,
      "outputs": []
    },
    {
      "cell_type": "markdown",
      "source": [
        "5. Eksperymentuj z funkcją aktywacji:\n",
        "   - Zmień funkcję aktywacji w poszczególnych warstwach.\n",
        "   - Wypróbuj różne funkcje aktywacji, takie jak sigmoidalna, ReLU, tanh itp.\n",
        "   - Zauważ, jak różne funkcje aktywacji wpływają na działanie sieci neuronowej i proces uczenia."
      ],
      "metadata": {
        "id": "Bv1vQKWB9j2n"
      }
    },
    {
      "cell_type": "code",
      "source": [
        "#Tanh"
      ],
      "metadata": {
        "id": "1rqwlNeg9kqr"
      },
      "execution_count": null,
      "outputs": []
    },
    {
      "cell_type": "markdown",
      "source": [
        "### Zadanie zbioru danych \"Circles\""
      ],
      "metadata": {
        "id": "nWZm62ZbFwJm"
      }
    },
    {
      "cell_type": "markdown",
      "source": [
        "W ramach tego zadania, Twoim zadaniem jest przygotowanie algorytmu klasyfikacji opartego na sieci neuronowej. Podpowiedzia w odpowiednim doborze algorytmu jest zadanie poprzednie. Algorytm ten będzie wykorzystywał model sieci neuronowej o jednej warstwie gęstej (Dense) z dwoma wyjściami, aktywowanymi funkcją sigmoidalną.\n",
        "\n",
        "Aby zrealizować to zadanie, wykonaj poniższe kroki:\n",
        "\n",
        "1. Wygeneruj zbiór danych do klasyfikacji. Skorzystać z funkcji `datasets.make_circles` z odpowiednimi parametrami, takimi jak `n_samples`, `factor` i `noise`.\n",
        "\n",
        "2. Podziel zbiór danych na zbiór treningowy i testowy przy użyciu funkcji `train_test_split` z biblioteki `sklearn.model_selection`.\n",
        "\n",
        "3. Stwórz model sieci neuronowej wykorzystującej `Sequential` z biblioteki `tensorflow.keras.models`. Dodaj warstwę gęstą (`Dense`) z dwoma wyjściami i aktywacją softmax.\n",
        "\n",
        "4. Skompiluj model, używając jako funkcji straty `categorical_crossentropy` i jako optymalizatora `Adam`. Dodaj również metrykę `accuracy` do oceny wydajności modelu.\n",
        "\n",
        "5. Trenuj model na zbiorze treningowym przez określoną liczbę epok, używając funkcji `fit`. Ustal rozmiar partii (batch size) na 10 i opcjonalnie możesz dodać podział walidacyjny (`validation_split=0.2`), aby monitorować wydajność modelu na zbiorze walidacyjnym.\n",
        "\n",
        "6. Ewaluuj model na zbiorze testowym przy użyciu funkcji `evaluate` i oblicz wartości straty (`loss`) oraz dokładności (`accuracy`).\n",
        "\n",
        "7. Wyżej jest zdefiniowana funkcja plot_decision_boundary(model, X, y), która wyświetli granice decyzyjne modelu na wykresie. Funkcja ta przyjmuje trzy argumenty: model (wytrenowany model sieci neuronowej), X (zbiór danych wejściowych) i y (etykiety klas). Funkcja wygneruej siatkę punktów na podstawie zakresu danych wejściowych $X$, a następnie przewidzi etykiety dla każdego punktu na siatce przy użyciu modelu. Na koniec, funkcja powinna narysować wykres, na którym punkty danych są kolorowane na podstawie ich rzeczywistych etykiet klas, a granice decyzyjne są wizualizowane jako kontury lub tło z różnymi kolorami dla różnych klas.\n",
        "\n",
        "\n",
        "Wykonując te kroki, będziesz miał przygotowany algorytm klasyfikacji oparty na sieci neuronowej. Pamiętaj o dostosowaniu parametrów oraz optymalizacji modelu, aby uzyskać jak najlepsze wyniki klasyfikacji."
      ],
      "metadata": {
        "id": "r46iT7m8GdQE"
      }
    },
    {
      "cell_type": "code",
      "source": [
        "from sklearn import datasets\n",
        "\n",
        "# Generowanie zbioru danych \"Circles\"\n",
        "n_samples = 500\n",
        "factor = 0.5\n",
        "noise = 0.05\n",
        "X, y = datasets.make_circles(n_samples=n_samples, factor=factor, noise=noise)\n",
        "\n",
        "#wizualizacja danych\n",
        "plt.figure(figsize=(6, 6))\n",
        "plt.scatter(X[:, 0], X[:, 1], c=y, cmap='viridis')\n",
        "plt.title('Noisy circles')\n",
        "plt.show()\n"
      ],
      "metadata": {
        "colab": {
          "base_uri": "https://localhost:8080/",
          "height": 545
        },
        "id": "CsEZR-R2I_cl",
        "outputId": "0449aa5b-a84c-4dfc-ce1d-a4d08297d2a3"
      },
      "execution_count": null,
      "outputs": [
        {
          "output_type": "display_data",
          "data": {
            "text/plain": [
              "<Figure size 600x600 with 1 Axes>"
            ],
            "image/png": "[encoded data removed]"
          },
          "metadata": {}
        }
      ]
    },
    {
      "cell_type": "markdown",
      "source": [
        "1. Wygeneruj zbiór danych do klasyfikacji. Skorzystać z funkcji `datasets.make_circles` z odpowiednimi parametrami, takimi jak `n_samples`, `factor` i `noise`.\n"
      ],
      "metadata": {
        "id": "IlnSAdYG9xAX"
      }
    },
    {
      "cell_type": "code",
      "source": [
        "X, y = datasets.make_circles(n_samples=n_samples, factor=factor, noise=noise)\n",
        "y_2=y.copy()"
      ],
      "metadata": {
        "id": "ui1UB7mn9uEA"
      },
      "execution_count": null,
      "outputs": []
    },
    {
      "cell_type": "code",
      "source": [
        "from tensorflow.keras.utils import to_categorical\n",
        "y = to_categorical(y)"
      ],
      "metadata": {
        "id": "UV5OZ2BGiFz0"
      },
      "execution_count": null,
      "outputs": []
    },
    {
      "cell_type": "markdown",
      "source": [
        "\n",
        "2. Podziel zbiór danych na zbiór treningowy i testowy przy użyciu funkcji `train_test_split` z biblioteki `sklearn.model_selection`.\n"
      ],
      "metadata": {
        "id": "hPbPEPhp9ynf"
      }
    },
    {
      "cell_type": "code",
      "source": [
        "X_train,X_test,y_train,y_test=train_test_split(X,y, test_size=0.2, random_state=42)"
      ],
      "metadata": {
        "id": "DZcQ89zE9uGI"
      },
      "execution_count": null,
      "outputs": []
    },
    {
      "cell_type": "markdown",
      "source": [
        "\n",
        "3. Stwórz model sieci neuronowej wykorzystującej `Sequential` z biblioteki `tensorflow.keras.models`. Dodaj warstwę gęstą (`Dense`) z dwoma wyjściami i aktywacją softmax.\n"
      ],
      "metadata": {
        "id": "t2ykgrLA9z_g"
      }
    },
    {
      "cell_type": "code",
      "source": [
        "model=Sequential()\n",
        "model.add(Dense(6,input_shape=(2,), activation='tanh'))\n",
        "\n",
        "model.add(Dense(2, activation='tanh'))\n",
        "model.add(Dense(2, activation='softmax'))"
      ],
      "metadata": {
        "id": "SPo-UoA89uIw"
      },
      "execution_count": null,
      "outputs": []
    },
    {
      "cell_type": "markdown",
      "source": [
        "\n",
        "4. Skompiluj model, używając jako funkcji straty `categorical_crossentropy` i jako optymalizatora `Adam`. Dodaj również metrykę `accuracy` do oceny wydajności modelu.\n"
      ],
      "metadata": {
        "id": "Bcff4qU391m0"
      }
    },
    {
      "cell_type": "code",
      "source": [
        "from keras.optimizers import Adam\n",
        "model.compile(metrics='accuracy', loss='categorical_crossentropy',optimizer=Adam())"
      ],
      "metadata": {
        "id": "2gclfajr9uK5"
      },
      "execution_count": null,
      "outputs": []
    },
    {
      "cell_type": "markdown",
      "source": [
        "\n",
        "5. Trenuj model na zbiorze treningowym przez określoną liczbę epok, używając funkcji `fit`. Ustal rozmiar partii (batch size) na 10 i opcjonalnie możesz dodać podział walidacyjny (`validation_split=0.2`), aby monitorować wydajność modelu na zbiorze walidacyjnym.\n"
      ],
      "metadata": {
        "id": "dlNe07jV92wH"
      }
    },
    {
      "cell_type": "code",
      "source": [],
      "metadata": {
        "id": "0r8zys0uiPJu"
      },
      "execution_count": null,
      "outputs": []
    },
    {
      "cell_type": "code",
      "source": [
        "model.fit(X_train ,y_train, epochs=100, batch_size=10)"
      ],
      "metadata": {
        "id": "NSLhTMCD9uNQ",
        "colab": {
          "base_uri": "https://localhost:8080/"
        },
        "outputId": "fcaa5a75-5110-4674-fa27-4fd9a99da921"
      },
      "execution_count": null,
      "outputs": [
        {
          "output_type": "stream",
          "name": "stdout",
          "text": [
            "Epoch 1/100\n",
            "40/40 [==============================] - 1s 4ms/step - loss: 0.6942 - accuracy: 0.5200\n",
            "Epoch 2/100\n",
            "40/40 [==============================] - 0s 4ms/step - loss: 0.6931 - accuracy: 0.5500\n",
            "Epoch 3/100\n",
            "40/40 [==============================] - 0s 5ms/step - loss: 0.6923 - accuracy: 0.5475\n",
            "Epoch 4/100\n",
            "40/40 [==============================] - 0s 5ms/step - loss: 0.6914 - accuracy: 0.6075\n",
            "Epoch 5/100\n",
            "40/40 [==============================] - 0s 4ms/step - loss: 0.6907 - accuracy: 0.6300\n",
            "Epoch 6/100\n",
            "40/40 [==============================] - 0s 3ms/step - loss: 0.6896 - accuracy: 0.6875\n",
            "Epoch 7/100\n",
            "40/40 [==============================] - 0s 3ms/step - loss: 0.6882 - accuracy: 0.6800\n",
            "Epoch 8/100\n",
            "40/40 [==============================] - 0s 3ms/step - loss: 0.6868 - accuracy: 0.7000\n",
            "Epoch 9/100\n",
            "40/40 [==============================] - 0s 3ms/step - loss: 0.6853 - accuracy: 0.6950\n",
            "Epoch 10/100\n",
            "40/40 [==============================] - 0s 3ms/step - loss: 0.6838 - accuracy: 0.6625\n",
            "Epoch 11/100\n",
            "40/40 [==============================] - 0s 3ms/step - loss: 0.6819 - accuracy: 0.6150\n",
            "Epoch 12/100\n",
            "40/40 [==============================] - 0s 3ms/step - loss: 0.6797 - accuracy: 0.6550\n",
            "Epoch 13/100\n",
            "40/40 [==============================] - 0s 3ms/step - loss: 0.6773 - accuracy: 0.6550\n",
            "Epoch 14/100\n",
            "40/40 [==============================] - 0s 3ms/step - loss: 0.6743 - accuracy: 0.6625\n",
            "Epoch 15/100\n",
            "40/40 [==============================] - 0s 3ms/step - loss: 0.6712 - accuracy: 0.7175\n",
            "Epoch 16/100\n",
            "40/40 [==============================] - 0s 3ms/step - loss: 0.6681 - accuracy: 0.6675\n",
            "Epoch 17/100\n",
            "40/40 [==============================] - 0s 3ms/step - loss: 0.6647 - accuracy: 0.7100\n",
            "Epoch 18/100\n",
            "40/40 [==============================] - 0s 3ms/step - loss: 0.6609 - accuracy: 0.7425\n",
            "Epoch 19/100\n",
            "40/40 [==============================] - 0s 3ms/step - loss: 0.6576 - accuracy: 0.7350\n",
            "Epoch 20/100\n",
            "40/40 [==============================] - 0s 3ms/step - loss: 0.6525 - accuracy: 0.7425\n",
            "Epoch 21/100\n",
            "40/40 [==============================] - 0s 3ms/step - loss: 0.6490 - accuracy: 0.7850\n",
            "Epoch 22/100\n",
            "40/40 [==============================] - 0s 3ms/step - loss: 0.6438 - accuracy: 0.7775\n",
            "Epoch 23/100\n",
            "40/40 [==============================] - 0s 3ms/step - loss: 0.6396 - accuracy: 0.7600\n",
            "Epoch 24/100\n",
            "40/40 [==============================] - 0s 3ms/step - loss: 0.6342 - accuracy: 0.7925\n",
            "Epoch 25/100\n",
            "40/40 [==============================] - 0s 3ms/step - loss: 0.6293 - accuracy: 0.7950\n",
            "Epoch 26/100\n",
            "40/40 [==============================] - 0s 3ms/step - loss: 0.6236 - accuracy: 0.8025\n",
            "Epoch 27/100\n",
            "40/40 [==============================] - 0s 3ms/step - loss: 0.6185 - accuracy: 0.8025\n",
            "Epoch 28/100\n",
            "40/40 [==============================] - 0s 3ms/step - loss: 0.6129 - accuracy: 0.8100\n",
            "Epoch 29/100\n",
            "40/40 [==============================] - 0s 3ms/step - loss: 0.6074 - accuracy: 0.8100\n",
            "Epoch 30/100\n",
            "40/40 [==============================] - 0s 3ms/step - loss: 0.6017 - accuracy: 0.8150\n",
            "Epoch 31/100\n",
            "40/40 [==============================] - 0s 3ms/step - loss: 0.5953 - accuracy: 0.8275\n",
            "Epoch 32/100\n",
            "40/40 [==============================] - 0s 3ms/step - loss: 0.5889 - accuracy: 0.8275\n",
            "Epoch 33/100\n",
            "40/40 [==============================] - 0s 3ms/step - loss: 0.5828 - accuracy: 0.8325\n",
            "Epoch 34/100\n",
            "40/40 [==============================] - 0s 3ms/step - loss: 0.5761 - accuracy: 0.8350\n",
            "Epoch 35/100\n",
            "40/40 [==============================] - 0s 3ms/step - loss: 0.5692 - accuracy: 0.8400\n",
            "Epoch 36/100\n",
            "40/40 [==============================] - 0s 3ms/step - loss: 0.5623 - accuracy: 0.8400\n",
            "Epoch 37/100\n",
            "40/40 [==============================] - 0s 3ms/step - loss: 0.5547 - accuracy: 0.8475\n",
            "Epoch 38/100\n",
            "40/40 [==============================] - 0s 3ms/step - loss: 0.5476 - accuracy: 0.8525\n",
            "Epoch 39/100\n",
            "40/40 [==============================] - 0s 3ms/step - loss: 0.5398 - accuracy: 0.8600\n",
            "Epoch 40/100\n",
            "40/40 [==============================] - 0s 3ms/step - loss: 0.5326 - accuracy: 0.8775\n",
            "Epoch 41/100\n",
            "40/40 [==============================] - 0s 3ms/step - loss: 0.5232 - accuracy: 0.8675\n",
            "Epoch 42/100\n",
            "40/40 [==============================] - 0s 3ms/step - loss: 0.5152 - accuracy: 0.8700\n",
            "Epoch 43/100\n",
            "40/40 [==============================] - 0s 3ms/step - loss: 0.5070 - accuracy: 0.8950\n",
            "Epoch 44/100\n",
            "40/40 [==============================] - 0s 3ms/step - loss: 0.4972 - accuracy: 0.8925\n",
            "Epoch 45/100\n",
            "40/40 [==============================] - 0s 3ms/step - loss: 0.4875 - accuracy: 0.8925\n",
            "Epoch 46/100\n",
            "40/40 [==============================] - 0s 3ms/step - loss: 0.4783 - accuracy: 0.8950\n",
            "Epoch 47/100\n",
            "40/40 [==============================] - 0s 3ms/step - loss: 0.4684 - accuracy: 0.9200\n",
            "Epoch 48/100\n",
            "40/40 [==============================] - 0s 3ms/step - loss: 0.4588 - accuracy: 0.9375\n",
            "Epoch 49/100\n",
            "40/40 [==============================] - 0s 3ms/step - loss: 0.4480 - accuracy: 0.9400\n",
            "Epoch 50/100\n",
            "40/40 [==============================] - 0s 3ms/step - loss: 0.4379 - accuracy: 0.9425\n",
            "Epoch 51/100\n",
            "40/40 [==============================] - 0s 3ms/step - loss: 0.4271 - accuracy: 0.9450\n",
            "Epoch 52/100\n",
            "40/40 [==============================] - 0s 3ms/step - loss: 0.4169 - accuracy: 0.9700\n",
            "Epoch 53/100\n",
            "40/40 [==============================] - 0s 3ms/step - loss: 0.4062 - accuracy: 0.9750\n",
            "Epoch 54/100\n",
            "40/40 [==============================] - 0s 3ms/step - loss: 0.3958 - accuracy: 0.9700\n",
            "Epoch 55/100\n",
            "40/40 [==============================] - 0s 3ms/step - loss: 0.3850 - accuracy: 0.9925\n",
            "Epoch 56/100\n",
            "40/40 [==============================] - 0s 5ms/step - loss: 0.3748 - accuracy: 0.9975\n",
            "Epoch 57/100\n",
            "40/40 [==============================] - 0s 4ms/step - loss: 0.3646 - accuracy: 0.9975\n",
            "Epoch 58/100\n",
            "40/40 [==============================] - 0s 5ms/step - loss: 0.3542 - accuracy: 0.9975\n",
            "Epoch 59/100\n",
            "40/40 [==============================] - 0s 5ms/step - loss: 0.3451 - accuracy: 0.9975\n",
            "Epoch 60/100\n",
            "40/40 [==============================] - 0s 5ms/step - loss: 0.3347 - accuracy: 0.9975\n",
            "Epoch 61/100\n",
            "40/40 [==============================] - 0s 5ms/step - loss: 0.3253 - accuracy: 0.9975\n",
            "Epoch 62/100\n",
            "40/40 [==============================] - 0s 4ms/step - loss: 0.3162 - accuracy: 0.9975\n",
            "Epoch 63/100\n",
            "40/40 [==============================] - 0s 4ms/step - loss: 0.3071 - accuracy: 0.9975\n",
            "Epoch 64/100\n",
            "40/40 [==============================] - 0s 4ms/step - loss: 0.2986 - accuracy: 0.9975\n",
            "Epoch 65/100\n",
            "40/40 [==============================] - 0s 3ms/step - loss: 0.2914 - accuracy: 0.9975\n",
            "Epoch 66/100\n",
            "40/40 [==============================] - 0s 3ms/step - loss: 0.2821 - accuracy: 1.0000\n",
            "Epoch 67/100\n",
            "40/40 [==============================] - 0s 3ms/step - loss: 0.2750 - accuracy: 0.9975\n",
            "Epoch 68/100\n",
            "40/40 [==============================] - 0s 3ms/step - loss: 0.2666 - accuracy: 1.0000\n",
            "Epoch 69/100\n",
            "40/40 [==============================] - 0s 3ms/step - loss: 0.2591 - accuracy: 1.0000\n",
            "Epoch 70/100\n",
            "40/40 [==============================] - 0s 3ms/step - loss: 0.2524 - accuracy: 1.0000\n",
            "Epoch 71/100\n",
            "40/40 [==============================] - 0s 3ms/step - loss: 0.2454 - accuracy: 1.0000\n",
            "Epoch 72/100\n",
            "40/40 [==============================] - 0s 3ms/step - loss: 0.2388 - accuracy: 1.0000\n",
            "Epoch 73/100\n",
            "40/40 [==============================] - 0s 3ms/step - loss: 0.2327 - accuracy: 1.0000\n",
            "Epoch 74/100\n",
            "40/40 [==============================] - 0s 3ms/step - loss: 0.2263 - accuracy: 1.0000\n",
            "Epoch 75/100\n",
            "40/40 [==============================] - 0s 3ms/step - loss: 0.2198 - accuracy: 1.0000\n",
            "Epoch 76/100\n",
            "40/40 [==============================] - 0s 3ms/step - loss: 0.2142 - accuracy: 1.0000\n",
            "Epoch 77/100\n",
            "40/40 [==============================] - 0s 3ms/step - loss: 0.2089 - accuracy: 1.0000\n",
            "Epoch 78/100\n",
            "40/40 [==============================] - 0s 3ms/step - loss: 0.2031 - accuracy: 1.0000\n",
            "Epoch 79/100\n",
            "40/40 [==============================] - 0s 3ms/step - loss: 0.1980 - accuracy: 1.0000\n",
            "Epoch 80/100\n",
            "40/40 [==============================] - 0s 3ms/step - loss: 0.1926 - accuracy: 1.0000\n",
            "Epoch 81/100\n",
            "40/40 [==============================] - 0s 3ms/step - loss: 0.1878 - accuracy: 1.0000\n",
            "Epoch 82/100\n",
            "40/40 [==============================] - 0s 3ms/step - loss: 0.1828 - accuracy: 1.0000\n",
            "Epoch 83/100\n",
            "40/40 [==============================] - 0s 3ms/step - loss: 0.1783 - accuracy: 1.0000\n",
            "Epoch 84/100\n",
            "40/40 [==============================] - 0s 3ms/step - loss: 0.1734 - accuracy: 1.0000\n",
            "Epoch 85/100\n",
            "40/40 [==============================] - 0s 5ms/step - loss: 0.1690 - accuracy: 1.0000\n",
            "Epoch 86/100\n",
            "40/40 [==============================] - 0s 5ms/step - loss: 0.1649 - accuracy: 1.0000\n",
            "Epoch 87/100\n",
            "40/40 [==============================] - 0s 4ms/step - loss: 0.1606 - accuracy: 1.0000\n",
            "Epoch 88/100\n",
            "40/40 [==============================] - 0s 4ms/step - loss: 0.1566 - accuracy: 1.0000\n",
            "Epoch 89/100\n",
            "40/40 [==============================] - 0s 4ms/step - loss: 0.1525 - accuracy: 1.0000\n",
            "Epoch 90/100\n",
            "40/40 [==============================] - 0s 4ms/step - loss: 0.1488 - accuracy: 1.0000\n",
            "Epoch 91/100\n",
            "40/40 [==============================] - 0s 5ms/step - loss: 0.1452 - accuracy: 1.0000\n",
            "Epoch 92/100\n",
            "40/40 [==============================] - 0s 5ms/step - loss: 0.1415 - accuracy: 1.0000\n",
            "Epoch 93/100\n",
            "40/40 [==============================] - 0s 4ms/step - loss: 0.1380 - accuracy: 1.0000\n",
            "Epoch 94/100\n",
            "40/40 [==============================] - 0s 5ms/step - loss: 0.1348 - accuracy: 1.0000\n",
            "Epoch 95/100\n",
            "40/40 [==============================] - 0s 3ms/step - loss: 0.1314 - accuracy: 1.0000\n",
            "Epoch 96/100\n",
            "40/40 [==============================] - 0s 3ms/step - loss: 0.1282 - accuracy: 1.0000\n",
            "Epoch 97/100\n",
            "40/40 [==============================] - 0s 3ms/step - loss: 0.1252 - accuracy: 1.0000\n",
            "Epoch 98/100\n",
            "40/40 [==============================] - 0s 3ms/step - loss: 0.1222 - accuracy: 1.0000\n",
            "Epoch 99/100\n",
            "40/40 [==============================] - 0s 3ms/step - loss: 0.1192 - accuracy: 1.0000\n",
            "Epoch 100/100\n",
            "40/40 [==============================] - 0s 3ms/step - loss: 0.1167 - accuracy: 1.0000\n"
          ]
        },
        {
          "output_type": "execute_result",
          "data": {
            "text/plain": [
              "<keras.src.callbacks.History at 0x7827081fef20>"
            ]
          },
          "metadata": {},
          "execution_count": 78
        }
      ]
    },
    {
      "cell_type": "markdown",
      "source": [
        "\n",
        "6. Ewaluuj model na zbiorze testowym przy użyciu funkcji `evaluate` i oblicz wartości straty (`loss`) oraz dokładności (`accuracy`).\n"
      ],
      "metadata": {
        "id": "631h2RVM94Hh"
      }
    },
    {
      "cell_type": "code",
      "source": [
        "score=model.evaluate(X_test,y_test, verbose=1)"
      ],
      "metadata": {
        "id": "RamvGxKm94DI",
        "colab": {
          "base_uri": "https://localhost:8080/"
        },
        "outputId": "2d386881-53d6-4901-a6d2-a507c780c4f6"
      },
      "execution_count": null,
      "outputs": [
        {
          "output_type": "stream",
          "name": "stdout",
          "text": [
            "4/4 [==============================] - 0s 4ms/step - loss: 0.1096 - accuracy: 1.0000\n"
          ]
        }
      ]
    },
    {
      "cell_type": "markdown",
      "source": [
        "\n",
        "7. Wyżej jest zdefiniowana funkcja plot_decision_boundary(model, X, y), która wyświetli granice decyzyjne modelu na wykresie. Funkcja ta przyjmuje trzy argumenty: model (wytrenowany model sieci neuronowej), X (zbiór danych wejściowych) i y (etykiety klas). Funkcja wygneruej siatkę punktów na podstawie zakresu danych wejściowych $X$, a następnie przewidzi etykiety dla każdego punktu na siatce przy użyciu modelu. Na koniec, funkcja powinna narysować wykres, na którym punkty danych są kolorowane na podstawie ich rzeczywistych etykiet klas, a granice decyzyjne są wizualizowane jako kontury lub tło z różnymi kolorami dla różnych klas.\n"
      ],
      "metadata": {
        "id": "ScStFtI496cA"
      }
    },
    {
      "cell_type": "code",
      "source": [
        "plot_decision_boundary(model,X,y_2)"
      ],
      "metadata": {
        "id": "AHKBNzAR97ez",
        "colab": {
          "base_uri": "https://localhost:8080/",
          "height": 507
        },
        "outputId": "089019af-ebd0-4320-cef9-344c7a3c496e"
      },
      "execution_count": null,
      "outputs": [
        {
          "output_type": "stream",
          "name": "stdout",
          "text": [
            "1800/1800 [==============================] - 5s 3ms/step\n",
            "1800/1800 [==============================] - 3s 1ms/step\n"
          ]
        },
        {
          "output_type": "display_data",
          "data": {
            "text/plain": [
              "<Figure size 640x480 with 1 Axes>"
            ],
            "image/png": "[encoded data removed]"
          },
          "metadata": {}
        }
      ]
    },
    {
      "cell_type": "markdown",
      "source": [
        "### Zadanie zbioru danych \"Noisy Moons\""
      ],
      "metadata": {
        "id": "b1z383IZqrRy"
      }
    },
    {
      "cell_type": "code",
      "source": [
        "# Generowanie zbioru danych \"Noisy Moons\"\n",
        "noisy_moons = datasets.make_moons(n_samples=n_samples, noise=0.05)\n",
        "X_moons, y_moons = noisy_moons\n",
        "\n",
        "plt.figure(figsize=(6, 6))\n",
        "plt.scatter(X_moons[:, 0], X_moons[:, 1], c=y_moons, cmap='viridis')\n",
        "plt.title('Noisy Moons')\n",
        "plt.show()\n",
        "\n"
      ],
      "metadata": {
        "colab": {
          "base_uri": "https://localhost:8080/",
          "height": 545
        },
        "id": "YiDyNLdDF3R4",
        "outputId": "12bb4f60-6f29-4a17-9c2c-39f1c22b2c91"
      },
      "execution_count": null,
      "outputs": [
        {
          "output_type": "display_data",
          "data": {
            "text/plain": [
              "<Figure size 600x600 with 1 Axes>"
            ],
            "image/png": "[encoded data removed]"
          },
          "metadata": {}
        }
      ]
    },
    {
      "cell_type": "markdown",
      "source": [
        "Aby zrealizować to zadanie, wykonaj poniższe kroki:\n",
        "\n",
        "1. Wygeneruj zbiór danych do klasyfikacji. Skorzystaj z funkcji `datasets.make_moons` z odpowiednimi parametrami, takimi jak `n_samples` i `noise`.\n",
        "\n",
        "2. Podziel zbiór danych na zbiór treningowy i testowy przy użyciu funkcji `train_test_split` z biblioteki `sklearn.model_selection`.\n",
        "\n",
        "\n",
        "3. Stwórz model sieci neuronowej wykorzystującej `Sequential` z biblioteki `tensorflow.keras.models`. Dodaj warstwę gęstą (`Dense`) z dwoma wyjściami i aktywacją sigmoidalną.\n",
        "\n",
        "4. Skompiluj model, używając jako funkcji straty `categorical_crossentropy` i jako optymalizatora `Adam`. Dodaj również metrykę `accuracy` do oceny wydajności modelu.\n",
        "\n",
        "6. Trenuj model na zbiorze treningowym przez określoną liczbę epok, używając funkcji `fit`. Ustal rozmiar partii (batch size) na 1 i opcjonalnie możesz dodać podział walidacyjny (`validation_split`), aby monitorować wydajność modelu na zbiorze walidacyjnym.\n",
        "\n",
        "7. Ewaluuj model na zbiorze testowym przy użyciu funkcji `evaluate` i oblicz wartości straty (`loss`) oraz dokładności (`accuracy`).\n",
        "\n",
        "8. Wyżej jest zdefiniowana funkcja plot_decision_boundary(model, X, y), która wyświetli granice decyzyjne modelu na wykresie. Funkcja ta przyjmuje trzy argumenty: model (wytrenowany model sieci neuronowej), X (zbiór danych wejściowych) i y (etykiety klas). Funkcja wygneruej siatkę punktów na podstawie zakresu danych wejściowych $X$, a następnie przewidzi etykiety dla każdego punktu na siatce przy użyciu modelu. Na koniec, funkcja powinna narysować wykres, na którym punkty danych są kolorowane na podstawie ich rzeczywistych etykiet klas, a granice decyzyjne są wizualizowane jako kontury lub tło z różnymi kolorami dla różnych klas.\n",
        "\n",
        "Wykonując te kroki, będziesz miał przygotowany algorytm klasyfikacji oparty na sieci neuronowej. Pamiętaj o dostosowaniu parametrów oraz optymalizacji modelu, aby uzyskać jak najlepsze wyniki klasyfikacji."
      ],
      "metadata": {
        "id": "58m3ujuHq1rU"
      }
    },
    {
      "cell_type": "markdown",
      "source": [
        "Wygeneruj zbiór danych do klasyfikacji. Skorzystaj z funkcji `datasets.make_moons` z odpowiednimi parametrami, takimi jak `n_samples` i `noise`"
      ],
      "metadata": {
        "id": "KbfCwl1NBMAz"
      }
    },
    {
      "cell_type": "code",
      "source": [
        "noisy_moons = datasets.make_moons(n_samples=n_samples, noise=0.05)\n",
        "X_moons, y_moons = noisy_moons\n",
        "y_moons_2=y_moons.copy()\n",
        "y_moons=to_categorical(y_moons)"
      ],
      "metadata": {
        "id": "iWTTREDFBMRT"
      },
      "execution_count": null,
      "outputs": []
    },
    {
      "cell_type": "markdown",
      "source": [],
      "metadata": {
        "id": "-pdVzHzMBMaL"
      }
    },
    {
      "cell_type": "code",
      "source": [
        "X_train,X_test,y_train,y_test=train_test_split(X_moons, y_moons, test_size=0.2)"
      ],
      "metadata": {
        "id": "Zs_tieJDBMfu"
      },
      "execution_count": null,
      "outputs": []
    },
    {
      "cell_type": "markdown",
      "source": [],
      "metadata": {
        "id": "IFDNx84qBMj8"
      }
    },
    {
      "cell_type": "code",
      "source": [
        "model_moons=Sequential()\n",
        "model_moons.add(Dense(6,input_shape=(2,), activation='tanh'))\n",
        "model_moons.add(Dense(8, activation='tanh'))\n",
        "model_moons.add(Dense(2, activation='sigmoid'))\n",
        "model_moons.compile(metrics='accuracy', loss='categorical_crossentropy',optimizer=Adam())"
      ],
      "metadata": {
        "id": "SRJGStLJBMq9"
      },
      "execution_count": null,
      "outputs": []
    },
    {
      "cell_type": "markdown",
      "source": [],
      "metadata": {
        "id": "TMylwp_rBMxT"
      }
    },
    {
      "cell_type": "code",
      "source": [
        "model_moons.fit(X_train,y_train, batch_size=10, validation_data=(X_test, y_test),epochs=200)"
      ],
      "metadata": {
        "id": "HJEZn6KbBM2s",
        "colab": {
          "base_uri": "https://localhost:8080/"
        },
        "outputId": "75d03e64-e4a5-4356-f66b-32bc8ca41844"
      },
      "execution_count": null,
      "outputs": [
        {
          "output_type": "stream",
          "name": "stdout",
          "text": [
            "Epoch 1/200\n",
            "40/40 [==============================] - 1s 16ms/step - loss: 0.2299 - accuracy: 0.8925 - val_loss: 0.2995 - val_accuracy: 0.8300\n",
            "Epoch 2/200\n",
            "40/40 [==============================] - 0s 5ms/step - loss: 0.2292 - accuracy: 0.8900 - val_loss: 0.2992 - val_accuracy: 0.8300\n",
            "Epoch 3/200\n",
            "40/40 [==============================] - 0s 4ms/step - loss: 0.2299 - accuracy: 0.8925 - val_loss: 0.2949 - val_accuracy: 0.8300\n",
            "Epoch 4/200\n",
            "40/40 [==============================] - 0s 4ms/step - loss: 0.2277 - accuracy: 0.8900 - val_loss: 0.2970 - val_accuracy: 0.8300\n",
            "Epoch 5/200\n",
            "40/40 [==============================] - 0s 4ms/step - loss: 0.2279 - accuracy: 0.8900 - val_loss: 0.2948 - val_accuracy: 0.8300\n",
            "Epoch 6/200\n",
            "40/40 [==============================] - 0s 4ms/step - loss: 0.2266 - accuracy: 0.8925 - val_loss: 0.2979 - val_accuracy: 0.8300\n",
            "Epoch 7/200\n",
            "40/40 [==============================] - 0s 4ms/step - loss: 0.2264 - accuracy: 0.8925 - val_loss: 0.2953 - val_accuracy: 0.8300\n",
            "Epoch 8/200\n",
            "40/40 [==============================] - 0s 4ms/step - loss: 0.2259 - accuracy: 0.8950 - val_loss: 0.2909 - val_accuracy: 0.8300\n",
            "Epoch 9/200\n",
            "40/40 [==============================] - 0s 4ms/step - loss: 0.2251 - accuracy: 0.8925 - val_loss: 0.2883 - val_accuracy: 0.8300\n",
            "Epoch 10/200\n",
            "40/40 [==============================] - 0s 4ms/step - loss: 0.2244 - accuracy: 0.8900 - val_loss: 0.2845 - val_accuracy: 0.8500\n",
            "Epoch 11/200\n",
            "40/40 [==============================] - 0s 4ms/step - loss: 0.2215 - accuracy: 0.8950 - val_loss: 0.2849 - val_accuracy: 0.8500\n",
            "Epoch 12/200\n",
            "40/40 [==============================] - 0s 4ms/step - loss: 0.2209 - accuracy: 0.8950 - val_loss: 0.2841 - val_accuracy: 0.8300\n",
            "Epoch 13/200\n",
            "40/40 [==============================] - 0s 4ms/step - loss: 0.2205 - accuracy: 0.8950 - val_loss: 0.2800 - val_accuracy: 0.8500\n",
            "Epoch 14/200\n",
            "40/40 [==============================] - 0s 4ms/step - loss: 0.2187 - accuracy: 0.8950 - val_loss: 0.2791 - val_accuracy: 0.8500\n",
            "Epoch 15/200\n",
            "40/40 [==============================] - 0s 5ms/step - loss: 0.2168 - accuracy: 0.8950 - val_loss: 0.2745 - val_accuracy: 0.8500\n",
            "Epoch 16/200\n",
            "40/40 [==============================] - 0s 4ms/step - loss: 0.2158 - accuracy: 0.8975 - val_loss: 0.2759 - val_accuracy: 0.8500\n",
            "Epoch 17/200\n",
            "40/40 [==============================] - 0s 4ms/step - loss: 0.2133 - accuracy: 0.8950 - val_loss: 0.2724 - val_accuracy: 0.8500\n",
            "Epoch 18/200\n",
            "40/40 [==============================] - 0s 4ms/step - loss: 0.2113 - accuracy: 0.8950 - val_loss: 0.2697 - val_accuracy: 0.8500\n",
            "Epoch 19/200\n",
            "40/40 [==============================] - 0s 4ms/step - loss: 0.2099 - accuracy: 0.8975 - val_loss: 0.2623 - val_accuracy: 0.8500\n",
            "Epoch 20/200\n",
            "40/40 [==============================] - 0s 4ms/step - loss: 0.2085 - accuracy: 0.9000 - val_loss: 0.2633 - val_accuracy: 0.8500\n",
            "Epoch 21/200\n",
            "40/40 [==============================] - 0s 4ms/step - loss: 0.2070 - accuracy: 0.9000 - val_loss: 0.2603 - val_accuracy: 0.8500\n",
            "Epoch 22/200\n",
            "40/40 [==============================] - 0s 4ms/step - loss: 0.2049 - accuracy: 0.8975 - val_loss: 0.2502 - val_accuracy: 0.8500\n",
            "Epoch 23/200\n",
            "40/40 [==============================] - 0s 4ms/step - loss: 0.2021 - accuracy: 0.9050 - val_loss: 0.2473 - val_accuracy: 0.8500\n",
            "Epoch 24/200\n",
            "40/40 [==============================] - 0s 4ms/step - loss: 0.1985 - accuracy: 0.9050 - val_loss: 0.2491 - val_accuracy: 0.8600\n",
            "Epoch 25/200\n",
            "40/40 [==============================] - 0s 4ms/step - loss: 0.1937 - accuracy: 0.9100 - val_loss: 0.2383 - val_accuracy: 0.8500\n",
            "Epoch 26/200\n",
            "40/40 [==============================] - 0s 4ms/step - loss: 0.1909 - accuracy: 0.9150 - val_loss: 0.2344 - val_accuracy: 0.8500\n",
            "Epoch 27/200\n",
            "40/40 [==============================] - 0s 4ms/step - loss: 0.1887 - accuracy: 0.9100 - val_loss: 0.2338 - val_accuracy: 0.8600\n",
            "Epoch 28/200\n",
            "40/40 [==============================] - 0s 4ms/step - loss: 0.1831 - accuracy: 0.9100 - val_loss: 0.2232 - val_accuracy: 0.8700\n",
            "Epoch 29/200\n",
            "40/40 [==============================] - 0s 3ms/step - loss: 0.1801 - accuracy: 0.9200 - val_loss: 0.2172 - val_accuracy: 0.8700\n",
            "Epoch 30/200\n",
            "40/40 [==============================] - 0s 3ms/step - loss: 0.1754 - accuracy: 0.9150 - val_loss: 0.2128 - val_accuracy: 0.8700\n",
            "Epoch 31/200\n",
            "40/40 [==============================] - 0s 4ms/step - loss: 0.1707 - accuracy: 0.9200 - val_loss: 0.2016 - val_accuracy: 0.8700\n",
            "Epoch 32/200\n",
            "40/40 [==============================] - 0s 4ms/step - loss: 0.1691 - accuracy: 0.9325 - val_loss: 0.2030 - val_accuracy: 0.8800\n",
            "Epoch 33/200\n",
            "40/40 [==============================] - 0s 4ms/step - loss: 0.1611 - accuracy: 0.9250 - val_loss: 0.1925 - val_accuracy: 0.8800\n",
            "Epoch 34/200\n",
            "40/40 [==============================] - 0s 3ms/step - loss: 0.1571 - accuracy: 0.9300 - val_loss: 0.1830 - val_accuracy: 0.8800\n",
            "Epoch 35/200\n",
            "40/40 [==============================] - 0s 4ms/step - loss: 0.1530 - accuracy: 0.9325 - val_loss: 0.1753 - val_accuracy: 0.8900\n",
            "Epoch 36/200\n",
            "40/40 [==============================] - 0s 4ms/step - loss: 0.1484 - accuracy: 0.9350 - val_loss: 0.1730 - val_accuracy: 0.9000\n",
            "Epoch 37/200\n",
            "40/40 [==============================] - 0s 4ms/step - loss: 0.1422 - accuracy: 0.9450 - val_loss: 0.1700 - val_accuracy: 0.8900\n",
            "Epoch 38/200\n",
            "40/40 [==============================] - 0s 5ms/step - loss: 0.1360 - accuracy: 0.9425 - val_loss: 0.1560 - val_accuracy: 0.9100\n",
            "Epoch 39/200\n",
            "40/40 [==============================] - 0s 5ms/step - loss: 0.1311 - accuracy: 0.9450 - val_loss: 0.1494 - val_accuracy: 0.9100\n",
            "Epoch 40/200\n",
            "40/40 [==============================] - 0s 6ms/step - loss: 0.1240 - accuracy: 0.9500 - val_loss: 0.1427 - val_accuracy: 0.9100\n",
            "Epoch 41/200\n",
            "40/40 [==============================] - 0s 7ms/step - loss: 0.1201 - accuracy: 0.9475 - val_loss: 0.1365 - val_accuracy: 0.9100\n",
            "Epoch 42/200\n",
            "40/40 [==============================] - 0s 6ms/step - loss: 0.1138 - accuracy: 0.9550 - val_loss: 0.1280 - val_accuracy: 0.9300\n",
            "Epoch 43/200\n",
            "40/40 [==============================] - 0s 6ms/step - loss: 0.1086 - accuracy: 0.9525 - val_loss: 0.1239 - val_accuracy: 0.9300\n",
            "Epoch 44/200\n",
            "40/40 [==============================] - 0s 6ms/step - loss: 0.1033 - accuracy: 0.9600 - val_loss: 0.1127 - val_accuracy: 0.9800\n",
            "Epoch 45/200\n",
            "40/40 [==============================] - 0s 4ms/step - loss: 0.0984 - accuracy: 0.9600 - val_loss: 0.1111 - val_accuracy: 0.9700\n",
            "Epoch 46/200\n",
            "40/40 [==============================] - 0s 4ms/step - loss: 0.0924 - accuracy: 0.9650 - val_loss: 0.1027 - val_accuracy: 0.9700\n",
            "Epoch 47/200\n",
            "40/40 [==============================] - 0s 5ms/step - loss: 0.0877 - accuracy: 0.9675 - val_loss: 0.0972 - val_accuracy: 0.9800\n",
            "Epoch 48/200\n",
            "40/40 [==============================] - 0s 4ms/step - loss: 0.0840 - accuracy: 0.9700 - val_loss: 0.0885 - val_accuracy: 0.9800\n",
            "Epoch 49/200\n",
            "40/40 [==============================] - 0s 4ms/step - loss: 0.0790 - accuracy: 0.9700 - val_loss: 0.0860 - val_accuracy: 0.9800\n",
            "Epoch 50/200\n",
            "40/40 [==============================] - 0s 4ms/step - loss: 0.0743 - accuracy: 0.9700 - val_loss: 0.0791 - val_accuracy: 0.9900\n",
            "Epoch 51/200\n",
            "40/40 [==============================] - 0s 4ms/step - loss: 0.0708 - accuracy: 0.9775 - val_loss: 0.0722 - val_accuracy: 0.9900\n",
            "Epoch 52/200\n",
            "40/40 [==============================] - 0s 4ms/step - loss: 0.0666 - accuracy: 0.9800 - val_loss: 0.0699 - val_accuracy: 0.9900\n",
            "Epoch 53/200\n",
            "40/40 [==============================] - 0s 4ms/step - loss: 0.0628 - accuracy: 0.9825 - val_loss: 0.0663 - val_accuracy: 0.9900\n",
            "Epoch 54/200\n",
            "40/40 [==============================] - 0s 4ms/step - loss: 0.0593 - accuracy: 0.9900 - val_loss: 0.0601 - val_accuracy: 1.0000\n",
            "Epoch 55/200\n",
            "40/40 [==============================] - 0s 4ms/step - loss: 0.0564 - accuracy: 0.9900 - val_loss: 0.0589 - val_accuracy: 1.0000\n",
            "Epoch 56/200\n",
            "40/40 [==============================] - 0s 4ms/step - loss: 0.0531 - accuracy: 0.9850 - val_loss: 0.0546 - val_accuracy: 1.0000\n",
            "Epoch 57/200\n",
            "40/40 [==============================] - 0s 4ms/step - loss: 0.0498 - accuracy: 0.9900 - val_loss: 0.0527 - val_accuracy: 1.0000\n",
            "Epoch 58/200\n",
            "40/40 [==============================] - 0s 4ms/step - loss: 0.0479 - accuracy: 0.9925 - val_loss: 0.0478 - val_accuracy: 1.0000\n",
            "Epoch 59/200\n",
            "40/40 [==============================] - 0s 4ms/step - loss: 0.0453 - accuracy: 0.9950 - val_loss: 0.0456 - val_accuracy: 1.0000\n",
            "Epoch 60/200\n",
            "40/40 [==============================] - 0s 4ms/step - loss: 0.0421 - accuracy: 0.9950 - val_loss: 0.0436 - val_accuracy: 1.0000\n",
            "Epoch 61/200\n",
            "40/40 [==============================] - 0s 4ms/step - loss: 0.0414 - accuracy: 0.9975 - val_loss: 0.0391 - val_accuracy: 1.0000\n",
            "Epoch 62/200\n",
            "40/40 [==============================] - 0s 4ms/step - loss: 0.0384 - accuracy: 1.0000 - val_loss: 0.0378 - val_accuracy: 1.0000\n",
            "Epoch 63/200\n",
            "40/40 [==============================] - 0s 3ms/step - loss: 0.0366 - accuracy: 0.9975 - val_loss: 0.0360 - val_accuracy: 1.0000\n",
            "Epoch 64/200\n",
            "40/40 [==============================] - 0s 4ms/step - loss: 0.0344 - accuracy: 1.0000 - val_loss: 0.0347 - val_accuracy: 1.0000\n",
            "Epoch 65/200\n",
            "40/40 [==============================] - 0s 4ms/step - loss: 0.0328 - accuracy: 1.0000 - val_loss: 0.0322 - val_accuracy: 1.0000\n",
            "Epoch 66/200\n",
            "40/40 [==============================] - 0s 4ms/step - loss: 0.0312 - accuracy: 1.0000 - val_loss: 0.0307 - val_accuracy: 1.0000\n",
            "Epoch 67/200\n",
            "40/40 [==============================] - 0s 4ms/step - loss: 0.0300 - accuracy: 1.0000 - val_loss: 0.0291 - val_accuracy: 1.0000\n",
            "Epoch 68/200\n",
            "40/40 [==============================] - 0s 3ms/step - loss: 0.0287 - accuracy: 1.0000 - val_loss: 0.0268 - val_accuracy: 1.0000\n",
            "Epoch 69/200\n",
            "40/40 [==============================] - 0s 4ms/step - loss: 0.0269 - accuracy: 1.0000 - val_loss: 0.0267 - val_accuracy: 1.0000\n",
            "Epoch 70/200\n",
            "40/40 [==============================] - 0s 4ms/step - loss: 0.0259 - accuracy: 1.0000 - val_loss: 0.0249 - val_accuracy: 1.0000\n",
            "Epoch 71/200\n",
            "40/40 [==============================] - 0s 4ms/step - loss: 0.0249 - accuracy: 1.0000 - val_loss: 0.0232 - val_accuracy: 1.0000\n",
            "Epoch 72/200\n",
            "40/40 [==============================] - 0s 4ms/step - loss: 0.0238 - accuracy: 1.0000 - val_loss: 0.0229 - val_accuracy: 1.0000\n",
            "Epoch 73/200\n",
            "40/40 [==============================] - 0s 4ms/step - loss: 0.0224 - accuracy: 1.0000 - val_loss: 0.0216 - val_accuracy: 1.0000\n",
            "Epoch 74/200\n",
            "40/40 [==============================] - 0s 4ms/step - loss: 0.0215 - accuracy: 1.0000 - val_loss: 0.0209 - val_accuracy: 1.0000\n",
            "Epoch 75/200\n",
            "40/40 [==============================] - 0s 4ms/step - loss: 0.0209 - accuracy: 1.0000 - val_loss: 0.0190 - val_accuracy: 1.0000\n",
            "Epoch 76/200\n",
            "40/40 [==============================] - 0s 4ms/step - loss: 0.0197 - accuracy: 1.0000 - val_loss: 0.0194 - val_accuracy: 1.0000\n",
            "Epoch 77/200\n",
            "40/40 [==============================] - 0s 4ms/step - loss: 0.0191 - accuracy: 1.0000 - val_loss: 0.0175 - val_accuracy: 1.0000\n",
            "Epoch 78/200\n",
            "40/40 [==============================] - 0s 4ms/step - loss: 0.0180 - accuracy: 1.0000 - val_loss: 0.0169 - val_accuracy: 1.0000\n",
            "Epoch 79/200\n",
            "40/40 [==============================] - 0s 4ms/step - loss: 0.0174 - accuracy: 1.0000 - val_loss: 0.0159 - val_accuracy: 1.0000\n",
            "Epoch 80/200\n",
            "40/40 [==============================] - 0s 4ms/step - loss: 0.0169 - accuracy: 1.0000 - val_loss: 0.0161 - val_accuracy: 1.0000\n",
            "Epoch 81/200\n",
            "40/40 [==============================] - 0s 4ms/step - loss: 0.0163 - accuracy: 1.0000 - val_loss: 0.0143 - val_accuracy: 1.0000\n",
            "Epoch 82/200\n",
            "40/40 [==============================] - 0s 4ms/step - loss: 0.0161 - accuracy: 1.0000 - val_loss: 0.0142 - val_accuracy: 1.0000\n",
            "Epoch 83/200\n",
            "40/40 [==============================] - 0s 4ms/step - loss: 0.0149 - accuracy: 1.0000 - val_loss: 0.0133 - val_accuracy: 1.0000\n",
            "Epoch 84/200\n",
            "40/40 [==============================] - 0s 4ms/step - loss: 0.0143 - accuracy: 1.0000 - val_loss: 0.0126 - val_accuracy: 1.0000\n",
            "Epoch 85/200\n",
            "40/40 [==============================] - 0s 4ms/step - loss: 0.0139 - accuracy: 1.0000 - val_loss: 0.0127 - val_accuracy: 1.0000\n",
            "Epoch 86/200\n",
            "40/40 [==============================] - 0s 4ms/step - loss: 0.0135 - accuracy: 1.0000 - val_loss: 0.0118 - val_accuracy: 1.0000\n",
            "Epoch 87/200\n",
            "40/40 [==============================] - 0s 4ms/step - loss: 0.0128 - accuracy: 1.0000 - val_loss: 0.0117 - val_accuracy: 1.0000\n",
            "Epoch 88/200\n",
            "40/40 [==============================] - 0s 4ms/step - loss: 0.0124 - accuracy: 1.0000 - val_loss: 0.0108 - val_accuracy: 1.0000\n",
            "Epoch 89/200\n",
            "40/40 [==============================] - 0s 4ms/step - loss: 0.0120 - accuracy: 1.0000 - val_loss: 0.0105 - val_accuracy: 1.0000\n",
            "Epoch 90/200\n",
            "40/40 [==============================] - 0s 4ms/step - loss: 0.0116 - accuracy: 1.0000 - val_loss: 0.0110 - val_accuracy: 1.0000\n",
            "Epoch 91/200\n",
            "40/40 [==============================] - 0s 4ms/step - loss: 0.0111 - accuracy: 1.0000 - val_loss: 0.0093 - val_accuracy: 1.0000\n",
            "Epoch 92/200\n",
            "40/40 [==============================] - 0s 4ms/step - loss: 0.0107 - accuracy: 1.0000 - val_loss: 0.0093 - val_accuracy: 1.0000\n",
            "Epoch 93/200\n",
            "40/40 [==============================] - 0s 4ms/step - loss: 0.0103 - accuracy: 1.0000 - val_loss: 0.0089 - val_accuracy: 1.0000\n",
            "Epoch 94/200\n",
            "40/40 [==============================] - 0s 4ms/step - loss: 0.0100 - accuracy: 1.0000 - val_loss: 0.0085 - val_accuracy: 1.0000\n",
            "Epoch 95/200\n",
            "40/40 [==============================] - 0s 4ms/step - loss: 0.0097 - accuracy: 1.0000 - val_loss: 0.0082 - val_accuracy: 1.0000\n",
            "Epoch 96/200\n",
            "40/40 [==============================] - 0s 4ms/step - loss: 0.0094 - accuracy: 1.0000 - val_loss: 0.0080 - val_accuracy: 1.0000\n",
            "Epoch 97/200\n",
            "40/40 [==============================] - 0s 4ms/step - loss: 0.0091 - accuracy: 1.0000 - val_loss: 0.0079 - val_accuracy: 1.0000\n",
            "Epoch 98/200\n",
            "40/40 [==============================] - 0s 4ms/step - loss: 0.0087 - accuracy: 1.0000 - val_loss: 0.0075 - val_accuracy: 1.0000\n",
            "Epoch 99/200\n",
            "40/40 [==============================] - 0s 4ms/step - loss: 0.0085 - accuracy: 1.0000 - val_loss: 0.0071 - val_accuracy: 1.0000\n",
            "Epoch 100/200\n",
            "40/40 [==============================] - 0s 4ms/step - loss: 0.0082 - accuracy: 1.0000 - val_loss: 0.0066 - val_accuracy: 1.0000\n",
            "Epoch 101/200\n",
            "40/40 [==============================] - 0s 4ms/step - loss: 0.0079 - accuracy: 1.0000 - val_loss: 0.0070 - val_accuracy: 1.0000\n",
            "Epoch 102/200\n",
            "40/40 [==============================] - 0s 4ms/step - loss: 0.0078 - accuracy: 1.0000 - val_loss: 0.0065 - val_accuracy: 1.0000\n",
            "Epoch 103/200\n",
            "40/40 [==============================] - 0s 4ms/step - loss: 0.0074 - accuracy: 1.0000 - val_loss: 0.0064 - val_accuracy: 1.0000\n",
            "Epoch 104/200\n",
            "40/40 [==============================] - 0s 4ms/step - loss: 0.0073 - accuracy: 1.0000 - val_loss: 0.0061 - val_accuracy: 1.0000\n",
            "Epoch 105/200\n",
            "40/40 [==============================] - 0s 4ms/step - loss: 0.0071 - accuracy: 1.0000 - val_loss: 0.0059 - val_accuracy: 1.0000\n",
            "Epoch 106/200\n",
            "40/40 [==============================] - 0s 4ms/step - loss: 0.0068 - accuracy: 1.0000 - val_loss: 0.0053 - val_accuracy: 1.0000\n",
            "Epoch 107/200\n",
            "40/40 [==============================] - 0s 4ms/step - loss: 0.0066 - accuracy: 1.0000 - val_loss: 0.0052 - val_accuracy: 1.0000\n",
            "Epoch 108/200\n",
            "40/40 [==============================] - 0s 6ms/step - loss: 0.0063 - accuracy: 1.0000 - val_loss: 0.0053 - val_accuracy: 1.0000\n",
            "Epoch 109/200\n",
            "40/40 [==============================] - 0s 5ms/step - loss: 0.0062 - accuracy: 1.0000 - val_loss: 0.0048 - val_accuracy: 1.0000\n",
            "Epoch 110/200\n",
            "40/40 [==============================] - 0s 6ms/step - loss: 0.0060 - accuracy: 1.0000 - val_loss: 0.0047 - val_accuracy: 1.0000\n",
            "Epoch 111/200\n",
            "40/40 [==============================] - 0s 6ms/step - loss: 0.0058 - accuracy: 1.0000 - val_loss: 0.0052 - val_accuracy: 1.0000\n",
            "Epoch 112/200\n",
            "40/40 [==============================] - 0s 6ms/step - loss: 0.0056 - accuracy: 1.0000 - val_loss: 0.0044 - val_accuracy: 1.0000\n",
            "Epoch 113/200\n",
            "40/40 [==============================] - 0s 6ms/step - loss: 0.0056 - accuracy: 1.0000 - val_loss: 0.0044 - val_accuracy: 1.0000\n",
            "Epoch 114/200\n",
            "40/40 [==============================] - 0s 7ms/step - loss: 0.0054 - accuracy: 1.0000 - val_loss: 0.0043 - val_accuracy: 1.0000\n",
            "Epoch 115/200\n",
            "40/40 [==============================] - 0s 4ms/step - loss: 0.0052 - accuracy: 1.0000 - val_loss: 0.0041 - val_accuracy: 1.0000\n",
            "Epoch 116/200\n",
            "40/40 [==============================] - 0s 4ms/step - loss: 0.0050 - accuracy: 1.0000 - val_loss: 0.0042 - val_accuracy: 1.0000\n",
            "Epoch 117/200\n",
            "40/40 [==============================] - 0s 4ms/step - loss: 0.0048 - accuracy: 1.0000 - val_loss: 0.0039 - val_accuracy: 1.0000\n",
            "Epoch 118/200\n",
            "40/40 [==============================] - 0s 4ms/step - loss: 0.0047 - accuracy: 1.0000 - val_loss: 0.0037 - val_accuracy: 1.0000\n",
            "Epoch 119/200\n",
            "40/40 [==============================] - 0s 4ms/step - loss: 0.0046 - accuracy: 1.0000 - val_loss: 0.0038 - val_accuracy: 1.0000\n",
            "Epoch 120/200\n",
            "40/40 [==============================] - 0s 4ms/step - loss: 0.0044 - accuracy: 1.0000 - val_loss: 0.0034 - val_accuracy: 1.0000\n",
            "Epoch 121/200\n",
            "40/40 [==============================] - 0s 4ms/step - loss: 0.0044 - accuracy: 1.0000 - val_loss: 0.0033 - val_accuracy: 1.0000\n",
            "Epoch 122/200\n",
            "40/40 [==============================] - 0s 4ms/step - loss: 0.0042 - accuracy: 1.0000 - val_loss: 0.0032 - val_accuracy: 1.0000\n",
            "Epoch 123/200\n",
            "40/40 [==============================] - 0s 4ms/step - loss: 0.0041 - accuracy: 1.0000 - val_loss: 0.0031 - val_accuracy: 1.0000\n",
            "Epoch 124/200\n",
            "40/40 [==============================] - 0s 4ms/step - loss: 0.0041 - accuracy: 1.0000 - val_loss: 0.0032 - val_accuracy: 1.0000\n",
            "Epoch 125/200\n",
            "40/40 [==============================] - 0s 4ms/step - loss: 0.0039 - accuracy: 1.0000 - val_loss: 0.0029 - val_accuracy: 1.0000\n",
            "Epoch 126/200\n",
            "40/40 [==============================] - 0s 4ms/step - loss: 0.0040 - accuracy: 1.0000 - val_loss: 0.0029 - val_accuracy: 1.0000\n",
            "Epoch 127/200\n",
            "40/40 [==============================] - 0s 4ms/step - loss: 0.0037 - accuracy: 1.0000 - val_loss: 0.0027 - val_accuracy: 1.0000\n",
            "Epoch 128/200\n",
            "40/40 [==============================] - 0s 4ms/step - loss: 0.0035 - accuracy: 1.0000 - val_loss: 0.0027 - val_accuracy: 1.0000\n",
            "Epoch 129/200\n",
            "40/40 [==============================] - 0s 4ms/step - loss: 0.0034 - accuracy: 1.0000 - val_loss: 0.0026 - val_accuracy: 1.0000\n",
            "Epoch 130/200\n",
            "40/40 [==============================] - 0s 4ms/step - loss: 0.0034 - accuracy: 1.0000 - val_loss: 0.0026 - val_accuracy: 1.0000\n",
            "Epoch 131/200\n",
            "40/40 [==============================] - 0s 4ms/step - loss: 0.0033 - accuracy: 1.0000 - val_loss: 0.0027 - val_accuracy: 1.0000\n",
            "Epoch 132/200\n",
            "40/40 [==============================] - 0s 4ms/step - loss: 0.0032 - accuracy: 1.0000 - val_loss: 0.0024 - val_accuracy: 1.0000\n",
            "Epoch 133/200\n",
            "40/40 [==============================] - 0s 4ms/step - loss: 0.0031 - accuracy: 1.0000 - val_loss: 0.0023 - val_accuracy: 1.0000\n",
            "Epoch 134/200\n",
            "40/40 [==============================] - 0s 4ms/step - loss: 0.0030 - accuracy: 1.0000 - val_loss: 0.0022 - val_accuracy: 1.0000\n",
            "Epoch 135/200\n",
            "40/40 [==============================] - 0s 4ms/step - loss: 0.0030 - accuracy: 1.0000 - val_loss: 0.0023 - val_accuracy: 1.0000\n",
            "Epoch 136/200\n",
            "40/40 [==============================] - 0s 4ms/step - loss: 0.0029 - accuracy: 1.0000 - val_loss: 0.0020 - val_accuracy: 1.0000\n",
            "Epoch 137/200\n",
            "40/40 [==============================] - 0s 4ms/step - loss: 0.0028 - accuracy: 1.0000 - val_loss: 0.0021 - val_accuracy: 1.0000\n",
            "Epoch 138/200\n",
            "40/40 [==============================] - 0s 4ms/step - loss: 0.0027 - accuracy: 1.0000 - val_loss: 0.0020 - val_accuracy: 1.0000\n",
            "Epoch 139/200\n",
            "40/40 [==============================] - 0s 4ms/step - loss: 0.0027 - accuracy: 1.0000 - val_loss: 0.0019 - val_accuracy: 1.0000\n",
            "Epoch 140/200\n",
            "40/40 [==============================] - 0s 4ms/step - loss: 0.0026 - accuracy: 1.0000 - val_loss: 0.0019 - val_accuracy: 1.0000\n",
            "Epoch 141/200\n",
            "40/40 [==============================] - 0s 4ms/step - loss: 0.0025 - accuracy: 1.0000 - val_loss: 0.0019 - val_accuracy: 1.0000\n",
            "Epoch 142/200\n",
            "40/40 [==============================] - 0s 4ms/step - loss: 0.0025 - accuracy: 1.0000 - val_loss: 0.0018 - val_accuracy: 1.0000\n",
            "Epoch 143/200\n",
            "40/40 [==============================] - 0s 4ms/step - loss: 0.0024 - accuracy: 1.0000 - val_loss: 0.0017 - val_accuracy: 1.0000\n",
            "Epoch 144/200\n",
            "40/40 [==============================] - 0s 4ms/step - loss: 0.0023 - accuracy: 1.0000 - val_loss: 0.0019 - val_accuracy: 1.0000\n",
            "Epoch 145/200\n",
            "40/40 [==============================] - 0s 4ms/step - loss: 0.0023 - accuracy: 1.0000 - val_loss: 0.0017 - val_accuracy: 1.0000\n",
            "Epoch 146/200\n",
            "40/40 [==============================] - 0s 4ms/step - loss: 0.0022 - accuracy: 1.0000 - val_loss: 0.0016 - val_accuracy: 1.0000\n",
            "Epoch 147/200\n",
            "40/40 [==============================] - 0s 4ms/step - loss: 0.0021 - accuracy: 1.0000 - val_loss: 0.0015 - val_accuracy: 1.0000\n",
            "Epoch 148/200\n",
            "40/40 [==============================] - 0s 4ms/step - loss: 0.0021 - accuracy: 1.0000 - val_loss: 0.0015 - val_accuracy: 1.0000\n",
            "Epoch 149/200\n",
            "40/40 [==============================] - 0s 4ms/step - loss: 0.0021 - accuracy: 1.0000 - val_loss: 0.0015 - val_accuracy: 1.0000\n",
            "Epoch 150/200\n",
            "40/40 [==============================] - 0s 4ms/step - loss: 0.0020 - accuracy: 1.0000 - val_loss: 0.0015 - val_accuracy: 1.0000\n",
            "Epoch 151/200\n",
            "40/40 [==============================] - 0s 4ms/step - loss: 0.0020 - accuracy: 1.0000 - val_loss: 0.0015 - val_accuracy: 1.0000\n",
            "Epoch 152/200\n",
            "40/40 [==============================] - 0s 4ms/step - loss: 0.0019 - accuracy: 1.0000 - val_loss: 0.0013 - val_accuracy: 1.0000\n",
            "Epoch 153/200\n",
            "40/40 [==============================] - 0s 4ms/step - loss: 0.0018 - accuracy: 1.0000 - val_loss: 0.0014 - val_accuracy: 1.0000\n",
            "Epoch 154/200\n",
            "40/40 [==============================] - 0s 3ms/step - loss: 0.0018 - accuracy: 1.0000 - val_loss: 0.0013 - val_accuracy: 1.0000\n",
            "Epoch 155/200\n",
            "40/40 [==============================] - 0s 4ms/step - loss: 0.0018 - accuracy: 1.0000 - val_loss: 0.0013 - val_accuracy: 1.0000\n",
            "Epoch 156/200\n",
            "40/40 [==============================] - 0s 4ms/step - loss: 0.0017 - accuracy: 1.0000 - val_loss: 0.0012 - val_accuracy: 1.0000\n",
            "Epoch 157/200\n",
            "40/40 [==============================] - 0s 4ms/step - loss: 0.0016 - accuracy: 1.0000 - val_loss: 0.0012 - val_accuracy: 1.0000\n",
            "Epoch 158/200\n",
            "40/40 [==============================] - 0s 4ms/step - loss: 0.0016 - accuracy: 1.0000 - val_loss: 0.0012 - val_accuracy: 1.0000\n",
            "Epoch 159/200\n",
            "40/40 [==============================] - 0s 4ms/step - loss: 0.0016 - accuracy: 1.0000 - val_loss: 0.0011 - val_accuracy: 1.0000\n",
            "Epoch 160/200\n",
            "40/40 [==============================] - 0s 4ms/step - loss: 0.0016 - accuracy: 1.0000 - val_loss: 0.0012 - val_accuracy: 1.0000\n",
            "Epoch 161/200\n",
            "40/40 [==============================] - 0s 4ms/step - loss: 0.0015 - accuracy: 1.0000 - val_loss: 0.0011 - val_accuracy: 1.0000\n",
            "Epoch 162/200\n",
            "40/40 [==============================] - 0s 4ms/step - loss: 0.0015 - accuracy: 1.0000 - val_loss: 0.0010 - val_accuracy: 1.0000\n",
            "Epoch 163/200\n",
            "40/40 [==============================] - 0s 4ms/step - loss: 0.0015 - accuracy: 1.0000 - val_loss: 0.0010 - val_accuracy: 1.0000\n",
            "Epoch 164/200\n",
            "40/40 [==============================] - 0s 4ms/step - loss: 0.0014 - accuracy: 1.0000 - val_loss: 9.8853e-04 - val_accuracy: 1.0000\n",
            "Epoch 165/200\n",
            "40/40 [==============================] - 0s 4ms/step - loss: 0.0014 - accuracy: 1.0000 - val_loss: 9.4429e-04 - val_accuracy: 1.0000\n",
            "Epoch 166/200\n",
            "40/40 [==============================] - 0s 4ms/step - loss: 0.0013 - accuracy: 1.0000 - val_loss: 9.3537e-04 - val_accuracy: 1.0000\n",
            "Epoch 167/200\n",
            "40/40 [==============================] - 0s 4ms/step - loss: 0.0013 - accuracy: 1.0000 - val_loss: 9.2051e-04 - val_accuracy: 1.0000\n",
            "Epoch 168/200\n",
            "40/40 [==============================] - 0s 4ms/step - loss: 0.0013 - accuracy: 1.0000 - val_loss: 8.7395e-04 - val_accuracy: 1.0000\n",
            "Epoch 169/200\n",
            "40/40 [==============================] - 0s 4ms/step - loss: 0.0013 - accuracy: 1.0000 - val_loss: 8.6717e-04 - val_accuracy: 1.0000\n",
            "Epoch 170/200\n",
            "40/40 [==============================] - 0s 4ms/step - loss: 0.0012 - accuracy: 1.0000 - val_loss: 8.2911e-04 - val_accuracy: 1.0000\n",
            "Epoch 171/200\n",
            "40/40 [==============================] - 0s 4ms/step - loss: 0.0012 - accuracy: 1.0000 - val_loss: 8.2748e-04 - val_accuracy: 1.0000\n",
            "Epoch 172/200\n",
            "40/40 [==============================] - 0s 4ms/step - loss: 0.0012 - accuracy: 1.0000 - val_loss: 8.4668e-04 - val_accuracy: 1.0000\n",
            "Epoch 173/200\n",
            "40/40 [==============================] - 0s 4ms/step - loss: 0.0011 - accuracy: 1.0000 - val_loss: 8.0393e-04 - val_accuracy: 1.0000\n",
            "Epoch 174/200\n",
            "40/40 [==============================] - 0s 4ms/step - loss: 0.0011 - accuracy: 1.0000 - val_loss: 7.7941e-04 - val_accuracy: 1.0000\n",
            "Epoch 175/200\n",
            "40/40 [==============================] - 0s 4ms/step - loss: 0.0011 - accuracy: 1.0000 - val_loss: 7.6314e-04 - val_accuracy: 1.0000\n",
            "Epoch 176/200\n",
            "40/40 [==============================] - 0s 4ms/step - loss: 0.0010 - accuracy: 1.0000 - val_loss: 7.5693e-04 - val_accuracy: 1.0000\n",
            "Epoch 177/200\n",
            "40/40 [==============================] - 0s 5ms/step - loss: 0.0010 - accuracy: 1.0000 - val_loss: 7.0268e-04 - val_accuracy: 1.0000\n",
            "Epoch 178/200\n",
            "40/40 [==============================] - 0s 7ms/step - loss: 9.9472e-04 - accuracy: 1.0000 - val_loss: 6.6749e-04 - val_accuracy: 1.0000\n",
            "Epoch 179/200\n",
            "40/40 [==============================] - 0s 6ms/step - loss: 9.7192e-04 - accuracy: 1.0000 - val_loss: 6.9040e-04 - val_accuracy: 1.0000\n",
            "Epoch 180/200\n",
            "40/40 [==============================] - 0s 7ms/step - loss: 9.6014e-04 - accuracy: 1.0000 - val_loss: 6.5044e-04 - val_accuracy: 1.0000\n",
            "Epoch 181/200\n",
            "40/40 [==============================] - 0s 6ms/step - loss: 9.3408e-04 - accuracy: 1.0000 - val_loss: 6.6134e-04 - val_accuracy: 1.0000\n",
            "Epoch 182/200\n",
            "40/40 [==============================] - 0s 7ms/step - loss: 9.0287e-04 - accuracy: 1.0000 - val_loss: 6.1851e-04 - val_accuracy: 1.0000\n",
            "Epoch 183/200\n",
            "40/40 [==============================] - 0s 6ms/step - loss: 9.0676e-04 - accuracy: 1.0000 - val_loss: 6.0570e-04 - val_accuracy: 1.0000\n",
            "Epoch 184/200\n",
            "40/40 [==============================] - 0s 4ms/step - loss: 8.6209e-04 - accuracy: 1.0000 - val_loss: 5.8477e-04 - val_accuracy: 1.0000\n",
            "Epoch 185/200\n",
            "40/40 [==============================] - 0s 4ms/step - loss: 8.3729e-04 - accuracy: 1.0000 - val_loss: 6.1060e-04 - val_accuracy: 1.0000\n",
            "Epoch 186/200\n",
            "40/40 [==============================] - 0s 4ms/step - loss: 8.1930e-04 - accuracy: 1.0000 - val_loss: 5.4936e-04 - val_accuracy: 1.0000\n",
            "Epoch 187/200\n",
            "40/40 [==============================] - 0s 4ms/step - loss: 7.9242e-04 - accuracy: 1.0000 - val_loss: 5.4440e-04 - val_accuracy: 1.0000\n",
            "Epoch 188/200\n",
            "40/40 [==============================] - 0s 4ms/step - loss: 7.8502e-04 - accuracy: 1.0000 - val_loss: 5.2589e-04 - val_accuracy: 1.0000\n",
            "Epoch 189/200\n",
            "40/40 [==============================] - 0s 4ms/step - loss: 7.8017e-04 - accuracy: 1.0000 - val_loss: 4.9938e-04 - val_accuracy: 1.0000\n",
            "Epoch 190/200\n",
            "40/40 [==============================] - 0s 4ms/step - loss: 7.4591e-04 - accuracy: 1.0000 - val_loss: 4.9001e-04 - val_accuracy: 1.0000\n",
            "Epoch 191/200\n",
            "40/40 [==============================] - 0s 4ms/step - loss: 7.2653e-04 - accuracy: 1.0000 - val_loss: 5.1108e-04 - val_accuracy: 1.0000\n",
            "Epoch 192/200\n",
            "40/40 [==============================] - 0s 4ms/step - loss: 7.0975e-04 - accuracy: 1.0000 - val_loss: 4.8657e-04 - val_accuracy: 1.0000\n",
            "Epoch 193/200\n",
            "40/40 [==============================] - 0s 4ms/step - loss: 6.8812e-04 - accuracy: 1.0000 - val_loss: 4.7053e-04 - val_accuracy: 1.0000\n",
            "Epoch 194/200\n",
            "40/40 [==============================] - 0s 4ms/step - loss: 6.8618e-04 - accuracy: 1.0000 - val_loss: 4.7636e-04 - val_accuracy: 1.0000\n",
            "Epoch 195/200\n",
            "40/40 [==============================] - 0s 4ms/step - loss: 6.6581e-04 - accuracy: 1.0000 - val_loss: 4.6387e-04 - val_accuracy: 1.0000\n",
            "Epoch 196/200\n",
            "40/40 [==============================] - 0s 4ms/step - loss: 6.7030e-04 - accuracy: 1.0000 - val_loss: 4.8277e-04 - val_accuracy: 1.0000\n",
            "Epoch 197/200\n",
            "40/40 [==============================] - 0s 4ms/step - loss: 6.2765e-04 - accuracy: 1.0000 - val_loss: 4.2107e-04 - val_accuracy: 1.0000\n",
            "Epoch 198/200\n",
            "40/40 [==============================] - 0s 4ms/step - loss: 6.1161e-04 - accuracy: 1.0000 - val_loss: 4.1546e-04 - val_accuracy: 1.0000\n",
            "Epoch 199/200\n",
            "40/40 [==============================] - 0s 4ms/step - loss: 6.1493e-04 - accuracy: 1.0000 - val_loss: 4.3416e-04 - val_accuracy: 1.0000\n",
            "Epoch 200/200\n",
            "40/40 [==============================] - 0s 4ms/step - loss: 6.2013e-04 - accuracy: 1.0000 - val_loss: 3.9762e-04 - val_accuracy: 1.0000\n"
          ]
        },
        {
          "output_type": "execute_result",
          "data": {
            "text/plain": [
              "<keras.src.callbacks.History at 0x7826e88b1d50>"
            ]
          },
          "metadata": {},
          "execution_count": 117
        }
      ]
    },
    {
      "cell_type": "markdown",
      "source": [],
      "metadata": {
        "id": "YSFhNgktBM-L"
      }
    },
    {
      "cell_type": "code",
      "source": [
        "plot_decision_boundary(model_moons, X_moons, y_moons_2)"
      ],
      "metadata": {
        "colab": {
          "base_uri": "https://localhost:8080/",
          "height": 507
        },
        "id": "otFD_tJ-v-LA",
        "outputId": "e4033e73-08c3-4cfd-dcd9-67b2815ad790"
      },
      "execution_count": null,
      "outputs": [
        {
          "output_type": "stream",
          "name": "stdout",
          "text": [
            "2040/2040 [==============================] - 4s 2ms/step\n",
            "2040/2040 [==============================] - 4s 2ms/step\n"
          ]
        },
        {
          "output_type": "display_data",
          "data": {
            "text/plain": [
              "<Figure size 640x480 with 1 Axes>"
            ],
            "image/png": "[encoded data removed]"
          },
          "metadata": {}
        }
      ]
    },
    {
      "cell_type": "code",
      "source": [
        "y_moons_2"
      ],
      "metadata": {
        "colab": {
          "base_uri": "https://localhost:8080/"
        },
        "id": "S1p2Lan3oP8M",
        "outputId": "970a22a5-1ceb-4a70-e197-f22fd653f8c9"
      },
      "execution_count": null,
      "outputs": [
        {
          "output_type": "execute_result",
          "data": {
            "text/plain": [
              "array([0, 1, 0, 0, 0, 0, 0, 0, 0, 0, 1, 0, 1, 1, 0, 0, 1, 0, 0, 1, 0, 0,\n",
              "       1, 1, 0, 0, 1, 0, 1, 1, 0, 0, 1, 0, 0, 1, 0, 1, 0, 1, 1, 1, 0, 0,\n",
              "       0, 1, 0, 0, 0, 0, 0, 1, 0, 0, 0, 1, 0, 1, 1, 0, 0, 0, 1, 1, 0, 0,\n",
              "       0, 1, 1, 0, 1, 1, 1, 1, 1, 1, 1, 1, 1, 0, 0, 1, 1, 0, 0, 1, 1, 1,\n",
              "       0, 1, 0, 0, 1, 1, 1, 0, 1, 0, 1, 1, 0, 1, 1, 1, 1, 0, 1, 1, 1, 0,\n",
              "       0, 0, 1, 1, 1, 1, 0, 1, 0, 0, 0, 1, 1, 0, 0, 1, 0, 1, 0, 0, 0, 1,\n",
              "       0, 1, 0, 1, 0, 0, 1, 1, 1, 1, 0, 1, 1, 0, 0, 1, 1, 0, 1, 0, 0, 1,\n",
              "       0, 1, 0, 0, 0, 0, 1, 0, 1, 0, 0, 1, 0, 1, 1, 1, 0, 1, 0, 1, 1, 0,\n",
              "       1, 1, 0, 0, 0, 0, 0, 0, 1, 1, 0, 1, 1, 1, 0, 0, 1, 0, 1, 0, 1, 0,\n",
              "       1, 0, 1, 0, 0, 0, 0, 0, 0, 1, 0, 1, 1, 1, 0, 0, 0, 0, 0, 1, 0, 1,\n",
              "       1, 0, 0, 1, 0, 1, 1, 0, 0, 0, 1, 1, 0, 1, 0, 0, 1, 1, 0, 0, 1, 1,\n",
              "       0, 1, 1, 0, 0, 1, 1, 1, 1, 0, 1, 0, 1, 1, 1, 0, 0, 1, 0, 0, 1, 0,\n",
              "       1, 1, 0, 1, 0, 0, 1, 0, 0, 1, 1, 1, 0, 0, 1, 0, 1, 1, 1, 0, 1, 1,\n",
              "       0, 0, 1, 0, 1, 1, 1, 0, 0, 0, 1, 1, 1, 0, 1, 0, 0, 1, 0, 0, 1, 1,\n",
              "       1, 0, 1, 0, 1, 0, 1, 0, 1, 1, 0, 0, 1, 1, 0, 0, 1, 1, 0, 1, 1, 0,\n",
              "       0, 1, 1, 1, 1, 1, 1, 0, 1, 0, 1, 0, 1, 0, 0, 0, 0, 1, 0, 1, 0, 1,\n",
              "       1, 1, 1, 1, 0, 0, 1, 1, 1, 1, 0, 0, 0, 0, 0, 0, 0, 1, 0, 0, 0, 0,\n",
              "       1, 0, 0, 1, 0, 1, 1, 1, 1, 0, 0, 0, 0, 0, 0, 0, 0, 0, 1, 0, 1, 1,\n",
              "       1, 0, 1, 1, 1, 0, 0, 0, 0, 0, 0, 0, 0, 1, 1, 0, 1, 0, 1, 1, 0, 1,\n",
              "       0, 1, 0, 1, 1, 1, 1, 0, 0, 1, 1, 1, 1, 1, 1, 1, 1, 0, 0, 0, 1, 1,\n",
              "       1, 0, 1, 0, 1, 0, 0, 1, 1, 1, 0, 0, 1, 1, 0, 1, 0, 0, 1, 1, 1, 0,\n",
              "       0, 1, 0, 1, 0, 0, 1, 0, 1, 0, 1, 0, 0, 0, 0, 0, 1, 0, 1, 1, 0, 1,\n",
              "       1, 1, 0, 1, 0, 1, 1, 0, 1, 1, 0, 1, 1, 1, 0, 1])"
            ]
          },
          "metadata": {},
          "execution_count": 104
        }
      ]
    },
    {
      "cell_type": "markdown",
      "source": [
        "### Regresja dla datasetu INCOME\n",
        "\n",
        "Zadanie regresji z wykorzystaniem modelu sieci neuronowej dla zbioru danych dotyczących informacji o różnych krajach:\n",
        "\n",
        "1. Wczytaj zbiór danych, który zawiera informacje o krajach, takie jak GDP per capita, średnia długość życia, liczba ludności i kontynent.\n",
        "\n",
        "2. Przygotuj zbiór treningowy i testowy, podzielając dane na odpowiednie podzbiory. Możesz wykorzystać funkcję `train_test_split` z biblioteki `sklearn.model_selection`. Przygotuj standaryzacje zmiennych.\n",
        "\n",
        "3. Stwórz model sieci neuronowej za pomocą biblioteki `tensorflow.keras.models`. Wybierz odpowiednią architekturę sieci, uwzględniając liczby wejść i wyjść, a także odpowiednie funkcje aktywacji dla warstw pośrednich.\n",
        "\n",
        "4. Skompiluj model, używając odpowiedniej funkcji straty i optymalizatora. W przypadku regresji, popularne funkcje straty to np. `mean_squared_error` lub `mean_absolute_error`, a optymalizatory to np. `Adam` lub `SGD`. Dodaj również metrykę, taką jak `mean_absolute_error` lub `mean_squared_error`, aby ocenić wydajność modelu.\n",
        "\n",
        "5. Trenuj model na zbiorze treningowym przez określoną liczbę epok, używając funkcji `fit`. Monitoruj postęp modelu na zbiorze walidacyjnym, aby ocenić jego wydajność i uniknąć przeuczenia.\n",
        "\n",
        "6. Ewaluuj model na zbiorze testowym, używając funkcji `evaluate`. Sprawdź wartość funkcji straty i ewentualnie inne metryki, aby ocenić, jak dobrze model generalizuje na nowych danych.\n",
        "\n",
        "7. Opcjonalnie, wykonaj predykcje na nowych danych przy użyciu funkcji `predict`. Możesz przetestować model, podając mu nowe dane dotyczące krajów i sprawdzając, jak dobrze przewiduje wartość GDP per capita na podstawie innych cech.\n",
        "\n",
        "To zadanie regresji pozwoli Ci przewidywać wartość GDP per capita na podstawie innych informacji o krajach, takich jak średnia długość życia, liczba ludności i kontynent."
      ],
      "metadata": {
        "id": "X2hDjeKmsr7H"
      }
    },
    {
      "cell_type": "code",
      "source": [
        "import pandas as pd\n",
        "from sklearn.model_selection import train_test_split\n",
        "\n",
        "\n",
        "income_df = pd.read_csv('https://raw.githubusercontent.com/marcin119a/PUMP2/main/income.csv', sep=';')\n",
        "income_df.head()"
      ],
      "metadata": {
        "colab": {
          "base_uri": "https://localhost:8080/",
          "height": 206
        },
        "id": "su1m_jJPbqnk",
        "outputId": "285c73b5-a6f6-4ecb-9e5d-68a137aaf566"
      },
      "execution_count": null,
      "outputs": [
        {
          "output_type": "execute_result",
          "data": {
            "text/plain": [
              "                    Country  GDP per capita  Life expectancy  Population  \\\n",
              "0                   Lesotho            2598             47.1     2174645   \n",
              "1  Central African Republic             599             49.6     4546100   \n",
              "2                 Swaziland            6095             51.8     1319011   \n",
              "3               Afghanistan            1925             53.8    33736494   \n",
              "4                   Somalia             624             54.2    13908129   \n",
              "\n",
              "  Continent  \n",
              "0    Africa  \n",
              "1    Africa  \n",
              "2    Africa  \n",
              "3      Asia  \n",
              "4    Africa  "
            ],
            "text/html": [
              "\n",
              "  <div id=\"df-44aff1e9-65a3-4d35-b6d6-a1d33903dbc0\" class=\"colab-df-container\">\n",
              "    <div>\n",
              "<style scoped>\n",
              "    .dataframe tbody tr th:only-of-type {\n",
              "        vertical-align: middle;\n",
              "    }\n",
              "\n",
              "    .dataframe tbody tr th {\n",
              "        vertical-align: top;\n",
              "    }\n",
              "\n",
              "    .dataframe thead th {\n",
              "        text-align: right;\n",
              "    }\n",
              "</style>\n",
              "<table border=\"1\" class=\"dataframe\">\n",
              "  <thead>\n",
              "    <tr style=\"text-align: right;\">\n",
              "      <th></th>\n",
              "      <th>Country</th>\n",
              "      <th>GDP per capita</th>\n",
              "      <th>Life expectancy</th>\n",
              "      <th>Population</th>\n",
              "      <th>Continent</th>\n",
              "    </tr>\n",
              "  </thead>\n",
              "  <tbody>\n",
              "    <tr>\n",
              "      <th>0</th>\n",
              "      <td>Lesotho</td>\n",
              "      <td>2598</td>\n",
              "      <td>47.1</td>\n",
              "      <td>2174645</td>\n",
              "      <td>Africa</td>\n",
              "    </tr>\n",
              "    <tr>\n",
              "      <th>1</th>\n",
              "      <td>Central African Republic</td>\n",
              "      <td>599</td>\n",
              "      <td>49.6</td>\n",
              "      <td>4546100</td>\n",
              "      <td>Africa</td>\n",
              "    </tr>\n",
              "    <tr>\n",
              "      <th>2</th>\n",
              "      <td>Swaziland</td>\n",
              "      <td>6095</td>\n",
              "      <td>51.8</td>\n",
              "      <td>1319011</td>\n",
              "      <td>Africa</td>\n",
              "    </tr>\n",
              "    <tr>\n",
              "      <th>3</th>\n",
              "      <td>Afghanistan</td>\n",
              "      <td>1925</td>\n",
              "      <td>53.8</td>\n",
              "      <td>33736494</td>\n",
              "      <td>Asia</td>\n",
              "    </tr>\n",
              "    <tr>\n",
              "      <th>4</th>\n",
              "      <td>Somalia</td>\n",
              "      <td>624</td>\n",
              "      <td>54.2</td>\n",
              "      <td>13908129</td>\n",
              "      <td>Africa</td>\n",
              "    </tr>\n",
              "  </tbody>\n",
              "</table>\n",
              "</div>\n",
              "    <div class=\"colab-df-buttons\">\n",
              "\n",
              "  <div class=\"colab-df-container\">\n",
              "    <button class=\"colab-df-convert\" onclick=\"convertToInteractive('df-44aff1e9-65a3-4d35-b6d6-a1d33903dbc0')\"\n",
              "            title=\"Convert this dataframe to an interactive table.\"\n",
              "            style=\"display:none;\">\n",
              "\n",
              "  <svg xmlns=\"http://www.w3.org/2000/svg\" height=\"24px\" viewBox=\"0 -960 960 960\">\n",
              "    <path d=\"M120-120v-720h720v720H120Zm60-500h600v-160H180v160Zm220 220h160v-160H400v160Zm0 220h160v-160H400v160ZM180-400h160v-160H180v160Zm440 0h160v-160H620v160ZM180-180h160v-160H180v160Zm440 0h160v-160H620v160Z\"/>\n",
              "  </svg>\n",
              "    </button>\n",
              "\n",
              "  <style>\n",
              "    .colab-df-container {\n",
              "      display:flex;\n",
              "      gap: 12px;\n",
              "    }\n",
              "\n",
              "    .colab-df-convert {\n",
              "      background-color: #E8F0FE;\n",
              "      border: none;\n",
              "      border-radius: 50%;\n",
              "      cursor: pointer;\n",
              "      display: none;\n",
              "      fill: #1967D2;\n",
              "      height: 32px;\n",
              "      padding: 0 0 0 0;\n",
              "      width: 32px;\n",
              "    }\n",
              "\n",
              "    .colab-df-convert:hover {\n",
              "      background-color: #E2EBFA;\n",
              "      box-shadow: 0px 1px 2px rgba(60, 64, 67, 0.3), 0px 1px 3px 1px rgba(60, 64, 67, 0.15);\n",
              "      fill: #174EA6;\n",
              "    }\n",
              "\n",
              "    .colab-df-buttons div {\n",
              "      margin-bottom: 4px;\n",
              "    }\n",
              "\n",
              "    [theme=dark] .colab-df-convert {\n",
              "      background-color: #3B4455;\n",
              "      fill: #D2E3FC;\n",
              "    }\n",
              "\n",
              "    [theme=dark] .colab-df-convert:hover {\n",
              "      background-color: #434B5C;\n",
              "      box-shadow: 0px 1px 3px 1px rgba(0, 0, 0, 0.15);\n",
              "      filter: drop-shadow(0px 1px 2px rgba(0, 0, 0, 0.3));\n",
              "      fill: #FFFFFF;\n",
              "    }\n",
              "  </style>\n",
              "\n",
              "    <script>\n",
              "      const buttonEl =\n",
              "        document.querySelector('#df-44aff1e9-65a3-4d35-b6d6-a1d33903dbc0 button.colab-df-convert');\n",
              "      buttonEl.style.display =\n",
              "        google.colab.kernel.accessAllowed ? 'block' : 'none';\n",
              "\n",
              "      async function convertToInteractive(key) {\n",
              "        const element = document.querySelector('#df-44aff1e9-65a3-4d35-b6d6-a1d33903dbc0');\n",
              "        const dataTable =\n",
              "          await google.colab.kernel.invokeFunction('convertToInteractive',\n",
              "                                                    [key], {});\n",
              "        if (!dataTable) return;\n",
              "\n",
              "        const docLinkHtml = 'Like what you see? Visit the ' +\n",
              "          '<a target=\"_blank\" href=https://colab.research.google.com/notebooks/data_table.ipynb>data table notebook</a>'\n",
              "          + ' to learn more about interactive tables.';\n",
              "        element.innerHTML = '';\n",
              "        dataTable['output_type'] = 'display_data';\n",
              "        await google.colab.output.renderOutput(dataTable, element);\n",
              "        const docLink = document.createElement('div');\n",
              "        docLink.innerHTML = docLinkHtml;\n",
              "        element.appendChild(docLink);\n",
              "      }\n",
              "    </script>\n",
              "  </div>\n",
              "\n",
              "\n",
              "<div id=\"df-f30ccc8f-f4fd-40a9-8321-d36763a68be1\">\n",
              "  <button class=\"colab-df-quickchart\" onclick=\"quickchart('df-f30ccc8f-f4fd-40a9-8321-d36763a68be1')\"\n",
              "            title=\"Suggest charts\"\n",
              "            style=\"display:none;\">\n",
              "\n",
              "<svg xmlns=\"http://www.w3.org/2000/svg\" height=\"24px\"viewBox=\"0 0 24 24\"\n",
              "     width=\"24px\">\n",
              "    <g>\n",
              "        <path d=\"M19 3H5c-1.1 0-2 .9-2 2v14c0 1.1.9 2 2 2h14c1.1 0 2-.9 2-2V5c0-1.1-.9-2-2-2zM9 17H7v-7h2v7zm4 0h-2V7h2v10zm4 0h-2v-4h2v4z\"/>\n",
              "    </g>\n",
              "</svg>\n",
              "  </button>\n",
              "\n",
              "<style>\n",
              "  .colab-df-quickchart {\n",
              "      --bg-color: #E8F0FE;\n",
              "      --fill-color: #1967D2;\n",
              "      --hover-bg-color: #E2EBFA;\n",
              "      --hover-fill-color: #174EA6;\n",
              "      --disabled-fill-color: #AAA;\n",
              "      --disabled-bg-color: #DDD;\n",
              "  }\n",
              "\n",
              "  [theme=dark] .colab-df-quickchart {\n",
              "      --bg-color: #3B4455;\n",
              "      --fill-color: #D2E3FC;\n",
              "      --hover-bg-color: #434B5C;\n",
              "      --hover-fill-color: #FFFFFF;\n",
              "      --disabled-bg-color: #3B4455;\n",
              "      --disabled-fill-color: #666;\n",
              "  }\n",
              "\n",
              "  .colab-df-quickchart {\n",
              "    background-color: var(--bg-color);\n",
              "    border: none;\n",
              "    border-radius: 50%;\n",
              "    cursor: pointer;\n",
              "    display: none;\n",
              "    fill: var(--fill-color);\n",
              "    height: 32px;\n",
              "    padding: 0;\n",
              "    width: 32px;\n",
              "  }\n",
              "\n",
              "  .colab-df-quickchart:hover {\n",
              "    background-color: var(--hover-bg-color);\n",
              "    box-shadow: 0 1px 2px rgba(60, 64, 67, 0.3), 0 1px 3px 1px rgba(60, 64, 67, 0.15);\n",
              "    fill: var(--button-hover-fill-color);\n",
              "  }\n",
              "\n",
              "  .colab-df-quickchart-complete:disabled,\n",
              "  .colab-df-quickchart-complete:disabled:hover {\n",
              "    background-color: var(--disabled-bg-color);\n",
              "    fill: var(--disabled-fill-color);\n",
              "    box-shadow: none;\n",
              "  }\n",
              "\n",
              "  .colab-df-spinner {\n",
              "    border: 2px solid var(--fill-color);\n",
              "    border-color: transparent;\n",
              "    border-bottom-color: var(--fill-color);\n",
              "    animation:\n",
              "      spin 1s steps(1) infinite;\n",
              "  }\n",
              "\n",
              "  @keyframes spin {\n",
              "    0% {\n",
              "      border-color: transparent;\n",
              "      border-bottom-color: var(--fill-color);\n",
              "      border-left-color: var(--fill-color);\n",
              "    }\n",
              "    20% {\n",
              "      border-color: transparent;\n",
              "      border-left-color: var(--fill-color);\n",
              "      border-top-color: var(--fill-color);\n",
              "    }\n",
              "    30% {\n",
              "      border-color: transparent;\n",
              "      border-left-color: var(--fill-color);\n",
              "      border-top-color: var(--fill-color);\n",
              "      border-right-color: var(--fill-color);\n",
              "    }\n",
              "    40% {\n",
              "      border-color: transparent;\n",
              "      border-right-color: var(--fill-color);\n",
              "      border-top-color: var(--fill-color);\n",
              "    }\n",
              "    60% {\n",
              "      border-color: transparent;\n",
              "      border-right-color: var(--fill-color);\n",
              "    }\n",
              "    80% {\n",
              "      border-color: transparent;\n",
              "      border-right-color: var(--fill-color);\n",
              "      border-bottom-color: var(--fill-color);\n",
              "    }\n",
              "    90% {\n",
              "      border-color: transparent;\n",
              "      border-bottom-color: var(--fill-color);\n",
              "    }\n",
              "  }\n",
              "</style>\n",
              "\n",
              "  <script>\n",
              "    async function quickchart(key) {\n",
              "      const quickchartButtonEl =\n",
              "        document.querySelector('#' + key + ' button');\n",
              "      quickchartButtonEl.disabled = true;  // To prevent multiple clicks.\n",
              "      quickchartButtonEl.classList.add('colab-df-spinner');\n",
              "      try {\n",
              "        const charts = await google.colab.kernel.invokeFunction(\n",
              "            'suggestCharts', [key], {});\n",
              "      } catch (error) {\n",
              "        console.error('Error during call to suggestCharts:', error);\n",
              "      }\n",
              "      quickchartButtonEl.classList.remove('colab-df-spinner');\n",
              "      quickchartButtonEl.classList.add('colab-df-quickchart-complete');\n",
              "    }\n",
              "    (() => {\n",
              "      let quickchartButtonEl =\n",
              "        document.querySelector('#df-f30ccc8f-f4fd-40a9-8321-d36763a68be1 button');\n",
              "      quickchartButtonEl.style.display =\n",
              "        google.colab.kernel.accessAllowed ? 'block' : 'none';\n",
              "    })();\n",
              "  </script>\n",
              "</div>\n",
              "    </div>\n",
              "  </div>\n"
            ]
          },
          "metadata": {},
          "execution_count": 119
        }
      ]
    },
    {
      "cell_type": "code",
      "source": [
        "X = income_df[['GDP per capita', 'Population']]\n",
        "y = income_df['Life expectancy']\n",
        "from sklearn.preprocessing import StandardScaler\n",
        "\n",
        "\n",
        "X_train, X_test, y_train, y_test = train_test_split(X, y, test_size=0.2, random_state=42)\n",
        "# Inicjalizacja obiektu Standaryzacji\n",
        "scaler = StandardScaler()\n",
        "\n",
        "# Standaryzacja danych treningowych\n",
        "X_train_scaled = scaler.fit_transform(X_train)\n",
        "\n",
        "# Standaryzacja danych testowych\n",
        "X_test_scaled = scaler.transform(X_test)"
      ],
      "metadata": {
        "id": "l8unkY3vbyBY"
      },
      "execution_count": null,
      "outputs": []
    },
    {
      "cell_type": "markdown",
      "source": [
        "1. Wczytaj zbiór danych, który zawiera informacje o krajach, takie jak GDP per capita, średnia długość życia, liczba ludności i kontynent."
      ],
      "metadata": {
        "id": "UNw0XLM8AHTX"
      }
    },
    {
      "cell_type": "code",
      "source": [],
      "metadata": {
        "id": "ytZBJu9VAGsy"
      },
      "execution_count": null,
      "outputs": []
    },
    {
      "cell_type": "markdown",
      "source": [
        "2. Przygotuj zbiór treningowy i testowy, podzielając dane na odpowiednie podzbiory. Możesz wykorzystać funkcję `train_test_split` z biblioteki `sklearn.model_selection`. Przygotuj standaryzacje zmiennych."
      ],
      "metadata": {
        "id": "tzPWDDxrAKua"
      }
    },
    {
      "cell_type": "code",
      "source": [],
      "metadata": {
        "id": "EgnSCvMxAGya"
      },
      "execution_count": null,
      "outputs": []
    },
    {
      "cell_type": "markdown",
      "source": [
        "3. Stwórz model sieci neuronowej za pomocą biblioteki `tensorflow.keras.models`. Wybierz odpowiednią architekturę sieci, uwzględniając liczby wejść i wyjść, a także odpowiednie funkcje aktywacji dla warstw pośrednich.\n"
      ],
      "metadata": {
        "id": "YYs5M7NAAf62"
      }
    },
    {
      "cell_type": "code",
      "source": [
        "model=Sequential()\n",
        "model.add(Dense(10,input_shape=(2,), activation='relu'))\n",
        "model.add(Dense(10, activation='tanh'))\n",
        "model.add(Dense(1, activation='linear'))"
      ],
      "metadata": {
        "id": "T4xGZm3QAG02"
      },
      "execution_count": null,
      "outputs": []
    },
    {
      "cell_type": "markdown",
      "source": [
        "4. Skompiluj model, używając odpowiedniej funkcji straty i optymalizatora. W przypadku regresji, popularne funkcje straty to np. `mean_squared_error` lub `mean_absolute_error`, a optymalizatory to np. `Adam` lub `SGD`. Dodaj również metrykę, taką jak `mean_absolute_error` lub `mean_squared_error`, aby ocenić wydajność modelu."
      ],
      "metadata": {
        "id": "5OqYwP6aAkc8"
      }
    },
    {
      "cell_type": "code",
      "source": [
        "model.compile(loss='mean_squared_error', optimizer=Adam(learning_rate=0.1), metrics=['mean_absolute_error'])"
      ],
      "metadata": {
        "id": "-PzoTzLdAG3c"
      },
      "execution_count": null,
      "outputs": []
    },
    {
      "cell_type": "markdown",
      "source": [
        "5. Trenuj model na zbiorze treningowym przez określoną liczbę epok, używając funkcji `fit`. Monitoruj postęp modelu na zbiorze walidacyjnym, aby ocenić jego wydajność i uniknąć przeuczenia."
      ],
      "metadata": {
        "id": "qV3qZ7K4AmLU"
      }
    },
    {
      "cell_type": "code",
      "source": [
        "model.fit(X_train,y_train, validation_data=(X_test,y_test), epochs=100)"
      ],
      "metadata": {
        "id": "g0iyyn4VAG56",
        "colab": {
          "base_uri": "https://localhost:8080/"
        },
        "outputId": "bd3d229e-0a80-427d-f9f1-d7089677f801"
      },
      "execution_count": null,
      "outputs": [
        {
          "output_type": "stream",
          "name": "stdout",
          "text": [
            "Epoch 1/100\n",
            "5/5 [==============================] - 2s 57ms/step - loss: 4971.3672 - mean_absolute_error: 70.0225 - val_loss: 4537.3032 - val_mean_absolute_error: 66.9377\n",
            "Epoch 2/100\n",
            "5/5 [==============================] - 0s 18ms/step - loss: 4235.4805 - mean_absolute_error: 64.5455 - val_loss: 3837.8662 - val_mean_absolute_error: 61.4916\n",
            "Epoch 3/100\n",
            "5/5 [==============================] - 0s 18ms/step - loss: 3565.4878 - mean_absolute_error: 59.1309 - val_loss: 3208.1011 - val_mean_absolute_error: 56.1378\n",
            "Epoch 4/100\n",
            "5/5 [==============================] - 0s 17ms/step - loss: 2964.2083 - mean_absolute_error: 53.8255 - val_loss: 2649.2188 - val_mean_absolute_error: 50.9173\n",
            "Epoch 5/100\n",
            "5/5 [==============================] - 0s 13ms/step - loss: 2437.6106 - mean_absolute_error: 48.6634 - val_loss: 2159.8811 - val_mean_absolute_error: 45.8610\n",
            "Epoch 6/100\n",
            "5/5 [==============================] - 0s 13ms/step - loss: 1978.7120 - mean_absolute_error: 43.6829 - val_loss: 1739.0381 - val_mean_absolute_error: 41.0170\n",
            "Epoch 7/100\n",
            "5/5 [==============================] - 0s 19ms/step - loss: 1581.8616 - mean_absolute_error: 38.9377 - val_loss: 1383.7565 - val_mean_absolute_error: 36.4295\n",
            "Epoch 8/100\n",
            "5/5 [==============================] - 0s 14ms/step - loss: 1254.3191 - mean_absolute_error: 34.4432 - val_loss: 1086.7738 - val_mean_absolute_error: 32.0956\n",
            "Epoch 9/100\n",
            "5/5 [==============================] - 0s 18ms/step - loss: 981.5168 - mean_absolute_error: 30.2196 - val_loss: 843.5928 - val_mean_absolute_error: 28.0526\n",
            "Epoch 10/100\n",
            "5/5 [==============================] - 0s 17ms/step - loss: 760.3986 - mean_absolute_error: 26.2889 - val_loss: 647.9310 - val_mean_absolute_error: 24.3163\n",
            "Epoch 11/100\n",
            "5/5 [==============================] - 0s 17ms/step - loss: 581.0536 - mean_absolute_error: 22.7076 - val_loss: 493.9131 - val_mean_absolute_error: 20.9109\n",
            "Epoch 12/100\n",
            "5/5 [==============================] - 0s 15ms/step - loss: 441.8155 - mean_absolute_error: 19.5396 - val_loss: 374.2681 - val_mean_absolute_error: 17.8219\n",
            "Epoch 13/100\n",
            "5/5 [==============================] - 0s 9ms/step - loss: 334.2900 - mean_absolute_error: 16.6928 - val_loss: 283.2737 - val_mean_absolute_error: 15.1424\n",
            "Epoch 14/100\n",
            "5/5 [==============================] - 0s 14ms/step - loss: 255.4956 - mean_absolute_error: 14.2305 - val_loss: 214.6962 - val_mean_absolute_error: 12.9344\n",
            "Epoch 15/100\n",
            "5/5 [==============================] - 0s 14ms/step - loss: 196.3397 - mean_absolute_error: 12.3026 - val_loss: 164.5497 - val_mean_absolute_error: 11.3537\n",
            "Epoch 16/100\n",
            "5/5 [==============================] - 0s 10ms/step - loss: 152.1050 - mean_absolute_error: 10.7278 - val_loss: 129.0640 - val_mean_absolute_error: 10.1887\n",
            "Epoch 17/100\n",
            "5/5 [==============================] - 0s 10ms/step - loss: 123.4264 - mean_absolute_error: 9.5806 - val_loss: 103.8510 - val_mean_absolute_error: 9.2219\n",
            "Epoch 18/100\n",
            "5/5 [==============================] - 0s 14ms/step - loss: 101.9327 - mean_absolute_error: 8.7210 - val_loss: 86.8290 - val_mean_absolute_error: 8.4547\n",
            "Epoch 19/100\n",
            "5/5 [==============================] - 0s 15ms/step - loss: 88.1086 - mean_absolute_error: 8.1276 - val_loss: 75.4603 - val_mean_absolute_error: 7.8320\n",
            "Epoch 20/100\n",
            "5/5 [==============================] - 0s 14ms/step - loss: 78.9573 - mean_absolute_error: 7.6833 - val_loss: 68.0702 - val_mean_absolute_error: 7.3515\n",
            "Epoch 21/100\n",
            "5/5 [==============================] - 0s 14ms/step - loss: 73.1335 - mean_absolute_error: 7.3968 - val_loss: 63.4405 - val_mean_absolute_error: 6.9747\n",
            "Epoch 22/100\n",
            "5/5 [==============================] - 0s 13ms/step - loss: 69.4232 - mean_absolute_error: 7.1565 - val_loss: 60.6566 - val_mean_absolute_error: 6.7208\n",
            "Epoch 23/100\n",
            "5/5 [==============================] - 0s 14ms/step - loss: 67.7001 - mean_absolute_error: 7.0155 - val_loss: 58.9210 - val_mean_absolute_error: 6.5743\n",
            "Epoch 24/100\n",
            "5/5 [==============================] - 0s 13ms/step - loss: 66.5190 - mean_absolute_error: 6.8865 - val_loss: 57.9123 - val_mean_absolute_error: 6.4734\n",
            "Epoch 25/100\n",
            "5/5 [==============================] - 0s 14ms/step - loss: 66.0152 - mean_absolute_error: 6.8068 - val_loss: 57.3392 - val_mean_absolute_error: 6.4058\n",
            "Epoch 26/100\n",
            "5/5 [==============================] - 0s 14ms/step - loss: 65.5169 - mean_absolute_error: 6.7413 - val_loss: 57.0779 - val_mean_absolute_error: 6.3708\n",
            "Epoch 27/100\n",
            "5/5 [==============================] - 0s 13ms/step - loss: 65.4849 - mean_absolute_error: 6.7129 - val_loss: 56.8964 - val_mean_absolute_error: 6.3460\n",
            "Epoch 28/100\n",
            "5/5 [==============================] - 0s 13ms/step - loss: 65.4591 - mean_absolute_error: 6.6905 - val_loss: 56.7900 - val_mean_absolute_error: 6.3305\n",
            "Epoch 29/100\n",
            "5/5 [==============================] - 0s 9ms/step - loss: 65.4496 - mean_absolute_error: 6.6668 - val_loss: 56.7335 - val_mean_absolute_error: 6.3197\n",
            "Epoch 30/100\n",
            "5/5 [==============================] - 0s 13ms/step - loss: 65.4459 - mean_absolute_error: 6.6566 - val_loss: 56.7122 - val_mean_absolute_error: 6.3147\n",
            "Epoch 31/100\n",
            "5/5 [==============================] - 0s 14ms/step - loss: 65.4621 - mean_absolute_error: 6.6512 - val_loss: 56.6950 - val_mean_absolute_error: 6.3101\n",
            "Epoch 32/100\n",
            "5/5 [==============================] - 0s 15ms/step - loss: 65.4715 - mean_absolute_error: 6.6490 - val_loss: 56.6958 - val_mean_absolute_error: 6.3103\n",
            "Epoch 33/100\n",
            "5/5 [==============================] - 0s 10ms/step - loss: 65.4619 - mean_absolute_error: 6.6468 - val_loss: 56.6933 - val_mean_absolute_error: 6.3096\n",
            "Epoch 34/100\n",
            "5/5 [==============================] - 0s 14ms/step - loss: 65.4567 - mean_absolute_error: 6.6468 - val_loss: 56.6971 - val_mean_absolute_error: 6.3107\n",
            "Epoch 35/100\n",
            "5/5 [==============================] - 0s 11ms/step - loss: 65.4641 - mean_absolute_error: 6.6507 - val_loss: 56.7095 - val_mean_absolute_error: 6.3140\n",
            "Epoch 36/100\n",
            "5/5 [==============================] - 0s 10ms/step - loss: 65.4505 - mean_absolute_error: 6.6519 - val_loss: 56.7178 - val_mean_absolute_error: 6.3161\n",
            "Epoch 37/100\n",
            "5/5 [==============================] - 0s 9ms/step - loss: 65.4636 - mean_absolute_error: 6.6596 - val_loss: 56.7378 - val_mean_absolute_error: 6.3206\n",
            "Epoch 38/100\n",
            "5/5 [==============================] - 0s 9ms/step - loss: 65.4490 - mean_absolute_error: 6.6619 - val_loss: 56.7443 - val_mean_absolute_error: 6.3220\n",
            "Epoch 39/100\n",
            "5/5 [==============================] - 0s 13ms/step - loss: 65.4734 - mean_absolute_error: 6.6663 - val_loss: 56.7578 - val_mean_absolute_error: 6.3246\n",
            "Epoch 40/100\n",
            "5/5 [==============================] - 0s 14ms/step - loss: 65.4776 - mean_absolute_error: 6.6707 - val_loss: 56.7699 - val_mean_absolute_error: 6.3269\n",
            "Epoch 41/100\n",
            "5/5 [==============================] - 0s 14ms/step - loss: 65.4503 - mean_absolute_error: 6.6670 - val_loss: 56.7463 - val_mean_absolute_error: 6.3224\n",
            "Epoch 42/100\n",
            "5/5 [==============================] - 0s 13ms/step - loss: 65.4591 - mean_absolute_error: 6.6649 - val_loss: 56.7473 - val_mean_absolute_error: 6.3226\n",
            "Epoch 43/100\n",
            "5/5 [==============================] - 0s 13ms/step - loss: 65.4753 - mean_absolute_error: 6.6602 - val_loss: 56.7198 - val_mean_absolute_error: 6.3166\n",
            "Epoch 44/100\n",
            "5/5 [==============================] - 0s 13ms/step - loss: 65.4661 - mean_absolute_error: 6.6550 - val_loss: 56.7107 - val_mean_absolute_error: 6.3143\n",
            "Epoch 45/100\n",
            "5/5 [==============================] - 0s 9ms/step - loss: 65.4720 - mean_absolute_error: 6.6568 - val_loss: 56.7297 - val_mean_absolute_error: 6.3188\n",
            "Epoch 46/100\n",
            "5/5 [==============================] - 0s 9ms/step - loss: 65.4711 - mean_absolute_error: 6.6578 - val_loss: 56.7190 - val_mean_absolute_error: 6.3164\n",
            "Epoch 47/100\n",
            "5/5 [==============================] - 0s 10ms/step - loss: 65.4607 - mean_absolute_error: 6.6580 - val_loss: 56.7333 - val_mean_absolute_error: 6.3197\n",
            "Epoch 48/100\n",
            "5/5 [==============================] - 0s 9ms/step - loss: 65.4522 - mean_absolute_error: 6.6605 - val_loss: 56.7367 - val_mean_absolute_error: 6.3204\n",
            "Epoch 49/100\n",
            "5/5 [==============================] - 0s 10ms/step - loss: 65.4588 - mean_absolute_error: 6.6601 - val_loss: 56.7309 - val_mean_absolute_error: 6.3191\n",
            "Epoch 50/100\n",
            "5/5 [==============================] - 0s 10ms/step - loss: 65.4602 - mean_absolute_error: 6.6615 - val_loss: 56.7488 - val_mean_absolute_error: 6.3229\n",
            "Epoch 51/100\n",
            "5/5 [==============================] - 0s 9ms/step - loss: 65.4521 - mean_absolute_error: 6.6654 - val_loss: 56.7548 - val_mean_absolute_error: 6.3241\n",
            "Epoch 52/100\n",
            "5/5 [==============================] - 0s 13ms/step - loss: 65.4516 - mean_absolute_error: 6.6657 - val_loss: 56.7531 - val_mean_absolute_error: 6.3237\n",
            "Epoch 53/100\n",
            "5/5 [==============================] - 0s 14ms/step - loss: 65.4498 - mean_absolute_error: 6.6652 - val_loss: 56.7476 - val_mean_absolute_error: 6.3226\n",
            "Epoch 54/100\n",
            "5/5 [==============================] - 0s 10ms/step - loss: 65.4549 - mean_absolute_error: 6.6637 - val_loss: 56.7404 - val_mean_absolute_error: 6.3212\n",
            "Epoch 55/100\n",
            "5/5 [==============================] - 0s 10ms/step - loss: 65.4569 - mean_absolute_error: 6.6622 - val_loss: 56.7342 - val_mean_absolute_error: 6.3198\n",
            "Epoch 56/100\n",
            "5/5 [==============================] - 0s 9ms/step - loss: 65.4722 - mean_absolute_error: 6.6579 - val_loss: 56.7222 - val_mean_absolute_error: 6.3171\n",
            "Epoch 57/100\n",
            "5/5 [==============================] - 0s 13ms/step - loss: 65.4634 - mean_absolute_error: 6.6605 - val_loss: 56.7428 - val_mean_absolute_error: 6.3217\n",
            "Epoch 58/100\n",
            "5/5 [==============================] - 0s 14ms/step - loss: 65.4750 - mean_absolute_error: 6.6669 - val_loss: 56.7616 - val_mean_absolute_error: 6.3254\n",
            "Epoch 59/100\n",
            "5/5 [==============================] - 0s 14ms/step - loss: 65.4573 - mean_absolute_error: 6.6691 - val_loss: 56.7621 - val_mean_absolute_error: 6.3255\n",
            "Epoch 60/100\n",
            "5/5 [==============================] - 0s 9ms/step - loss: 65.4550 - mean_absolute_error: 6.6683 - val_loss: 56.7592 - val_mean_absolute_error: 6.3249\n",
            "Epoch 61/100\n",
            "5/5 [==============================] - 0s 10ms/step - loss: 65.4526 - mean_absolute_error: 6.6671 - val_loss: 56.7552 - val_mean_absolute_error: 6.3241\n",
            "Epoch 62/100\n",
            "5/5 [==============================] - 0s 10ms/step - loss: 65.4534 - mean_absolute_error: 6.6647 - val_loss: 56.7392 - val_mean_absolute_error: 6.3209\n",
            "Epoch 63/100\n",
            "5/5 [==============================] - 0s 10ms/step - loss: 65.4550 - mean_absolute_error: 6.6620 - val_loss: 56.7411 - val_mean_absolute_error: 6.3213\n",
            "Epoch 64/100\n",
            "5/5 [==============================] - 0s 11ms/step - loss: 65.4528 - mean_absolute_error: 6.6626 - val_loss: 56.7381 - val_mean_absolute_error: 6.3207\n",
            "Epoch 65/100\n",
            "5/5 [==============================] - 0s 13ms/step - loss: 65.4574 - mean_absolute_error: 6.6598 - val_loss: 56.7284 - val_mean_absolute_error: 6.3186\n",
            "Epoch 66/100\n",
            "5/5 [==============================] - 0s 14ms/step - loss: 65.4672 - mean_absolute_error: 6.6593 - val_loss: 56.7351 - val_mean_absolute_error: 6.3200\n",
            "Epoch 67/100\n",
            "5/5 [==============================] - 0s 14ms/step - loss: 65.4494 - mean_absolute_error: 6.6604 - val_loss: 56.7327 - val_mean_absolute_error: 6.3195\n",
            "Epoch 68/100\n",
            "5/5 [==============================] - 0s 10ms/step - loss: 65.4490 - mean_absolute_error: 6.6589 - val_loss: 56.7259 - val_mean_absolute_error: 6.3180\n",
            "Epoch 69/100\n",
            "5/5 [==============================] - 0s 10ms/step - loss: 65.4551 - mean_absolute_error: 6.6570 - val_loss: 56.7218 - val_mean_absolute_error: 6.3170\n",
            "Epoch 70/100\n",
            "5/5 [==============================] - 0s 9ms/step - loss: 65.4715 - mean_absolute_error: 6.6538 - val_loss: 56.7062 - val_mean_absolute_error: 6.3132\n",
            "Epoch 71/100\n",
            "5/5 [==============================] - 0s 14ms/step - loss: 65.4691 - mean_absolute_error: 6.6510 - val_loss: 56.7033 - val_mean_absolute_error: 6.3124\n",
            "Epoch 72/100\n",
            "5/5 [==============================] - 0s 11ms/step - loss: 65.4704 - mean_absolute_error: 6.6542 - val_loss: 56.7218 - val_mean_absolute_error: 6.3170\n",
            "Epoch 73/100\n",
            "5/5 [==============================] - 0s 11ms/step - loss: 65.4443 - mean_absolute_error: 6.6569 - val_loss: 56.7358 - val_mean_absolute_error: 6.3202\n",
            "Epoch 74/100\n",
            "5/5 [==============================] - 0s 13ms/step - loss: 65.4554 - mean_absolute_error: 6.6629 - val_loss: 56.7587 - val_mean_absolute_error: 6.3248\n",
            "Epoch 75/100\n",
            "5/5 [==============================] - 0s 10ms/step - loss: 65.4771 - mean_absolute_error: 6.6724 - val_loss: 56.7835 - val_mean_absolute_error: 6.3293\n",
            "Epoch 76/100\n",
            "5/5 [==============================] - 0s 13ms/step - loss: 65.4665 - mean_absolute_error: 6.6712 - val_loss: 56.7590 - val_mean_absolute_error: 6.3249\n",
            "Epoch 77/100\n",
            "5/5 [==============================] - 0s 10ms/step - loss: 65.4734 - mean_absolute_error: 6.6699 - val_loss: 56.7730 - val_mean_absolute_error: 6.3275\n",
            "Epoch 78/100\n",
            "5/5 [==============================] - 0s 13ms/step - loss: 65.4799 - mean_absolute_error: 6.6748 - val_loss: 56.7837 - val_mean_absolute_error: 6.3294\n",
            "Epoch 79/100\n",
            "5/5 [==============================] - 0s 10ms/step - loss: 65.4662 - mean_absolute_error: 6.6698 - val_loss: 56.7416 - val_mean_absolute_error: 6.3214\n",
            "Epoch 80/100\n",
            "5/5 [==============================] - 0s 14ms/step - loss: 65.4994 - mean_absolute_error: 6.6585 - val_loss: 56.7045 - val_mean_absolute_error: 6.3127\n",
            "Epoch 81/100\n",
            "5/5 [==============================] - 0s 9ms/step - loss: 65.4822 - mean_absolute_error: 6.6545 - val_loss: 56.7202 - val_mean_absolute_error: 6.3167\n",
            "Epoch 82/100\n",
            "5/5 [==============================] - 0s 14ms/step - loss: 65.4596 - mean_absolute_error: 6.6542 - val_loss: 56.7107 - val_mean_absolute_error: 6.3143\n",
            "Epoch 83/100\n",
            "5/5 [==============================] - 0s 10ms/step - loss: 65.4819 - mean_absolute_error: 6.6564 - val_loss: 56.7201 - val_mean_absolute_error: 6.3166\n",
            "Epoch 84/100\n",
            "5/5 [==============================] - 0s 10ms/step - loss: 65.4676 - mean_absolute_error: 6.6530 - val_loss: 56.7018 - val_mean_absolute_error: 6.3120\n",
            "Epoch 85/100\n",
            "5/5 [==============================] - 0s 15ms/step - loss: 65.4703 - mean_absolute_error: 6.6529 - val_loss: 56.7112 - val_mean_absolute_error: 6.3145\n",
            "Epoch 86/100\n",
            "5/5 [==============================] - 0s 10ms/step - loss: 65.5002 - mean_absolute_error: 6.6533 - val_loss: 56.6958 - val_mean_absolute_error: 6.3103\n",
            "Epoch 87/100\n",
            "5/5 [==============================] - 0s 10ms/step - loss: 65.4925 - mean_absolute_error: 6.6547 - val_loss: 56.7280 - val_mean_absolute_error: 6.3185\n",
            "Epoch 88/100\n",
            "5/5 [==============================] - 0s 10ms/step - loss: 65.4705 - mean_absolute_error: 6.6608 - val_loss: 56.7409 - val_mean_absolute_error: 6.3213\n",
            "Epoch 89/100\n",
            "5/5 [==============================] - 0s 13ms/step - loss: 65.4788 - mean_absolute_error: 6.6596 - val_loss: 56.7233 - val_mean_absolute_error: 6.3174\n",
            "Epoch 90/100\n",
            "5/5 [==============================] - 0s 16ms/step - loss: 65.4606 - mean_absolute_error: 6.6573 - val_loss: 56.7257 - val_mean_absolute_error: 6.3179\n",
            "Epoch 91/100\n",
            "5/5 [==============================] - 0s 9ms/step - loss: 65.4633 - mean_absolute_error: 6.6583 - val_loss: 56.7277 - val_mean_absolute_error: 6.3184\n",
            "Epoch 92/100\n",
            "5/5 [==============================] - 0s 10ms/step - loss: 65.5344 - mean_absolute_error: 6.6672 - val_loss: 56.7551 - val_mean_absolute_error: 6.3241\n",
            "Epoch 93/100\n",
            "5/5 [==============================] - 0s 14ms/step - loss: 65.4710 - mean_absolute_error: 6.6615 - val_loss: 56.7205 - val_mean_absolute_error: 6.3167\n",
            "Epoch 94/100\n",
            "5/5 [==============================] - 0s 10ms/step - loss: 65.4666 - mean_absolute_error: 6.6552 - val_loss: 56.7101 - val_mean_absolute_error: 6.3142\n",
            "Epoch 95/100\n",
            "5/5 [==============================] - 0s 14ms/step - loss: 65.4633 - mean_absolute_error: 6.6528 - val_loss: 56.7118 - val_mean_absolute_error: 6.3146\n",
            "Epoch 96/100\n",
            "5/5 [==============================] - 0s 14ms/step - loss: 65.4537 - mean_absolute_error: 6.6566 - val_loss: 56.7349 - val_mean_absolute_error: 6.3200\n",
            "Epoch 97/100\n",
            "5/5 [==============================] - 0s 10ms/step - loss: 65.4633 - mean_absolute_error: 6.6652 - val_loss: 56.7637 - val_mean_absolute_error: 6.3258\n",
            "Epoch 98/100\n",
            "5/5 [==============================] - 0s 14ms/step - loss: 65.4667 - mean_absolute_error: 6.6719 - val_loss: 56.7796 - val_mean_absolute_error: 6.3287\n",
            "Epoch 99/100\n",
            "5/5 [==============================] - 0s 9ms/step - loss: 65.4605 - mean_absolute_error: 6.6732 - val_loss: 56.7725 - val_mean_absolute_error: 6.3274\n",
            "Epoch 100/100\n",
            "5/5 [==============================] - 0s 14ms/step - loss: 65.4708 - mean_absolute_error: 6.6740 - val_loss: 56.7791 - val_mean_absolute_error: 6.3286\n"
          ]
        },
        {
          "output_type": "execute_result",
          "data": {
            "text/plain": [
              "<keras.src.callbacks.History at 0x7826e8876ec0>"
            ]
          },
          "metadata": {},
          "execution_count": 123
        }
      ]
    },
    {
      "cell_type": "markdown",
      "source": [
        "6. Ewaluuj model na zbiorze testowym, używając funkcji `evaluate`. Sprawdź wartość funkcji straty i ewentualnie inne metryki, aby ocenić, jak dobrze model generalizuje na nowych danych."
      ],
      "metadata": {
        "id": "B9mTAJ9YAnxi"
      }
    },
    {
      "cell_type": "code",
      "source": [
        "score = model.evaluate(X_test, y_test, verbose=1)"
      ],
      "metadata": {
        "id": "66ZXtqSdgwV7",
        "colab": {
          "base_uri": "https://localhost:8080/"
        },
        "outputId": "ec06cb73-7c59-4ea4-d73e-4587d9561b58"
      },
      "execution_count": null,
      "outputs": [
        {
          "output_type": "stream",
          "name": "stdout",
          "text": [
            "2/2 [==============================] - 0s 12ms/step - loss: 56.7791 - mean_absolute_error: 6.3286\n"
          ]
        }
      ]
    },
    {
      "cell_type": "markdown",
      "source": [
        "7. Opcjonalnie, wykonaj predykcje na nowych danych przy użyciu funkcji `predict`. Możesz przetestować model, podając mu nowe dane dotyczące krajów i sprawdzając, jak dobrze przewiduje wartość GDP per capita na podstawie innych cech.\n"
      ],
      "metadata": {
        "id": "HEsVtdjzAs2O"
      }
    },
    {
      "cell_type": "code",
      "source": [
        "y_pred=model.predict(X_test)\n",
        "y_pred"
      ],
      "metadata": {
        "id": "f4thIwWVgu57",
        "colab": {
          "base_uri": "https://localhost:8080/"
        },
        "outputId": "4c1e6cf9-1fbc-4b57-825c-57b1431424f1"
      },
      "execution_count": null,
      "outputs": [
        {
          "output_type": "stream",
          "name": "stdout",
          "text": [
            "2/2 [==============================] - 0s 8ms/step\n"
          ]
        },
        {
          "output_type": "execute_result",
          "data": {
            "text/plain": [
              "array([[71.90108],\n",
              "       [71.90108],\n",
              "       [71.90108],\n",
              "       [71.90108],\n",
              "       [71.90108],\n",
              "       [71.90108],\n",
              "       [71.90108],\n",
              "       [71.90108],\n",
              "       [71.90108],\n",
              "       [71.90108],\n",
              "       [71.90108],\n",
              "       [71.90108],\n",
              "       [71.90108],\n",
              "       [71.90108],\n",
              "       [71.90108],\n",
              "       [71.90108],\n",
              "       [71.90108],\n",
              "       [71.90108],\n",
              "       [71.90108],\n",
              "       [71.90108],\n",
              "       [71.90108],\n",
              "       [71.90108],\n",
              "       [71.90108],\n",
              "       [71.90108],\n",
              "       [71.90108],\n",
              "       [71.90108],\n",
              "       [71.90108],\n",
              "       [71.90108],\n",
              "       [71.90108],\n",
              "       [71.90108],\n",
              "       [71.90108],\n",
              "       [71.90108],\n",
              "       [71.90108],\n",
              "       [71.90108],\n",
              "       [71.90108],\n",
              "       [71.90108],\n",
              "       [71.90108],\n",
              "       [71.90108],\n",
              "       [71.90108]], dtype=float32)"
            ]
          },
          "metadata": {},
          "execution_count": 126
        }
      ]
    },
    {
      "cell_type": "markdown",
      "source": [
        "### Zadanie MNIST"
      ],
      "metadata": {
        "id": "YJ6XHF4hd-EF"
      }
    },
    {
      "cell_type": "markdown",
      "source": [
        "Zadanie: Klasyfikacja danych z MNIST za pomocą prostego modelu MLP\n",
        "\n",
        "Opiszemy zadanie klasyfikacji danych z zestawu MNIST, wykorzystując prosty model wielowarstwowy perceptronów (Multilayer Perceptron - MLP). Zadanie polega na przewidzeniu cyfry na podstawie obrazów ręcznie pisanych cyfr. Zbiór danych MNIST zawiera 60 000 obrazów treningowych i 10 000 obrazów testowych.\n",
        "\n",
        "1. Wczytaj zbiór danych MNIST przy użyciu biblioteki `tensorflow.keras.datasets.mnist`.\n",
        "\n",
        "2. Przygotuj zbiór danych na zestawy treningowy i testowy.\n",
        "\n",
        "3. Przekształć dane obrazów do postaci wektorowej (spłaszcz), aby były kompatybilne z modelem MLP. Możesz użyć metody `reshape` z biblioteki NumPy.\n",
        "\n",
        "4. Przeprowadź normalizację danych, skalując wartości pikseli do zakresu od 0 do 1. Możesz to zrobić, dzieląc wartości przez 255.\n",
        "\n",
        "5. Zakoduj etykiety klas przy użyciu kodowania \"one-hot\" za pomocą funkcji `to_categorical` z biblioteki `tensorflow.keras.utils`.\n",
        "\n",
        "6. Zdefiniuj prosty model MLP, używając klasy `Sequential` z biblioteki `tensorflow.keras.models`. Dodaj kilka warstw gęstych (`Dense`) z aktywacją ReLU. Możesz eksperymentować z różnymi liczbami neuronów i warstwami.\n",
        "\n",
        "7. Skompiluj model, wybierając odpowiednią funkcję straty i optymalizator. Dla problemu klasyfikacji wieloklasowej, użyj funkcji straty `categorical_crossentropy` oraz optymalizatora `adam`. Dodaj również metrykę `accuracy`, aby monitorować wydajność modelu.\n",
        "\n",
        "8. Trenuj model na zestawie treningowym za pomocą funkcji `fit`. Wybierz odpowiednią liczbę epok i rozmiar partii (batch size). Możesz także dodać podział walidacyjny (`validation_split`), aby monitorować wydajność modelu na zestawie walidacyjnym.\n",
        "\n",
        "9. Ewaluuj model na zestawie testowym przy użyciu funkcji `evaluate` i oblicz wartości straty oraz dokładności.\n",
        "\n",
        "10. Przeprowadź predykcję dla kilku obrazów ze zbioru testowego za pomocą funkcji `predict` i wyświetl wyniki.\n",
        "\n",
        "11. Dodatkowo, możesz narysować kilka przykładowych obrazów z ich prawdziwymi etykietami i przewidywanymi etykietami, aby zobaczyć jak dobrze model radzi sobie z klasyfikacją.\n",
        "\n",
        "12. Ewentualnie, możesz przetestować różne konfiguracje modelu, zmieniając liczbę neuronów, liczbę warstw ukrytych."
      ],
      "metadata": {
        "id": "yHEvYGoNeKFM"
      }
    },
    {
      "cell_type": "code",
      "source": [
        "import numpy as np\n",
        "import matplotlib.pyplot as plt\n",
        "from sklearn.model_selection import train_test_split\n",
        "from tensorflow.keras.datasets import mnist\n",
        "from tensorflow.keras.models import Sequential\n",
        "from tensorflow.keras.layers import Dense\n",
        "from tensorflow.keras.utils import to_categorical\n",
        "\n",
        "# Wczytanie danych MNIST\n",
        "(train_images, train_labels), (test_images, test_labels) = mnist.load_data()\n",
        "\n",
        "# Podział na zbiór treningowy i testowy\n",
        "train_images, val_images, train_labels, val_labels = train_test_split(train_images, train_labels, test_size=0.2, random_state=42)\n",
        "\n",
        "# Przekształcenie danych do postaci wektorowej\n",
        "train_images = train_images.reshape(-1, 784)\n",
        "val_images = val_images.reshape(-1, 784)\n",
        "test_images = test_images.reshape(-1, 784)\n",
        "\n",
        "# Kodowanie etykiet klas\n",
        "train_labels = to_categorical(train_labels)\n",
        "val_labels = to_categorical(val_labels)\n",
        "test_labels = to_categorical(test_labels)\n",
        "\n",
        "# Normalizacja danych\n",
        "train_images = train_images / 255.0\n",
        "val_images = val_images / 255.0\n",
        "test_images = test_images / 255.0"
      ],
      "metadata": {
        "id": "dU2Nk7dBubp6",
        "colab": {
          "base_uri": "https://localhost:8080/"
        },
        "outputId": "c7101aa4-c0f8-46d6-ec3b-80d2fa1ed4d8"
      },
      "execution_count": null,
      "outputs": [
        {
          "output_type": "stream",
          "name": "stdout",
          "text": [
            "Downloading data from https://storage.googleapis.com/tensorflow/tf-keras-datasets/mnist.npz\n",
            "11490434/11490434 [==============================] - 0s 0us/step\n"
          ]
        }
      ]
    },
    {
      "cell_type": "markdown",
      "source": [],
      "metadata": {
        "id": "8KQ3CuPGAw3q"
      }
    },
    {
      "cell_type": "code",
      "source": [],
      "metadata": {
        "id": "TVNmTj4NAwWs"
      },
      "execution_count": null,
      "outputs": []
    },
    {
      "cell_type": "markdown",
      "source": [
        "1. Wczytaj zbiór danych MNIST przy użyciu biblioteki `tensorflow.keras.datasets.mnist`.\n"
      ],
      "metadata": {
        "id": "s7UVw2xCAzOq"
      }
    },
    {
      "cell_type": "code",
      "source": [],
      "metadata": {
        "id": "NSX4R5yBAwZU"
      },
      "execution_count": null,
      "outputs": []
    },
    {
      "cell_type": "markdown",
      "source": [
        "\n",
        "2. Przygotuj zbiór danych na zestawy treningowy i testowy.\n"
      ],
      "metadata": {
        "id": "MZJ-G5SGA2MO"
      }
    },
    {
      "cell_type": "code",
      "source": [],
      "metadata": {
        "id": "kMQ_W5P3Awby"
      },
      "execution_count": null,
      "outputs": []
    },
    {
      "cell_type": "markdown",
      "source": [
        "\n",
        "3. Przekształć dane obrazów do postaci wektorowej (spłaszcz), aby były kompatybilne z modelem MLP. Możesz użyć metody `reshape` z biblioteki NumPy.\n"
      ],
      "metadata": {
        "id": "q0b_XdyEA3j8"
      }
    },
    {
      "cell_type": "code",
      "source": [],
      "metadata": {
        "id": "z6IIrv6uAweK"
      },
      "execution_count": null,
      "outputs": []
    },
    {
      "cell_type": "markdown",
      "source": [
        "\n",
        "4. Przeprowadź normalizację danych, skalując wartości pikseli do zakresu od 0 do 1. Możesz to zrobić, dzieląc wartości przez 255.\n"
      ],
      "metadata": {
        "id": "gBvAG7foA4sT"
      }
    },
    {
      "cell_type": "code",
      "source": [],
      "metadata": {
        "id": "mcF-Poj6Awgn"
      },
      "execution_count": null,
      "outputs": []
    },
    {
      "cell_type": "markdown",
      "source": [
        "\n",
        "5. Zakoduj etykiety klas przy użyciu kodowania \"one-hot\" za pomocą funkcji `to_categorical` z biblioteki `tensorflow.keras.utils`.\n"
      ],
      "metadata": {
        "id": "27_hAJGjA53T"
      }
    },
    {
      "cell_type": "code",
      "source": [],
      "metadata": {
        "id": "MMzHV3U0Awiz"
      },
      "execution_count": null,
      "outputs": []
    },
    {
      "cell_type": "markdown",
      "source": [
        "\n",
        "6. Zdefiniuj prosty model MLP, używając klasy `Sequential` z biblioteki `tensorflow.keras.models`. Dodaj kilka warstw gęstych (`Dense`) z aktywacją ReLU. Możesz eksperymentować z różnymi liczbami neuronów i warstwami.\n"
      ],
      "metadata": {
        "id": "oKgJcjHnA7Mc"
      }
    },
    {
      "cell_type": "code",
      "source": [],
      "metadata": {
        "id": "IWjTzS9xAwlD"
      },
      "execution_count": null,
      "outputs": []
    },
    {
      "cell_type": "markdown",
      "source": [
        "\n",
        "7. Skompiluj model, wybierając odpowiednią funkcję straty i optymalizator. Dla problemu klasyfikacji wieloklasowej, użyj funkcji straty `categorical_crossentropy` oraz optymalizatora `adam`. Dodaj również metrykę `accuracy`, aby monitorować wydajność modelu.\n"
      ],
      "metadata": {
        "id": "IPpE0r0eA8kz"
      }
    },
    {
      "cell_type": "code",
      "source": [],
      "metadata": {
        "id": "aqk3tmmOAwno"
      },
      "execution_count": null,
      "outputs": []
    },
    {
      "cell_type": "markdown",
      "source": [
        "\n",
        "8. Trenuj model na zestawie treningowym za pomocą funkcji `fit`. Wybierz odpowiednią liczbę epok i rozmiar partii (batch size). Możesz także dodać podział walidacyjny (`validation_split`), aby monitorować wydajność modelu na zestawie walidacyjnym.\n"
      ],
      "metadata": {
        "id": "u2QQIVK5A9xc"
      }
    },
    {
      "cell_type": "code",
      "source": [],
      "metadata": {
        "id": "rcLUINsqAwp9"
      },
      "execution_count": null,
      "outputs": []
    },
    {
      "cell_type": "markdown",
      "source": [
        "\n",
        "9. Ewaluuj model na zestawie testowym przy użyciu funkcji `evaluate` i oblicz wartości straty oraz dokładności.\n"
      ],
      "metadata": {
        "id": "u6V4LviiA-9b"
      }
    },
    {
      "cell_type": "code",
      "source": [],
      "metadata": {
        "id": "zV6g7X-dBA_T"
      },
      "execution_count": null,
      "outputs": []
    },
    {
      "cell_type": "markdown",
      "source": [
        "\n",
        "10. Przeprowadź predykcję dla kilku obrazów ze zbioru testowego za pomocą funkcji `predict` i wyświetl wyniki.\n"
      ],
      "metadata": {
        "id": "iTj0XYzWBBs7"
      }
    },
    {
      "cell_type": "code",
      "source": [],
      "metadata": {
        "id": "zD6YcY9_BBIL"
      },
      "execution_count": null,
      "outputs": []
    },
    {
      "cell_type": "markdown",
      "source": [
        "\n",
        "11. Dodatkowo, możesz narysować kilka przykładowych obrazów z ich prawdziwymi etykietami i przewidywanymi etykietami, aby zobaczyć jak dobrze model radzi sobie z klasyfikacją.\n"
      ],
      "metadata": {
        "id": "JYCcZFaFBC0e"
      }
    },
    {
      "cell_type": "code",
      "source": [],
      "metadata": {
        "id": "-YXulpoMF05f"
      },
      "execution_count": null,
      "outputs": []
    }
  ]
}