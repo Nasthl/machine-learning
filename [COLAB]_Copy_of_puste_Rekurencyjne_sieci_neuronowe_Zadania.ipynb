{
  "nbformat": 4,
  "nbformat_minor": 0,
  "metadata": {
    "colab": {
      "provenance": [],
      "gpuType": "T4",
      "include_colab_link": true
    },
    "kernelspec": {
      "name": "python3",
      "display_name": "Python 3"
    },
    "language_info": {
      "name": "python"
    },
    "accelerator": "GPU"
  },
  "cells": [
    {
      "cell_type": "markdown",
      "metadata": {
        "id": "view-in-github",
        "colab_type": "text"
      },
      "source": [
        "<a href=\"https://colab.research.google.com/github/Nasthl/macnine-learning-/blob/main/%5BCOLAB%5D_Copy_of_puste_Rekurencyjne_sieci_neuronowe_Zadania.ipynb\" target=\"_parent\"><img src=\"https://colab.research.google.com/assets/colab-badge.svg\" alt=\"Open In Colab\"/></a>"
      ]
    },
    {
      "cell_type": "markdown",
      "source": [
        "### Zadanie związane z prognozowaniem szeregu czasowego \"Airline Passengers\"\n",
        "\n",
        "Przygotuj następujace kroki:\n",
        "* Wczytanie i preprocess danych:\n",
        "\n",
        "W pierwszym kroku należy wczytać dane szeregu czasowego oraz dokonać preprocess danych, w tym normalizacji wartości szeregu czasowego, podziału na zestawy treningowe i testowe oraz zmniejszenia wymiarowości szeregu czasowego, jeśli jest to wymagane.\n",
        "\n",
        "* Wykorzystaj bibliotekę Keras do implementacji modelu sieci rekurencyjnej.\n",
        "* Przygotuj dane treningowe i testowe przez podział szeregu czasowego na segmenty o stałej długości\n",
        "* Wybierz optymalne parametry modelu, takie jak liczba filtrów, wielkość okna konwolucyjnego, liczba warstw itp.\n",
        "* Przetestuj metrykę oceny jakości modelu, takie jak błąd średniokwadratowy (MSE), błąd średni absolutny (MAE).\n",
        "* Zwizualizuj wyniki predykcji na wykresie, aby porównać prognozy z rzeczywistymi danymi.\n",
        "\n"
      ],
      "metadata": {
        "id": "IJCTkTpO2PrK"
      }
    },
    {
      "cell_type": "code",
      "source": [
        "# importowanie potrzebnych bibliotek\n",
        "import pandas as pd\n",
        "import numpy as np\n",
        "import matplotlib.pyplot as plt\n",
        "from sklearn.metrics import mean_squared_error\n",
        "from keras.optimizers import Adam\n",
        "\n",
        "# wczytanie danych\n",
        "df = pd.read_csv('https://raw.githubusercontent.com/marcin119a/PUMP2/main/flights.csv')\n",
        "\n",
        "\n",
        "# Przygotowanie danych\n",
        "passengers = df['passengers'].to_numpy()\n",
        "passengers = np.array(passengers).reshape(-1, 1)\n"
      ],
      "metadata": {
        "id": "o7qm_0Fh6twY"
      },
      "execution_count": null,
      "outputs": []
    },
    {
      "cell_type": "code",
      "source": [],
      "metadata": {
        "id": "K4fU9hL35d4P"
      },
      "execution_count": null,
      "outputs": []
    },
    {
      "cell_type": "markdown",
      "source": [
        "* Wykorzystaj bibliotekę Keras do implementacji modelu sieci rekurencyjnej.\n",
        "* Przygotuj dane treningowe i testowe przez podział szeregu czasowego na segmenty o stałej długości"
      ],
      "metadata": {
        "id": "S7eDWIZT5edd"
      }
    },
    {
      "cell_type": "code",
      "source": [
        "df.head()"
      ],
      "metadata": {
        "colab": {
          "base_uri": "https://localhost:8080/",
          "height": 206
        },
        "id": "Y1ukOe9m-AZS",
        "outputId": "4875eaa2-580e-4d6e-dbc1-16587efc7fc6"
      },
      "execution_count": null,
      "outputs": [
        {
          "output_type": "execute_result",
          "data": {
            "text/plain": [
              "   year     month  passengers\n",
              "0  1949   January         112\n",
              "1  1949  February         118\n",
              "2  1949     March         132\n",
              "3  1949     April         129\n",
              "4  1949       May         121"
            ],
            "text/html": [
              "\n",
              "  <div id=\"df-6c60a5a1-2428-4cc0-94ec-d14feabfe7a3\" class=\"colab-df-container\">\n",
              "    <div>\n",
              "<style scoped>\n",
              "    .dataframe tbody tr th:only-of-type {\n",
              "        vertical-align: middle;\n",
              "    }\n",
              "\n",
              "    .dataframe tbody tr th {\n",
              "        vertical-align: top;\n",
              "    }\n",
              "\n",
              "    .dataframe thead th {\n",
              "        text-align: right;\n",
              "    }\n",
              "</style>\n",
              "<table border=\"1\" class=\"dataframe\">\n",
              "  <thead>\n",
              "    <tr style=\"text-align: right;\">\n",
              "      <th></th>\n",
              "      <th>year</th>\n",
              "      <th>month</th>\n",
              "      <th>passengers</th>\n",
              "    </tr>\n",
              "  </thead>\n",
              "  <tbody>\n",
              "    <tr>\n",
              "      <th>0</th>\n",
              "      <td>1949</td>\n",
              "      <td>January</td>\n",
              "      <td>112</td>\n",
              "    </tr>\n",
              "    <tr>\n",
              "      <th>1</th>\n",
              "      <td>1949</td>\n",
              "      <td>February</td>\n",
              "      <td>118</td>\n",
              "    </tr>\n",
              "    <tr>\n",
              "      <th>2</th>\n",
              "      <td>1949</td>\n",
              "      <td>March</td>\n",
              "      <td>132</td>\n",
              "    </tr>\n",
              "    <tr>\n",
              "      <th>3</th>\n",
              "      <td>1949</td>\n",
              "      <td>April</td>\n",
              "      <td>129</td>\n",
              "    </tr>\n",
              "    <tr>\n",
              "      <th>4</th>\n",
              "      <td>1949</td>\n",
              "      <td>May</td>\n",
              "      <td>121</td>\n",
              "    </tr>\n",
              "  </tbody>\n",
              "</table>\n",
              "</div>\n",
              "    <div class=\"colab-df-buttons\">\n",
              "\n",
              "  <div class=\"colab-df-container\">\n",
              "    <button class=\"colab-df-convert\" onclick=\"convertToInteractive('df-6c60a5a1-2428-4cc0-94ec-d14feabfe7a3')\"\n",
              "            title=\"Convert this dataframe to an interactive table.\"\n",
              "            style=\"display:none;\">\n",
              "\n",
              "  <svg xmlns=\"http://www.w3.org/2000/svg\" height=\"24px\" viewBox=\"0 -960 960 960\">\n",
              "    <path d=\"M120-120v-720h720v720H120Zm60-500h600v-160H180v160Zm220 220h160v-160H400v160Zm0 220h160v-160H400v160ZM180-400h160v-160H180v160Zm440 0h160v-160H620v160ZM180-180h160v-160H180v160Zm440 0h160v-160H620v160Z\"/>\n",
              "  </svg>\n",
              "    </button>\n",
              "\n",
              "  <style>\n",
              "    .colab-df-container {\n",
              "      display:flex;\n",
              "      gap: 12px;\n",
              "    }\n",
              "\n",
              "    .colab-df-convert {\n",
              "      background-color: #E8F0FE;\n",
              "      border: none;\n",
              "      border-radius: 50%;\n",
              "      cursor: pointer;\n",
              "      display: none;\n",
              "      fill: #1967D2;\n",
              "      height: 32px;\n",
              "      padding: 0 0 0 0;\n",
              "      width: 32px;\n",
              "    }\n",
              "\n",
              "    .colab-df-convert:hover {\n",
              "      background-color: #E2EBFA;\n",
              "      box-shadow: 0px 1px 2px rgba(60, 64, 67, 0.3), 0px 1px 3px 1px rgba(60, 64, 67, 0.15);\n",
              "      fill: #174EA6;\n",
              "    }\n",
              "\n",
              "    .colab-df-buttons div {\n",
              "      margin-bottom: 4px;\n",
              "    }\n",
              "\n",
              "    [theme=dark] .colab-df-convert {\n",
              "      background-color: #3B4455;\n",
              "      fill: #D2E3FC;\n",
              "    }\n",
              "\n",
              "    [theme=dark] .colab-df-convert:hover {\n",
              "      background-color: #434B5C;\n",
              "      box-shadow: 0px 1px 3px 1px rgba(0, 0, 0, 0.15);\n",
              "      filter: drop-shadow(0px 1px 2px rgba(0, 0, 0, 0.3));\n",
              "      fill: #FFFFFF;\n",
              "    }\n",
              "  </style>\n",
              "\n",
              "    <script>\n",
              "      const buttonEl =\n",
              "        document.querySelector('#df-6c60a5a1-2428-4cc0-94ec-d14feabfe7a3 button.colab-df-convert');\n",
              "      buttonEl.style.display =\n",
              "        google.colab.kernel.accessAllowed ? 'block' : 'none';\n",
              "\n",
              "      async function convertToInteractive(key) {\n",
              "        const element = document.querySelector('#df-6c60a5a1-2428-4cc0-94ec-d14feabfe7a3');\n",
              "        const dataTable =\n",
              "          await google.colab.kernel.invokeFunction('convertToInteractive',\n",
              "                                                    [key], {});\n",
              "        if (!dataTable) return;\n",
              "\n",
              "        const docLinkHtml = 'Like what you see? Visit the ' +\n",
              "          '<a target=\"_blank\" href=https://colab.research.google.com/notebooks/data_table.ipynb>data table notebook</a>'\n",
              "          + ' to learn more about interactive tables.';\n",
              "        element.innerHTML = '';\n",
              "        dataTable['output_type'] = 'display_data';\n",
              "        await google.colab.output.renderOutput(dataTable, element);\n",
              "        const docLink = document.createElement('div');\n",
              "        docLink.innerHTML = docLinkHtml;\n",
              "        element.appendChild(docLink);\n",
              "      }\n",
              "    </script>\n",
              "  </div>\n",
              "\n",
              "\n",
              "<div id=\"df-e49cc04f-712b-4abf-9f11-33e231cb2191\">\n",
              "  <button class=\"colab-df-quickchart\" onclick=\"quickchart('df-e49cc04f-712b-4abf-9f11-33e231cb2191')\"\n",
              "            title=\"Suggest charts\"\n",
              "            style=\"display:none;\">\n",
              "\n",
              "<svg xmlns=\"http://www.w3.org/2000/svg\" height=\"24px\"viewBox=\"0 0 24 24\"\n",
              "     width=\"24px\">\n",
              "    <g>\n",
              "        <path d=\"M19 3H5c-1.1 0-2 .9-2 2v14c0 1.1.9 2 2 2h14c1.1 0 2-.9 2-2V5c0-1.1-.9-2-2-2zM9 17H7v-7h2v7zm4 0h-2V7h2v10zm4 0h-2v-4h2v4z\"/>\n",
              "    </g>\n",
              "</svg>\n",
              "  </button>\n",
              "\n",
              "<style>\n",
              "  .colab-df-quickchart {\n",
              "      --bg-color: #E8F0FE;\n",
              "      --fill-color: #1967D2;\n",
              "      --hover-bg-color: #E2EBFA;\n",
              "      --hover-fill-color: #174EA6;\n",
              "      --disabled-fill-color: #AAA;\n",
              "      --disabled-bg-color: #DDD;\n",
              "  }\n",
              "\n",
              "  [theme=dark] .colab-df-quickchart {\n",
              "      --bg-color: #3B4455;\n",
              "      --fill-color: #D2E3FC;\n",
              "      --hover-bg-color: #434B5C;\n",
              "      --hover-fill-color: #FFFFFF;\n",
              "      --disabled-bg-color: #3B4455;\n",
              "      --disabled-fill-color: #666;\n",
              "  }\n",
              "\n",
              "  .colab-df-quickchart {\n",
              "    background-color: var(--bg-color);\n",
              "    border: none;\n",
              "    border-radius: 50%;\n",
              "    cursor: pointer;\n",
              "    display: none;\n",
              "    fill: var(--fill-color);\n",
              "    height: 32px;\n",
              "    padding: 0;\n",
              "    width: 32px;\n",
              "  }\n",
              "\n",
              "  .colab-df-quickchart:hover {\n",
              "    background-color: var(--hover-bg-color);\n",
              "    box-shadow: 0 1px 2px rgba(60, 64, 67, 0.3), 0 1px 3px 1px rgba(60, 64, 67, 0.15);\n",
              "    fill: var(--button-hover-fill-color);\n",
              "  }\n",
              "\n",
              "  .colab-df-quickchart-complete:disabled,\n",
              "  .colab-df-quickchart-complete:disabled:hover {\n",
              "    background-color: var(--disabled-bg-color);\n",
              "    fill: var(--disabled-fill-color);\n",
              "    box-shadow: none;\n",
              "  }\n",
              "\n",
              "  .colab-df-spinner {\n",
              "    border: 2px solid var(--fill-color);\n",
              "    border-color: transparent;\n",
              "    border-bottom-color: var(--fill-color);\n",
              "    animation:\n",
              "      spin 1s steps(1) infinite;\n",
              "  }\n",
              "\n",
              "  @keyframes spin {\n",
              "    0% {\n",
              "      border-color: transparent;\n",
              "      border-bottom-color: var(--fill-color);\n",
              "      border-left-color: var(--fill-color);\n",
              "    }\n",
              "    20% {\n",
              "      border-color: transparent;\n",
              "      border-left-color: var(--fill-color);\n",
              "      border-top-color: var(--fill-color);\n",
              "    }\n",
              "    30% {\n",
              "      border-color: transparent;\n",
              "      border-left-color: var(--fill-color);\n",
              "      border-top-color: var(--fill-color);\n",
              "      border-right-color: var(--fill-color);\n",
              "    }\n",
              "    40% {\n",
              "      border-color: transparent;\n",
              "      border-right-color: var(--fill-color);\n",
              "      border-top-color: var(--fill-color);\n",
              "    }\n",
              "    60% {\n",
              "      border-color: transparent;\n",
              "      border-right-color: var(--fill-color);\n",
              "    }\n",
              "    80% {\n",
              "      border-color: transparent;\n",
              "      border-right-color: var(--fill-color);\n",
              "      border-bottom-color: var(--fill-color);\n",
              "    }\n",
              "    90% {\n",
              "      border-color: transparent;\n",
              "      border-bottom-color: var(--fill-color);\n",
              "    }\n",
              "  }\n",
              "</style>\n",
              "\n",
              "  <script>\n",
              "    async function quickchart(key) {\n",
              "      const quickchartButtonEl =\n",
              "        document.querySelector('#' + key + ' button');\n",
              "      quickchartButtonEl.disabled = true;  // To prevent multiple clicks.\n",
              "      quickchartButtonEl.classList.add('colab-df-spinner');\n",
              "      try {\n",
              "        const charts = await google.colab.kernel.invokeFunction(\n",
              "            'suggestCharts', [key], {});\n",
              "      } catch (error) {\n",
              "        console.error('Error during call to suggestCharts:', error);\n",
              "      }\n",
              "      quickchartButtonEl.classList.remove('colab-df-spinner');\n",
              "      quickchartButtonEl.classList.add('colab-df-quickchart-complete');\n",
              "    }\n",
              "    (() => {\n",
              "      let quickchartButtonEl =\n",
              "        document.querySelector('#df-e49cc04f-712b-4abf-9f11-33e231cb2191 button');\n",
              "      quickchartButtonEl.style.display =\n",
              "        google.colab.kernel.accessAllowed ? 'block' : 'none';\n",
              "    })();\n",
              "  </script>\n",
              "</div>\n",
              "    </div>\n",
              "  </div>\n"
            ]
          },
          "metadata": {},
          "execution_count": 2
        }
      ]
    },
    {
      "cell_type": "code",
      "source": [
        "df.tail()"
      ],
      "metadata": {
        "colab": {
          "base_uri": "https://localhost:8080/",
          "height": 206
        },
        "id": "RdY4OdrSVhsb",
        "outputId": "a66cb33e-53cc-4b82-b148-9cf921094176"
      },
      "execution_count": null,
      "outputs": [
        {
          "output_type": "execute_result",
          "data": {
            "text/plain": [
              "     year      month  passengers\n",
              "139  1960     August         606\n",
              "140  1960  September         508\n",
              "141  1960    October         461\n",
              "142  1960   November         390\n",
              "143  1960   December         432"
            ],
            "text/html": [
              "\n",
              "  <div id=\"df-6c171d39-cf95-44b0-a3c0-d898ba9a7966\" class=\"colab-df-container\">\n",
              "    <div>\n",
              "<style scoped>\n",
              "    .dataframe tbody tr th:only-of-type {\n",
              "        vertical-align: middle;\n",
              "    }\n",
              "\n",
              "    .dataframe tbody tr th {\n",
              "        vertical-align: top;\n",
              "    }\n",
              "\n",
              "    .dataframe thead th {\n",
              "        text-align: right;\n",
              "    }\n",
              "</style>\n",
              "<table border=\"1\" class=\"dataframe\">\n",
              "  <thead>\n",
              "    <tr style=\"text-align: right;\">\n",
              "      <th></th>\n",
              "      <th>year</th>\n",
              "      <th>month</th>\n",
              "      <th>passengers</th>\n",
              "    </tr>\n",
              "  </thead>\n",
              "  <tbody>\n",
              "    <tr>\n",
              "      <th>139</th>\n",
              "      <td>1960</td>\n",
              "      <td>August</td>\n",
              "      <td>606</td>\n",
              "    </tr>\n",
              "    <tr>\n",
              "      <th>140</th>\n",
              "      <td>1960</td>\n",
              "      <td>September</td>\n",
              "      <td>508</td>\n",
              "    </tr>\n",
              "    <tr>\n",
              "      <th>141</th>\n",
              "      <td>1960</td>\n",
              "      <td>October</td>\n",
              "      <td>461</td>\n",
              "    </tr>\n",
              "    <tr>\n",
              "      <th>142</th>\n",
              "      <td>1960</td>\n",
              "      <td>November</td>\n",
              "      <td>390</td>\n",
              "    </tr>\n",
              "    <tr>\n",
              "      <th>143</th>\n",
              "      <td>1960</td>\n",
              "      <td>December</td>\n",
              "      <td>432</td>\n",
              "    </tr>\n",
              "  </tbody>\n",
              "</table>\n",
              "</div>\n",
              "    <div class=\"colab-df-buttons\">\n",
              "\n",
              "  <div class=\"colab-df-container\">\n",
              "    <button class=\"colab-df-convert\" onclick=\"convertToInteractive('df-6c171d39-cf95-44b0-a3c0-d898ba9a7966')\"\n",
              "            title=\"Convert this dataframe to an interactive table.\"\n",
              "            style=\"display:none;\">\n",
              "\n",
              "  <svg xmlns=\"http://www.w3.org/2000/svg\" height=\"24px\" viewBox=\"0 -960 960 960\">\n",
              "    <path d=\"M120-120v-720h720v720H120Zm60-500h600v-160H180v160Zm220 220h160v-160H400v160Zm0 220h160v-160H400v160ZM180-400h160v-160H180v160Zm440 0h160v-160H620v160ZM180-180h160v-160H180v160Zm440 0h160v-160H620v160Z\"/>\n",
              "  </svg>\n",
              "    </button>\n",
              "\n",
              "  <style>\n",
              "    .colab-df-container {\n",
              "      display:flex;\n",
              "      gap: 12px;\n",
              "    }\n",
              "\n",
              "    .colab-df-convert {\n",
              "      background-color: #E8F0FE;\n",
              "      border: none;\n",
              "      border-radius: 50%;\n",
              "      cursor: pointer;\n",
              "      display: none;\n",
              "      fill: #1967D2;\n",
              "      height: 32px;\n",
              "      padding: 0 0 0 0;\n",
              "      width: 32px;\n",
              "    }\n",
              "\n",
              "    .colab-df-convert:hover {\n",
              "      background-color: #E2EBFA;\n",
              "      box-shadow: 0px 1px 2px rgba(60, 64, 67, 0.3), 0px 1px 3px 1px rgba(60, 64, 67, 0.15);\n",
              "      fill: #174EA6;\n",
              "    }\n",
              "\n",
              "    .colab-df-buttons div {\n",
              "      margin-bottom: 4px;\n",
              "    }\n",
              "\n",
              "    [theme=dark] .colab-df-convert {\n",
              "      background-color: #3B4455;\n",
              "      fill: #D2E3FC;\n",
              "    }\n",
              "\n",
              "    [theme=dark] .colab-df-convert:hover {\n",
              "      background-color: #434B5C;\n",
              "      box-shadow: 0px 1px 3px 1px rgba(0, 0, 0, 0.15);\n",
              "      filter: drop-shadow(0px 1px 2px rgba(0, 0, 0, 0.3));\n",
              "      fill: #FFFFFF;\n",
              "    }\n",
              "  </style>\n",
              "\n",
              "    <script>\n",
              "      const buttonEl =\n",
              "        document.querySelector('#df-6c171d39-cf95-44b0-a3c0-d898ba9a7966 button.colab-df-convert');\n",
              "      buttonEl.style.display =\n",
              "        google.colab.kernel.accessAllowed ? 'block' : 'none';\n",
              "\n",
              "      async function convertToInteractive(key) {\n",
              "        const element = document.querySelector('#df-6c171d39-cf95-44b0-a3c0-d898ba9a7966');\n",
              "        const dataTable =\n",
              "          await google.colab.kernel.invokeFunction('convertToInteractive',\n",
              "                                                    [key], {});\n",
              "        if (!dataTable) return;\n",
              "\n",
              "        const docLinkHtml = 'Like what you see? Visit the ' +\n",
              "          '<a target=\"_blank\" href=https://colab.research.google.com/notebooks/data_table.ipynb>data table notebook</a>'\n",
              "          + ' to learn more about interactive tables.';\n",
              "        element.innerHTML = '';\n",
              "        dataTable['output_type'] = 'display_data';\n",
              "        await google.colab.output.renderOutput(dataTable, element);\n",
              "        const docLink = document.createElement('div');\n",
              "        docLink.innerHTML = docLinkHtml;\n",
              "        element.appendChild(docLink);\n",
              "      }\n",
              "    </script>\n",
              "  </div>\n",
              "\n",
              "\n",
              "<div id=\"df-dfeac872-7802-49ec-a859-31b8ca313eee\">\n",
              "  <button class=\"colab-df-quickchart\" onclick=\"quickchart('df-dfeac872-7802-49ec-a859-31b8ca313eee')\"\n",
              "            title=\"Suggest charts\"\n",
              "            style=\"display:none;\">\n",
              "\n",
              "<svg xmlns=\"http://www.w3.org/2000/svg\" height=\"24px\"viewBox=\"0 0 24 24\"\n",
              "     width=\"24px\">\n",
              "    <g>\n",
              "        <path d=\"M19 3H5c-1.1 0-2 .9-2 2v14c0 1.1.9 2 2 2h14c1.1 0 2-.9 2-2V5c0-1.1-.9-2-2-2zM9 17H7v-7h2v7zm4 0h-2V7h2v10zm4 0h-2v-4h2v4z\"/>\n",
              "    </g>\n",
              "</svg>\n",
              "  </button>\n",
              "\n",
              "<style>\n",
              "  .colab-df-quickchart {\n",
              "      --bg-color: #E8F0FE;\n",
              "      --fill-color: #1967D2;\n",
              "      --hover-bg-color: #E2EBFA;\n",
              "      --hover-fill-color: #174EA6;\n",
              "      --disabled-fill-color: #AAA;\n",
              "      --disabled-bg-color: #DDD;\n",
              "  }\n",
              "\n",
              "  [theme=dark] .colab-df-quickchart {\n",
              "      --bg-color: #3B4455;\n",
              "      --fill-color: #D2E3FC;\n",
              "      --hover-bg-color: #434B5C;\n",
              "      --hover-fill-color: #FFFFFF;\n",
              "      --disabled-bg-color: #3B4455;\n",
              "      --disabled-fill-color: #666;\n",
              "  }\n",
              "\n",
              "  .colab-df-quickchart {\n",
              "    background-color: var(--bg-color);\n",
              "    border: none;\n",
              "    border-radius: 50%;\n",
              "    cursor: pointer;\n",
              "    display: none;\n",
              "    fill: var(--fill-color);\n",
              "    height: 32px;\n",
              "    padding: 0;\n",
              "    width: 32px;\n",
              "  }\n",
              "\n",
              "  .colab-df-quickchart:hover {\n",
              "    background-color: var(--hover-bg-color);\n",
              "    box-shadow: 0 1px 2px rgba(60, 64, 67, 0.3), 0 1px 3px 1px rgba(60, 64, 67, 0.15);\n",
              "    fill: var(--button-hover-fill-color);\n",
              "  }\n",
              "\n",
              "  .colab-df-quickchart-complete:disabled,\n",
              "  .colab-df-quickchart-complete:disabled:hover {\n",
              "    background-color: var(--disabled-bg-color);\n",
              "    fill: var(--disabled-fill-color);\n",
              "    box-shadow: none;\n",
              "  }\n",
              "\n",
              "  .colab-df-spinner {\n",
              "    border: 2px solid var(--fill-color);\n",
              "    border-color: transparent;\n",
              "    border-bottom-color: var(--fill-color);\n",
              "    animation:\n",
              "      spin 1s steps(1) infinite;\n",
              "  }\n",
              "\n",
              "  @keyframes spin {\n",
              "    0% {\n",
              "      border-color: transparent;\n",
              "      border-bottom-color: var(--fill-color);\n",
              "      border-left-color: var(--fill-color);\n",
              "    }\n",
              "    20% {\n",
              "      border-color: transparent;\n",
              "      border-left-color: var(--fill-color);\n",
              "      border-top-color: var(--fill-color);\n",
              "    }\n",
              "    30% {\n",
              "      border-color: transparent;\n",
              "      border-left-color: var(--fill-color);\n",
              "      border-top-color: var(--fill-color);\n",
              "      border-right-color: var(--fill-color);\n",
              "    }\n",
              "    40% {\n",
              "      border-color: transparent;\n",
              "      border-right-color: var(--fill-color);\n",
              "      border-top-color: var(--fill-color);\n",
              "    }\n",
              "    60% {\n",
              "      border-color: transparent;\n",
              "      border-right-color: var(--fill-color);\n",
              "    }\n",
              "    80% {\n",
              "      border-color: transparent;\n",
              "      border-right-color: var(--fill-color);\n",
              "      border-bottom-color: var(--fill-color);\n",
              "    }\n",
              "    90% {\n",
              "      border-color: transparent;\n",
              "      border-bottom-color: var(--fill-color);\n",
              "    }\n",
              "  }\n",
              "</style>\n",
              "\n",
              "  <script>\n",
              "    async function quickchart(key) {\n",
              "      const quickchartButtonEl =\n",
              "        document.querySelector('#' + key + ' button');\n",
              "      quickchartButtonEl.disabled = true;  // To prevent multiple clicks.\n",
              "      quickchartButtonEl.classList.add('colab-df-spinner');\n",
              "      try {\n",
              "        const charts = await google.colab.kernel.invokeFunction(\n",
              "            'suggestCharts', [key], {});\n",
              "      } catch (error) {\n",
              "        console.error('Error during call to suggestCharts:', error);\n",
              "      }\n",
              "      quickchartButtonEl.classList.remove('colab-df-spinner');\n",
              "      quickchartButtonEl.classList.add('colab-df-quickchart-complete');\n",
              "    }\n",
              "    (() => {\n",
              "      let quickchartButtonEl =\n",
              "        document.querySelector('#df-dfeac872-7802-49ec-a859-31b8ca313eee button');\n",
              "      quickchartButtonEl.style.display =\n",
              "        google.colab.kernel.accessAllowed ? 'block' : 'none';\n",
              "    })();\n",
              "  </script>\n",
              "</div>\n",
              "    </div>\n",
              "  </div>\n"
            ]
          },
          "metadata": {},
          "execution_count": 3
        }
      ]
    },
    {
      "cell_type": "markdown",
      "source": [
        "* Wybierz optymalne parametry modelu, takie jak liczba filtrów, wielkość okna konwolucyjnego, liczba warstw itp.\n",
        "* Przetestuj metrykę oceny jakości modelu, takie jak błąd średniokwadratowy (MSE), błąd średni absolutny (MAE).\n",
        "* Zwizualizuj wyniki predykcji na wykresie, aby porównać prognozy z rzeczywistymi danymi."
      ],
      "metadata": {
        "id": "bA1aJd-q5gse"
      }
    },
    {
      "cell_type": "code",
      "source": [
        "X = passengers[:-1]\n",
        "y = passengers[1:]"
      ],
      "metadata": {
        "id": "NC3wv9165nbB"
      },
      "execution_count": null,
      "outputs": []
    },
    {
      "cell_type": "code",
      "source": [
        "X"
      ],
      "metadata": {
        "colab": {
          "base_uri": "https://localhost:8080/"
        },
        "id": "q58fBUfe5uwV",
        "outputId": "9d7ca0a3-1e20-4f0e-c277-034f3a0fc867"
      },
      "execution_count": null,
      "outputs": [
        {
          "output_type": "execute_result",
          "data": {
            "text/plain": [
              "array([[0.01544402],\n",
              "       [0.02702703],\n",
              "       [0.05405405],\n",
              "       [0.04826255],\n",
              "       [0.03281853],\n",
              "       [0.05984556],\n",
              "       [0.08494208],\n",
              "       [0.08494208],\n",
              "       [0.06177606],\n",
              "       [0.02895753],\n",
              "       [0.        ],\n",
              "       [0.02702703],\n",
              "       [0.02123552],\n",
              "       [0.04247104],\n",
              "       [0.07142857],\n",
              "       [0.05984556],\n",
              "       [0.04054054],\n",
              "       [0.08687259],\n",
              "       [0.12741313],\n",
              "       [0.12741313],\n",
              "       [0.1042471 ],\n",
              "       [0.05598456],\n",
              "       [0.01930502],\n",
              "       [0.06949807],\n",
              "       [0.07915058],\n",
              "       [0.08880309],\n",
              "       [0.14285714],\n",
              "       [0.11389961],\n",
              "       [0.13127413],\n",
              "       [0.14285714],\n",
              "       [0.18339768],\n",
              "       [0.18339768],\n",
              "       [0.15444015],\n",
              "       [0.11196911],\n",
              "       [0.08108108],\n",
              "       [0.11969112],\n",
              "       [0.12934363],\n",
              "       [0.14671815],\n",
              "       [0.17181467],\n",
              "       [0.14864865],\n",
              "       [0.15250965],\n",
              "       [0.22007722],\n",
              "       [0.24324324],\n",
              "       [0.26640927],\n",
              "       [0.2027027 ],\n",
              "       [0.16795367],\n",
              "       [0.13127413],\n",
              "       [0.17374517],\n",
              "       [0.17760618],\n",
              "       [0.17760618],\n",
              "       [0.25482625],\n",
              "       [0.25289575],\n",
              "       [0.24131274],\n",
              "       [0.26833977],\n",
              "       [0.30888031],\n",
              "       [0.32432432],\n",
              "       [0.25675676],\n",
              "       [0.20656371],\n",
              "       [0.14671815],\n",
              "       [0.18725869],\n",
              "       [0.19305019],\n",
              "       [0.16216216],\n",
              "       [0.25289575],\n",
              "       [0.23745174],\n",
              "       [0.25096525],\n",
              "       [0.30888031],\n",
              "       [0.38223938],\n",
              "       [0.36486486],\n",
              "       [0.2992278 ],\n",
              "       [0.24131274],\n",
              "       [0.19111969],\n",
              "       [0.24131274],\n",
              "       [0.26640927],\n",
              "       [0.24903475],\n",
              "       [0.31467181],\n",
              "       [0.31853282],\n",
              "       [0.32046332],\n",
              "       [0.40733591],\n",
              "       [0.5019305 ],\n",
              "       [0.46911197],\n",
              "       [0.4015444 ],\n",
              "       [0.32818533],\n",
              "       [0.25675676],\n",
              "       [0.33590734],\n",
              "       [0.34749035],\n",
              "       [0.33397683],\n",
              "       [0.41119691],\n",
              "       [0.4034749 ],\n",
              "       [0.41312741],\n",
              "       [0.52123552],\n",
              "       [0.5965251 ],\n",
              "       [0.58108108],\n",
              "       [0.48455598],\n",
              "       [0.38996139],\n",
              "       [0.32239382],\n",
              "       [0.38996139],\n",
              "       [0.40733591],\n",
              "       [0.38030888],\n",
              "       [0.48648649],\n",
              "       [0.47104247],\n",
              "       [0.48455598],\n",
              "       [0.61389961],\n",
              "       [0.6969112 ],\n",
              "       [0.7007722 ],\n",
              "       [0.57915058],\n",
              "       [0.46911197],\n",
              "       [0.38803089],\n",
              "       [0.44787645],\n",
              "       [0.45559846],\n",
              "       [0.41312741],\n",
              "       [0.4980695 ],\n",
              "       [0.47104247],\n",
              "       [0.5       ],\n",
              "       [0.63899614],\n",
              "       [0.74710425],\n",
              "       [0.77413127],\n",
              "       [0.57915058],\n",
              "       [0.49227799],\n",
              "       [0.3976834 ],\n",
              "       [0.44980695],\n",
              "       [0.49420849],\n",
              "       [0.45945946],\n",
              "       [0.58301158],\n",
              "       [0.56370656],\n",
              "       [0.61003861],\n",
              "       [0.71042471],\n",
              "       [0.85714286],\n",
              "       [0.87837838],\n",
              "       [0.69305019],\n",
              "       [0.58494208],\n",
              "       [0.4980695 ],\n",
              "       [0.58108108],\n",
              "       [0.6042471 ],\n",
              "       [0.55405405],\n",
              "       [0.60810811],\n",
              "       [0.68918919],\n",
              "       [0.71042471],\n",
              "       [0.83204633],\n",
              "       [1.        ],\n",
              "       [0.96911197],\n",
              "       [0.77992278],\n",
              "       [0.68918919],\n",
              "       [0.55212355]])"
            ]
          },
          "metadata": {},
          "execution_count": 26
        }
      ]
    },
    {
      "cell_type": "code",
      "source": [
        "y.shape"
      ],
      "metadata": {
        "colab": {
          "base_uri": "https://localhost:8080/"
        },
        "id": "66UdBBWM5xAt",
        "outputId": "afeb319b-6b30-4483-e20f-6babacbe1a7e"
      },
      "execution_count": null,
      "outputs": [
        {
          "output_type": "execute_result",
          "data": {
            "text/plain": [
              "(143, 1)"
            ]
          },
          "metadata": {},
          "execution_count": 8
        }
      ]
    },
    {
      "cell_type": "code",
      "source": [
        "import numpy as np\n",
        "from keras.models import Sequential\n",
        "from keras.layers import LSTM, Dense, Dropout\n",
        "from sklearn.preprocessing import MinMaxScaler\n",
        "from sklearn.metrics import mean_squared_error\n",
        "\n",
        "\n",
        "# Normalizacja danych\n",
        "scaler = MinMaxScaler()\n",
        "X = scaler.fit_transform(passengers[:-1])\n",
        "y = scaler.fit_transform(passengers[1:])\n",
        "\n",
        "\n",
        "# Podział na zbiór treningowy i testowy\n",
        "train_size = int(0.8 * len(X))\n",
        "X_train, X_test = X[:train_size], X[train_size:]\n",
        "y_train, y_test = y[:train_size], y[train_size:]\n",
        "y_test_2=y_test\n",
        "\n",
        "# model + compilacja + predykcja"
      ],
      "metadata": {
        "id": "XH0YEwf89v_d"
      },
      "execution_count": null,
      "outputs": []
    },
    {
      "cell_type": "code",
      "source": [
        "X_train\n"
      ],
      "metadata": {
        "colab": {
          "base_uri": "https://localhost:8080/"
        },
        "id": "NPH_d6VzclD6",
        "outputId": "e3e1e7a6-c305-4fca-d888-a6d62d72498b"
      },
      "execution_count": null,
      "outputs": [
        {
          "output_type": "execute_result",
          "data": {
            "text/plain": [
              "array([[0.01544402],\n",
              "       [0.02702703],\n",
              "       [0.05405405],\n",
              "       [0.04826255],\n",
              "       [0.03281853],\n",
              "       [0.05984556],\n",
              "       [0.08494208],\n",
              "       [0.08494208],\n",
              "       [0.06177606],\n",
              "       [0.02895753],\n",
              "       [0.        ],\n",
              "       [0.02702703],\n",
              "       [0.02123552],\n",
              "       [0.04247104],\n",
              "       [0.07142857],\n",
              "       [0.05984556],\n",
              "       [0.04054054],\n",
              "       [0.08687259],\n",
              "       [0.12741313],\n",
              "       [0.12741313],\n",
              "       [0.1042471 ],\n",
              "       [0.05598456],\n",
              "       [0.01930502],\n",
              "       [0.06949807],\n",
              "       [0.07915058],\n",
              "       [0.08880309],\n",
              "       [0.14285714],\n",
              "       [0.11389961],\n",
              "       [0.13127413],\n",
              "       [0.14285714],\n",
              "       [0.18339768],\n",
              "       [0.18339768],\n",
              "       [0.15444015],\n",
              "       [0.11196911],\n",
              "       [0.08108108],\n",
              "       [0.11969112],\n",
              "       [0.12934363],\n",
              "       [0.14671815],\n",
              "       [0.17181467],\n",
              "       [0.14864865],\n",
              "       [0.15250965],\n",
              "       [0.22007722],\n",
              "       [0.24324324],\n",
              "       [0.26640927],\n",
              "       [0.2027027 ],\n",
              "       [0.16795367],\n",
              "       [0.13127413],\n",
              "       [0.17374517],\n",
              "       [0.17760618],\n",
              "       [0.17760618],\n",
              "       [0.25482625],\n",
              "       [0.25289575],\n",
              "       [0.24131274],\n",
              "       [0.26833977],\n",
              "       [0.30888031],\n",
              "       [0.32432432],\n",
              "       [0.25675676],\n",
              "       [0.20656371],\n",
              "       [0.14671815],\n",
              "       [0.18725869],\n",
              "       [0.19305019],\n",
              "       [0.16216216],\n",
              "       [0.25289575],\n",
              "       [0.23745174],\n",
              "       [0.25096525],\n",
              "       [0.30888031],\n",
              "       [0.38223938],\n",
              "       [0.36486486],\n",
              "       [0.2992278 ],\n",
              "       [0.24131274],\n",
              "       [0.19111969],\n",
              "       [0.24131274],\n",
              "       [0.26640927],\n",
              "       [0.24903475],\n",
              "       [0.31467181],\n",
              "       [0.31853282],\n",
              "       [0.32046332],\n",
              "       [0.40733591],\n",
              "       [0.5019305 ],\n",
              "       [0.46911197],\n",
              "       [0.4015444 ],\n",
              "       [0.32818533],\n",
              "       [0.25675676],\n",
              "       [0.33590734],\n",
              "       [0.34749035],\n",
              "       [0.33397683],\n",
              "       [0.41119691],\n",
              "       [0.4034749 ],\n",
              "       [0.41312741],\n",
              "       [0.52123552],\n",
              "       [0.5965251 ],\n",
              "       [0.58108108],\n",
              "       [0.48455598],\n",
              "       [0.38996139],\n",
              "       [0.32239382],\n",
              "       [0.38996139],\n",
              "       [0.40733591],\n",
              "       [0.38030888],\n",
              "       [0.48648649],\n",
              "       [0.47104247],\n",
              "       [0.48455598],\n",
              "       [0.61389961],\n",
              "       [0.6969112 ],\n",
              "       [0.7007722 ],\n",
              "       [0.57915058],\n",
              "       [0.46911197],\n",
              "       [0.38803089],\n",
              "       [0.44787645],\n",
              "       [0.45559846],\n",
              "       [0.41312741],\n",
              "       [0.4980695 ],\n",
              "       [0.47104247],\n",
              "       [0.5       ],\n",
              "       [0.63899614]])"
            ]
          },
          "metadata": {},
          "execution_count": 49
        }
      ]
    },
    {
      "cell_type": "code",
      "source": [
        "from tensorflow.keras.layers import Embedding\n",
        "\n",
        "model = Sequential()\n",
        "model.add(LSTM(units=128,activation='relu', input_shape=(X_train.shape[1], 1)))\n",
        "#model.add(Dropout(0.4))\n",
        "model.add(Dense(1))\n",
        "\n",
        "model.compile(optimizer='adam', loss='mse', metrics=['mse'])\n",
        "\n",
        "model.fit(X_train, y_train, epochs=100, batch_size=32, verbose=1)\n"
      ],
      "metadata": {
        "id": "Iw29YJk9DnRv",
        "colab": {
          "base_uri": "https://localhost:8080/"
        },
        "outputId": "ed5c5449-8f9b-40cd-96c5-0303d096afc2"
      },
      "execution_count": null,
      "outputs": [
        {
          "output_type": "stream",
          "name": "stderr",
          "text": [
            "WARNING:tensorflow:Layer lstm_24 will not use cuDNN kernels since it doesn't meet the criteria. It will use a generic GPU kernel as fallback when running on GPU.\n"
          ]
        },
        {
          "output_type": "stream",
          "name": "stdout",
          "text": [
            "Epoch 1/100\n",
            "4/4 [==============================] - 2s 7ms/step - loss: 0.1027 - mse: 0.1027\n",
            "Epoch 2/100\n",
            "4/4 [==============================] - 0s 6ms/step - loss: 0.0955 - mse: 0.0955\n",
            "Epoch 3/100\n",
            "4/4 [==============================] - 0s 6ms/step - loss: 0.0895 - mse: 0.0895\n",
            "Epoch 4/100\n",
            "4/4 [==============================] - 0s 6ms/step - loss: 0.0830 - mse: 0.0830\n",
            "Epoch 5/100\n",
            "4/4 [==============================] - 0s 7ms/step - loss: 0.0777 - mse: 0.0777\n",
            "Epoch 6/100\n",
            "4/4 [==============================] - 0s 6ms/step - loss: 0.0722 - mse: 0.0722\n",
            "Epoch 7/100\n",
            "4/4 [==============================] - 0s 6ms/step - loss: 0.0677 - mse: 0.0677\n",
            "Epoch 8/100\n",
            "4/4 [==============================] - 0s 6ms/step - loss: 0.0627 - mse: 0.0627\n",
            "Epoch 9/100\n",
            "4/4 [==============================] - 0s 6ms/step - loss: 0.0581 - mse: 0.0581\n",
            "Epoch 10/100\n",
            "4/4 [==============================] - 0s 6ms/step - loss: 0.0538 - mse: 0.0538\n",
            "Epoch 11/100\n",
            "4/4 [==============================] - 0s 5ms/step - loss: 0.0497 - mse: 0.0497\n",
            "Epoch 12/100\n",
            "4/4 [==============================] - 0s 6ms/step - loss: 0.0456 - mse: 0.0456\n",
            "Epoch 13/100\n",
            "4/4 [==============================] - 0s 6ms/step - loss: 0.0419 - mse: 0.0419\n",
            "Epoch 14/100\n",
            "4/4 [==============================] - 0s 6ms/step - loss: 0.0383 - mse: 0.0383\n",
            "Epoch 15/100\n",
            "4/4 [==============================] - 0s 6ms/step - loss: 0.0349 - mse: 0.0349\n",
            "Epoch 16/100\n",
            "4/4 [==============================] - 0s 7ms/step - loss: 0.0320 - mse: 0.0320\n",
            "Epoch 17/100\n",
            "4/4 [==============================] - 0s 6ms/step - loss: 0.0291 - mse: 0.0291\n",
            "Epoch 18/100\n",
            "4/4 [==============================] - 0s 6ms/step - loss: 0.0267 - mse: 0.0267\n",
            "Epoch 19/100\n",
            "4/4 [==============================] - 0s 6ms/step - loss: 0.0247 - mse: 0.0247\n",
            "Epoch 20/100\n",
            "4/4 [==============================] - 0s 10ms/step - loss: 0.0228 - mse: 0.0228\n",
            "Epoch 21/100\n",
            "4/4 [==============================] - 0s 8ms/step - loss: 0.0215 - mse: 0.0215\n",
            "Epoch 22/100\n",
            "4/4 [==============================] - 0s 7ms/step - loss: 0.0202 - mse: 0.0202\n",
            "Epoch 23/100\n",
            "4/4 [==============================] - 0s 6ms/step - loss: 0.0193 - mse: 0.0193\n",
            "Epoch 24/100\n",
            "4/4 [==============================] - 0s 6ms/step - loss: 0.0185 - mse: 0.0185\n",
            "Epoch 25/100\n",
            "4/4 [==============================] - 0s 6ms/step - loss: 0.0180 - mse: 0.0180\n",
            "Epoch 26/100\n",
            "4/4 [==============================] - 0s 6ms/step - loss: 0.0175 - mse: 0.0175\n",
            "Epoch 27/100\n",
            "4/4 [==============================] - 0s 6ms/step - loss: 0.0173 - mse: 0.0173\n",
            "Epoch 28/100\n",
            "4/4 [==============================] - 0s 6ms/step - loss: 0.0170 - mse: 0.0170\n",
            "Epoch 29/100\n",
            "4/4 [==============================] - 0s 6ms/step - loss: 0.0169 - mse: 0.0169\n",
            "Epoch 30/100\n",
            "4/4 [==============================] - 0s 7ms/step - loss: 0.0166 - mse: 0.0166\n",
            "Epoch 31/100\n",
            "4/4 [==============================] - 0s 6ms/step - loss: 0.0164 - mse: 0.0164\n",
            "Epoch 32/100\n",
            "4/4 [==============================] - 0s 6ms/step - loss: 0.0162 - mse: 0.0162\n",
            "Epoch 33/100\n",
            "4/4 [==============================] - 0s 6ms/step - loss: 0.0160 - mse: 0.0160\n",
            "Epoch 34/100\n",
            "4/4 [==============================] - 0s 6ms/step - loss: 0.0157 - mse: 0.0157\n",
            "Epoch 35/100\n",
            "4/4 [==============================] - 0s 6ms/step - loss: 0.0155 - mse: 0.0155\n",
            "Epoch 36/100\n",
            "4/4 [==============================] - 0s 6ms/step - loss: 0.0153 - mse: 0.0153\n",
            "Epoch 37/100\n",
            "4/4 [==============================] - 0s 6ms/step - loss: 0.0150 - mse: 0.0150\n",
            "Epoch 38/100\n",
            "4/4 [==============================] - 0s 6ms/step - loss: 0.0148 - mse: 0.0148\n",
            "Epoch 39/100\n",
            "4/4 [==============================] - 0s 6ms/step - loss: 0.0146 - mse: 0.0146\n",
            "Epoch 40/100\n",
            "4/4 [==============================] - 0s 7ms/step - loss: 0.0143 - mse: 0.0143\n",
            "Epoch 41/100\n",
            "4/4 [==============================] - 0s 6ms/step - loss: 0.0141 - mse: 0.0141\n",
            "Epoch 42/100\n",
            "4/4 [==============================] - 0s 7ms/step - loss: 0.0138 - mse: 0.0138\n",
            "Epoch 43/100\n",
            "4/4 [==============================] - 0s 6ms/step - loss: 0.0136 - mse: 0.0136\n",
            "Epoch 44/100\n",
            "4/4 [==============================] - 0s 6ms/step - loss: 0.0134 - mse: 0.0134\n",
            "Epoch 45/100\n",
            "4/4 [==============================] - 0s 6ms/step - loss: 0.0131 - mse: 0.0131\n",
            "Epoch 46/100\n",
            "4/4 [==============================] - 0s 6ms/step - loss: 0.0129 - mse: 0.0129\n",
            "Epoch 47/100\n",
            "4/4 [==============================] - 0s 6ms/step - loss: 0.0126 - mse: 0.0126\n",
            "Epoch 48/100\n",
            "4/4 [==============================] - 0s 6ms/step - loss: 0.0124 - mse: 0.0124\n",
            "Epoch 49/100\n",
            "4/4 [==============================] - 0s 6ms/step - loss: 0.0121 - mse: 0.0121\n",
            "Epoch 50/100\n",
            "4/4 [==============================] - 0s 6ms/step - loss: 0.0119 - mse: 0.0119\n",
            "Epoch 51/100\n",
            "4/4 [==============================] - 0s 9ms/step - loss: 0.0116 - mse: 0.0116\n",
            "Epoch 52/100\n",
            "4/4 [==============================] - 0s 13ms/step - loss: 0.0113 - mse: 0.0113\n",
            "Epoch 53/100\n",
            "4/4 [==============================] - 0s 6ms/step - loss: 0.0111 - mse: 0.0111\n",
            "Epoch 54/100\n",
            "4/4 [==============================] - 0s 6ms/step - loss: 0.0109 - mse: 0.0109\n",
            "Epoch 55/100\n",
            "4/4 [==============================] - 0s 6ms/step - loss: 0.0106 - mse: 0.0106\n",
            "Epoch 56/100\n",
            "4/4 [==============================] - 0s 6ms/step - loss: 0.0103 - mse: 0.0103\n",
            "Epoch 57/100\n",
            "4/4 [==============================] - 0s 6ms/step - loss: 0.0101 - mse: 0.0101\n",
            "Epoch 58/100\n",
            "4/4 [==============================] - 0s 6ms/step - loss: 0.0098 - mse: 0.0098\n",
            "Epoch 59/100\n",
            "4/4 [==============================] - 0s 5ms/step - loss: 0.0096 - mse: 0.0096\n",
            "Epoch 60/100\n",
            "4/4 [==============================] - 0s 7ms/step - loss: 0.0093 - mse: 0.0093\n",
            "Epoch 61/100\n",
            "4/4 [==============================] - 0s 6ms/step - loss: 0.0091 - mse: 0.0091\n",
            "Epoch 62/100\n",
            "4/4 [==============================] - 0s 6ms/step - loss: 0.0088 - mse: 0.0088\n",
            "Epoch 63/100\n",
            "4/4 [==============================] - 0s 6ms/step - loss: 0.0086 - mse: 0.0086\n",
            "Epoch 64/100\n",
            "4/4 [==============================] - 0s 6ms/step - loss: 0.0084 - mse: 0.0084\n",
            "Epoch 65/100\n",
            "4/4 [==============================] - 0s 6ms/step - loss: 0.0081 - mse: 0.0081\n",
            "Epoch 66/100\n",
            "4/4 [==============================] - 0s 6ms/step - loss: 0.0079 - mse: 0.0079\n",
            "Epoch 67/100\n",
            "4/4 [==============================] - 0s 6ms/step - loss: 0.0077 - mse: 0.0077\n",
            "Epoch 68/100\n",
            "4/4 [==============================] - 0s 6ms/step - loss: 0.0075 - mse: 0.0075\n",
            "Epoch 69/100\n",
            "4/4 [==============================] - 0s 6ms/step - loss: 0.0072 - mse: 0.0072\n",
            "Epoch 70/100\n",
            "4/4 [==============================] - 0s 7ms/step - loss: 0.0070 - mse: 0.0070\n",
            "Epoch 71/100\n",
            "4/4 [==============================] - 0s 6ms/step - loss: 0.0068 - mse: 0.0068\n",
            "Epoch 72/100\n",
            "4/4 [==============================] - 0s 6ms/step - loss: 0.0066 - mse: 0.0066\n",
            "Epoch 73/100\n",
            "4/4 [==============================] - 0s 6ms/step - loss: 0.0064 - mse: 0.0064\n",
            "Epoch 74/100\n",
            "4/4 [==============================] - 0s 6ms/step - loss: 0.0062 - mse: 0.0062\n",
            "Epoch 75/100\n",
            "4/4 [==============================] - 0s 6ms/step - loss: 0.0060 - mse: 0.0060\n",
            "Epoch 76/100\n",
            "4/4 [==============================] - 0s 6ms/step - loss: 0.0059 - mse: 0.0059\n",
            "Epoch 77/100\n",
            "4/4 [==============================] - 0s 6ms/step - loss: 0.0057 - mse: 0.0057\n",
            "Epoch 78/100\n",
            "4/4 [==============================] - 0s 6ms/step - loss: 0.0055 - mse: 0.0055\n",
            "Epoch 79/100\n",
            "4/4 [==============================] - 0s 6ms/step - loss: 0.0054 - mse: 0.0054\n",
            "Epoch 80/100\n",
            "4/4 [==============================] - 0s 6ms/step - loss: 0.0052 - mse: 0.0052\n",
            "Epoch 81/100\n",
            "4/4 [==============================] - 0s 6ms/step - loss: 0.0050 - mse: 0.0050\n",
            "Epoch 82/100\n",
            "4/4 [==============================] - 0s 7ms/step - loss: 0.0049 - mse: 0.0049\n",
            "Epoch 83/100\n",
            "4/4 [==============================] - 0s 6ms/step - loss: 0.0047 - mse: 0.0047\n",
            "Epoch 84/100\n",
            "4/4 [==============================] - 0s 6ms/step - loss: 0.0046 - mse: 0.0046\n",
            "Epoch 85/100\n",
            "4/4 [==============================] - 0s 9ms/step - loss: 0.0045 - mse: 0.0045\n",
            "Epoch 86/100\n",
            "4/4 [==============================] - 0s 6ms/step - loss: 0.0043 - mse: 0.0043\n",
            "Epoch 87/100\n",
            "4/4 [==============================] - 0s 7ms/step - loss: 0.0042 - mse: 0.0042\n",
            "Epoch 88/100\n",
            "4/4 [==============================] - 0s 6ms/step - loss: 0.0041 - mse: 0.0041\n",
            "Epoch 89/100\n",
            "4/4 [==============================] - 0s 6ms/step - loss: 0.0040 - mse: 0.0040\n",
            "Epoch 90/100\n",
            "4/4 [==============================] - 0s 6ms/step - loss: 0.0039 - mse: 0.0039\n",
            "Epoch 91/100\n",
            "4/4 [==============================] - 0s 6ms/step - loss: 0.0038 - mse: 0.0038\n",
            "Epoch 92/100\n",
            "4/4 [==============================] - 0s 6ms/step - loss: 0.0037 - mse: 0.0037\n",
            "Epoch 93/100\n",
            "4/4 [==============================] - 0s 6ms/step - loss: 0.0036 - mse: 0.0036\n",
            "Epoch 94/100\n",
            "4/4 [==============================] - 0s 6ms/step - loss: 0.0036 - mse: 0.0036\n",
            "Epoch 95/100\n",
            "4/4 [==============================] - 0s 6ms/step - loss: 0.0035 - mse: 0.0035\n",
            "Epoch 96/100\n",
            "4/4 [==============================] - 0s 6ms/step - loss: 0.0034 - mse: 0.0034\n",
            "Epoch 97/100\n",
            "4/4 [==============================] - 0s 7ms/step - loss: 0.0034 - mse: 0.0034\n",
            "Epoch 98/100\n",
            "4/4 [==============================] - 0s 6ms/step - loss: 0.0033 - mse: 0.0033\n",
            "Epoch 99/100\n",
            "4/4 [==============================] - 0s 7ms/step - loss: 0.0033 - mse: 0.0033\n",
            "Epoch 100/100\n",
            "4/4 [==============================] - 0s 6ms/step - loss: 0.0032 - mse: 0.0032\n"
          ]
        },
        {
          "output_type": "execute_result",
          "data": {
            "text/plain": [
              "<keras.src.callbacks.History at 0x788c3dce6b00>"
            ]
          },
          "metadata": {},
          "execution_count": 73
        }
      ]
    },
    {
      "cell_type": "code",
      "source": [
        "y_pred = model.predict(X_test)\n",
        "y_test=y_test_2\n",
        "# Odwrotna normalizacja danych\n",
        "y_pred = scaler.inverse_transform(y_pred)\n",
        "y_test = scaler.inverse_transform(y_test)\n",
        "\n",
        "# Obliczenie błędu średniokwadratowego (MSE)\n",
        "from sklearn.metrics import mean_squared_error\n",
        "mse = mean_squared_error(y_test, y_pred)\n",
        "print(f\"MSE: {mse}\")"
      ],
      "metadata": {
        "colab": {
          "base_uri": "https://localhost:8080/"
        },
        "id": "_s39oHHF8FVT",
        "outputId": "628d0558-41d3-4013-bad4-e1cb30b5e985"
      },
      "execution_count": null,
      "outputs": [
        {
          "output_type": "stream",
          "name": "stdout",
          "text": [
            "1/1 [==============================] - 0s 137ms/step\n",
            "MSE: 2917.9909463531885\n"
          ]
        }
      ]
    },
    {
      "cell_type": "code",
      "source": [
        "\n",
        "# wizualizacja wyników predykcji\n",
        "plt.plot(y_test[:-1], label='Rzeczywiste wartości')\n",
        "plt.plot(y_pred[1:], label='Prognozy')\n",
        "plt.legend()\n",
        "plt.title('prognoza pasażerów na zbiorze testowym')"
      ],
      "metadata": {
        "colab": {
          "base_uri": "https://localhost:8080/",
          "height": 470
        },
        "id": "9nWTKGxh8Awl",
        "outputId": "341298d8-a00d-427f-ed94-c598c063b60d"
      },
      "execution_count": null,
      "outputs": [
        {
          "output_type": "execute_result",
          "data": {
            "text/plain": [
              "Text(0.5, 1.0, 'prognoza pasażerów na zbiorze testowym')"
            ]
          },
          "metadata": {},
          "execution_count": 76
        },
        {
          "output_type": "display_data",
          "data": {
            "text/plain": [
              "<Figure size 640x480 with 1 Axes>"
            ],
            "image/png": "[encoded data removed]"
          },
          "metadata": {}
        }
      ]
    },
    {
      "cell_type": "markdown",
      "source": [
        "# Zadania związane z sieciami neuronowymi i zbiorem danych tekstowych:\n",
        "\n",
        "Zadanie: Klasyfikacja sentymentu recenzji filmowych\n",
        "\n",
        "### Przygotowanie danych:\n",
        "\n",
        "Wybierz zbiór danych tekstowych - recenzji filmowych, zawierający teksty i odpowiadające im etykiety sentymentalne (np. pozytywny/negatywny).\n",
        "Załaduj zbiór danych i podziel go na zbiór treningowy i zbiór testowy.\n",
        "\n",
        "### Implementacja modelu:\n",
        "\n",
        "Stwórz model sieci neuronowej w Keras, np. oparty na warstwach Embedding i Dense.\n",
        "Dodaj warstwę Embedding, aby przekształcić słowa na wektory o stałej długości.\n",
        "Dodaj warstwy ukryte, takie jak warstwy LSTM, Conv1D lub Dense, aby przetwarzać wektory.\n",
        "Dodaj warstwę wyjściową, która generuje wynik klasyfikacji (np. softmax dla wieloklasowej klasyfikacji sentymentu).\n",
        "### Trenowanie modelu:\n",
        "\n",
        "Skompiluj model, określając funkcję kosztu i optymalizator.\n",
        "Trenuj model na danych treningowych za pomocą funkcji fit(), określając liczbę epok, rozmiar partii (batch size) i opcjonalnie zbiór walidacyjny.\n",
        "### Ocena modelu:\n",
        "\n",
        "Ocena wydajności modelu na danych testowych za pomocą funkcji evaluate(), która oblicza stratę (koszt) i metryki, takie jak dokładność (accuracy).\n",
        "Wykorzystaj wyniki oceny do analizy wydajności modelu.\n",
        "### Predykcja:\n",
        "\n",
        "Wykorzystaj nauczony model do predykcji sentymentu na nowych danych tekstowych.\n",
        "Przekształć teksty na wektory lub sekwencje liczb za pomocą tokenizacji i kodowania tekstów.\n",
        "To zadanie polega na zastosowaniu sieci neuronowej do klasyfikacji sentymentu recenzji filmowych na pozytywne i negatywne. Możesz dostosować architekturę modelu, rodzaj warstw, parametry uczenia i inne aspekty w celu zoptymalizowania wyników.\n",
        "\n",
        "Pamiętaj, że powyższe wskazówki stanowią ogólny szkic zadania, a dostosowanie go do konkretnego zbioru danych i wymagań modelu jest niezbędne."
      ],
      "metadata": {
        "id": "7Jh6V6cJ_SaN"
      }
    },
    {
      "cell_type": "code",
      "source": [
        "from keras.datasets import imdb, reuters\n",
        "from keras.utils import pad_sequences\n",
        "from keras.models import Sequential\n",
        "from keras.layers import Embedding, LSTM, Dense\n",
        "\n",
        "# Przygotowanie danych\n",
        "max_features = 1000\n",
        "max_len = 200\n",
        "num_classes = 2\n",
        "\n",
        "(X_train, y_train), (X_test, y_test) = imdb.load_data(num_words=max_features)\n",
        "X_train = pad_sequences(X_train, maxlen=max_len)\n",
        "X_test = pad_sequences(X_test, maxlen=max_len)\n",
        "\n",
        "\n",
        "from keras.utils import to_categorical\n",
        "\n",
        "# Przygotowanie etykiet w postaci one-hot\n",
        "y_train = to_categorical(y_train, num_classes=num_classes)\n",
        "y_test = to_categorical(y_test, num_classes=num_classes)"
      ],
      "metadata": {
        "id": "mWDWMiTO_hup"
      },
      "execution_count": null,
      "outputs": []
    },
    {
      "cell_type": "code",
      "source": [
        "y_train"
      ],
      "metadata": {
        "colab": {
          "base_uri": "https://localhost:8080/"
        },
        "id": "mfkhtIXah5NZ",
        "outputId": "8ead92e8-a074-413a-8745-d3b63deec444"
      },
      "execution_count": null,
      "outputs": [
        {
          "output_type": "execute_result",
          "data": {
            "text/plain": [
              "array([[0., 1.],\n",
              "       [1., 0.],\n",
              "       [1., 0.],\n",
              "       ...,\n",
              "       [1., 0.],\n",
              "       [0., 1.],\n",
              "       [1., 0.]], dtype=float32)"
            ]
          },
          "metadata": {},
          "execution_count": 90
        }
      ]
    },
    {
      "cell_type": "code",
      "source": [
        "#todo model + predykcja\n",
        "\n",
        "model = Sequential()\n",
        "model.add(Embedding(input_dim=max_features, output_dim=128))\n",
        "model.add(LSTM(128, dropout=0.2, recurrent_dropout=0.2))\n",
        "model.add(Dense(2, activation='softmax'))\n",
        "\n",
        "model.compile(optimizer='adam', loss='categorical_crossentropy', metrics=['accuracy'])\n",
        "\n",
        "model.fit(X_train, y_train, epochs=2, batch_size=32, verbose=1, validation_split=0.2)\n",
        "\n",
        "#y_pred = model.predict(X_test)"
      ],
      "metadata": {
        "id": "sn9ALigCQAl7",
        "colab": {
          "base_uri": "https://localhost:8080/"
        },
        "outputId": "abe60645-4415-40f1-82a9-01890de9051d"
      },
      "execution_count": null,
      "outputs": [
        {
          "output_type": "stream",
          "name": "stderr",
          "text": [
            "WARNING:tensorflow:Layer lstm_37 will not use cuDNN kernels since it doesn't meet the criteria. It will use a generic GPU kernel as fallback when running on GPU.\n"
          ]
        },
        {
          "output_type": "stream",
          "name": "stdout",
          "text": [
            "Epoch 1/2\n",
            "625/625 [==============================] - 305s 402ms/step - loss: 0.4784 - accuracy: 0.7705 - val_loss: 0.4209 - val_accuracy: 0.8224\n",
            "Epoch 2/2\n",
            "625/625 [==============================] - 250s 400ms/step - loss: 0.3997 - accuracy: 0.8272 - val_loss: 0.3725 - val_accuracy: 0.8430\n"
          ]
        },
        {
          "output_type": "execute_result",
          "data": {
            "text/plain": [
              "<keras.src.callbacks.History at 0x788bf44764d0>"
            ]
          },
          "metadata": {},
          "execution_count": 95
        }
      ]
    },
    {
      "cell_type": "markdown",
      "source": [
        "### Sprawdzenie: danych IMDB"
      ],
      "metadata": {
        "id": "SJQE2vkJOGnJ"
      }
    },
    {
      "cell_type": "code",
      "source": [
        "from keras.datasets import imdb\n",
        "from keras.preprocessing import sequence\n",
        "\n",
        "# Przygotowanie danych\n",
        "max_features = 10000\n",
        "max_len = 200\n",
        "\n",
        "word_index = imdb.get_word_index()\n",
        "\n",
        "# Odwrócenie mapowania indeksów słów na słowa\n",
        "reverse_word_index = dict((index, word) for (word, index) in word_index.items())\n",
        "\n",
        "# Dekodowanie recenzji tekstowych\n",
        "def decode_review(index_list):\n",
        "    return ' '.join(reverse_word_index.get(index - 3, '?') for index in index_list)\n",
        "\n",
        "# Wyświetlanie przykładowych recenzji\n",
        "for i in range(5):\n",
        "    review = decode_review(X_test[i])\n",
        "    import numpy as np\n",
        "\n",
        "    # Przyjmujemy, że 'model' to wcześniej wytrenowany model.\n",
        "\n",
        "    # Wykonujemy predykcję na zestawie testowym.\n",
        "    predictions = model.predict(X_test[i:(i+1), :])\n",
        "\n",
        "    # Wyodrębniamy logity z wyników predykcji.\n",
        "    logits = predictions\n",
        "\n",
        "    # Przywracamy one-hot encoding.\n",
        "    one_hot_predictions = np.argmax(logits, axis=1)\n",
        "\n",
        "    print(\"Predictions (One-hot encoding):\", one_hot_predictions)\n",
        "\n",
        "    print(f\"Recenzja {i+1}: {y_test[i]}\")\n",
        "    print(review)\n",
        "    print()"
      ],
      "metadata": {
        "colab": {
          "base_uri": "https://localhost:8080/"
        },
        "id": "VYj-CSoSEJV0",
        "outputId": "b63a6a37-1771-4d0d-b378-605f1889d0cc"
      },
      "execution_count": null,
      "outputs": [
        {
          "output_type": "stream",
          "name": "stdout",
          "text": [
            "1/1 [==============================] - 0s 266ms/step\n",
            "Predictions (One-hot encoding): [0]\n",
            "Recenzja 1: [1. 0.]\n",
            "? ? ? ? ? ? ? ? ? ? ? ? ? ? ? ? ? ? ? ? ? ? ? ? ? ? ? ? ? ? ? ? ? ? ? ? ? ? ? ? ? ? ? ? ? ? ? ? ? ? ? ? ? ? ? ? ? ? ? ? ? ? ? ? ? ? ? ? ? ? ? ? ? ? ? ? ? ? ? ? ? ? ? ? ? ? ? ? ? ? ? ? ? ? ? ? ? ? ? ? ? ? ? ? ? ? ? ? ? ? ? ? ? ? ? ? ? ? ? ? ? ? ? ? ? ? ? ? ? ? ? ? ? please give this one a miss br br ? ? and the rest of the cast ? terrible performances the show is ? ? ? br br i don't know how michael ? could have ? this one on his ? he almost seemed to know this wasn't going to work out and his performance was quite ? so all you ? fans give this a miss\n",
            "\n",
            "1/1 [==============================] - 0s 65ms/step\n",
            "Predictions (One-hot encoding): [1]\n",
            "Recenzja 2: [0. 1.]\n",
            "? ? it's very interesting that robert ? directed this ? the style and ? of his other films still the ? ? ? style is ? here and there i think what really makes this film work is the brilliant performance by ? ? it's definitely one of her ? characters but she plays it so perfectly and ? that it's scary michael ? does a good job as the ? young man ? ? ? michael ? has a small part the ? ? set ? the ? of the story very well in short this movie is a powerful ? of ? sexual ? and ? be ? ? up the atmosphere and pay attention to the ? written script br br i ? robert ? this is one of his many films that ? with ? ? subject matter this film is ? but it's ? and it's sure to ? a strong emotional ? from the viewer if you want to see an ? film some might even say ? this is worth the time br br unfortunately it's very difficult to find in video ? you may have to buy it off the ?\n",
            "\n",
            "1/1 [==============================] - 0s 71ms/step\n",
            "Predictions (One-hot encoding): [0]\n",
            "Recenzja 3: [0. 1.]\n",
            "? horror the ? ? ? the ? and then goes on a ? ? ? ? at ? a title ? ? ? ? of the ? ? throughout the ? when the now ? ? once more ? ? for help he ? his ? and ? their ? with ? ? the ? of our story ? by a ? ? just before he is ? is let well enough alone br br ? the time period when this ? little film was made and ? the fact that it was made by a ? ? at the ? of that ? ? ? war it would be easy to see this as a ? about those events ? may or may not have had ? ? in mind when he made ? but whatever ? his ? of material the film ? as a ? tale of ? ? ? could be the ? ? ? ? or ? in the ? or any country of any era that ? its ? down and is ? by ? it's a ? film even a ? one in its ? way but its message is no joke\n",
            "\n",
            "1/1 [==============================] - 0s 89ms/step\n",
            "Predictions (One-hot encoding): [1]\n",
            "Recenzja 4: [1. 0.]\n",
            "? ? ? ? ? ? ? ? ? ? ? ? ? ? ? ? ? ? ? ? i ? love this type of movie however this time i found myself ? to ? the screen since i can't do that i will just ? about it this was absolutely ? the things that happen with the dead kids are very cool but the ? people are ? ? i am a ? man pretty big and i can ? myself well however i would not do half the stuff the little girl does in this movie also the mother in this movie is ? with her children to the point of ? i wish i wasn't so ? about her and her ? because i would have otherwise enjoyed the flick what a number she was take my ? and fast forward through everything you see her do until the end also is anyone else getting ? of watching movies that are filmed so dark ? one can hardly see what is being filmed as an audience we are ? involved with the ? on the screen so then why the hell can't we have night ?\n",
            "\n",
            "1/1 [==============================] - 0s 69ms/step\n",
            "Predictions (One-hot encoding): [1]\n",
            "Recenzja 5: [0. 1.]\n",
            "? ? ? ? ? ? ? ? ? ? ? ? ? ? ? ? ? ? ? ? ? ? ? ? ? ? ? ? ? ? ? ? ? ? ? ? ? ? ? ? ? ? ? ? ? ? ? ? ? ? ? ? ? ? ? ? ? ? ? ? ? ? ? ? ? ? ? ? ? ? ? ? ? ? ? ? ? ? ? ? ? ? ? ? ? ? ? ? ? ? ? ? ? like some other people ? i'm a die hard ? fan and i loved this game br br this game starts ? boring but ? me it's worth it as soon as you start your ? the ? are fun and ? they will ? you ? your mind turns to ? i'm not ? this game is also ? and is ? done br br to keep this ? free i have to keep my ? ? about ? but please try this game ? be worth it br br story 9 9 action 10 1 it's that good ? 10 attention ? 10 average 10\n",
            "\n"
          ]
        }
      ]
    },
    {
      "cell_type": "code",
      "source": [
        "imdb.get_word_index()['year']"
      ],
      "metadata": {
        "colab": {
          "base_uri": "https://localhost:8080/"
        },
        "id": "Pb_tvsV-MTSd",
        "outputId": "270a49cd-011b-4053-9d90-acbcc2fa001a"
      },
      "execution_count": null,
      "outputs": [
        {
          "output_type": "execute_result",
          "data": {
            "text/plain": [
              "288"
            ]
          },
          "metadata": {},
          "execution_count": 17
        }
      ]
    },
    {
      "cell_type": "markdown",
      "source": [
        "W powyższym kodzie wykorzystano zbiór danych IMDB, który jest wbudowanym zbiorem danych tekstowych w Keras. Dane są przetwarzane i tokenizowane przy użyciu funkcji imdb.load_data() i sequence.pad_sequences(), aby utworzyć macierze sekwencji o stałej długości.\n",
        "\n",
        "* Następnie model sieci neuronowej jest zdefiniowany przy użyciu warstw Embedding (do mapowania słów na wektory) oraz LSTM (do analizy sekwencji). Warstwa wyjściowa ma funkcję aktywacji softmax, ponieważ jest to zadanie binarnej klasyfikacji sentymentu.\n",
        "\n",
        "* Model jest kompilowany z użyciem funkcji straty categorical_crossentropy (ze względu na zadanie binarnej klasyfikacji) i optymalizatorem adam.\n",
        "\n",
        "* Następnie model jest trenowany na danych treningowych za pomocą funkcji fit(), a następnie oceniany na danych testowych za pomocą funkcji evaluate(). Wyniki straty (kosztu) i dokładności (accuracy) są wyświetlane na ekranie.\n",
        "\n",
        "* Pamiętaj, że powyższy kod jest ogólnym przykładem i może wymagać dostosowania do konkretnego zbioru danych i wymagań modelu.\n",
        "\n",
        "\n",
        "\n",
        "\n"
      ],
      "metadata": {
        "id": "oiIkMOat_ntR"
      }
    },
    {
      "cell_type": "code",
      "source": [],
      "metadata": {
        "id": "x2Fd2uUbKKZ1"
      },
      "execution_count": null,
      "outputs": []
    },
    {
      "cell_type": "markdown",
      "source": [
        "### Zadanie\n",
        "**Zadanie: Przewidywanie Etykiet Ze Zbioru Reuters**\n",
        "\n",
        "Twoim zadaniem jest zbudowanie modelu klasyfikacji tekstu, który będzie przewidywał etykiety tematów dla dokumentów ze zbioru Reuters. Zbiór Reuters jest popularnym zbiorem danych do zadania klasyfikacji wieloklasowej, gdzie każdy dokument jest przypisany do jednej lub kilku etykiet tematów.\n",
        "\n",
        "**Opis Zadania**\n",
        "\n",
        "Twoim celem jest zbudowanie modelu klasyfikacji, który nauczy się na podstawie opisów dokumentów z zestawu Reuters i przewidzi, do jakich etykiet tematów każdy dokument należy. W tym przypadku, zadanie klasyfikacji jest problemem wieloklasowym, ponieważ każdy dokument może być przypisany do jednej lub wielu etykiet tematów.\n",
        "\n",
        "**Instrukcje**\n",
        "\n",
        "1. Zaimportuj odpowiednie moduły z biblioteki Keras i przygotuj dane ze zbioru Reuters.\n",
        "\n",
        "2. Zdefiniuj architekturę modelu klasyfikacji. Możesz użyć różnych warstw, takich jak Embedding, LSTM, Dense itp., aby zbudować model.\n",
        "\n",
        "3. Podziel dane na zbiór treningowy i zbiór testowy w celu oceny jakości modelu.\n",
        "\n",
        "4. Skonfiguruj model, wybierz odpowiedni optymalizator i funkcję straty.\n",
        "\n",
        "5. Trenuj model na danych treningowych.\n",
        "\n",
        "6. Oceń wyniki treningu i przetestuj działanie modelu na danych testowych.\n",
        "\n",
        "**Wskazówki**\n",
        "\n",
        "- Upewnij się, że odpowiednio przetworzyłeś dane tekstowe ze zbioru Reuters przed użyciem ich do treningu modelu. Możesz użyć technik tokenizacji, wektoryzacji lub kodowania one-hot.\n",
        "\n",
        "- W zadaniu klasyfikacji wieloklasowej, odpowiednia funkcja straty to `sparse_categorical_crossentropy` lub `categorical_crossentropy`, w zależności od tego, jak zorganizowane są etykiety w danych.\n",
        "\n",
        "- Eksperymentuj z różnymi architekturami modelu, rozmiarami warstw i hiperparametrami, aby uzyskać jak najlepszą wydajność klasyfikacji.\n",
        "\n",
        "- Monitoruj wyniki na zbiorze walidacyjnym, aby uniknąć nadmiernego dopasowania (overfitting) modelu.\n",
        "\n",
        "**Oczekiwany Efekt**\n",
        "\n",
        "Oczekuje się, że po ukończeniu tego zadania będziesz mieć zaawansowany model klasyfikacji tekstu, który będzie w stanie przewidywać etykiety tematów dla dokumentów ze zbioru Reuters. Twój model powinien być zdolny do klasyfikacji nowych dokumentów z zewnętrznych źródeł na podstawie nauczonej wiedzy."
      ],
      "metadata": {
        "id": "pIRUBBCTKGEd"
      }
    },
    {
      "cell_type": "code",
      "source": [],
      "metadata": {
        "id": "sWwhDHuJ5BfS"
      },
      "execution_count": null,
      "outputs": []
    },
    {
      "cell_type": "code",
      "source": [
        "from keras.datasets import reuters\n",
        "from keras.preprocessing import sequence\n",
        "\n",
        "# Przygotowanie danych\n",
        "max_features = 10000\n",
        "max_len = 200\n",
        "\n",
        "word_index = reuters.get_word_index()\n",
        "\n",
        "# Odwrócenie mapowania indeksów słów na słowa\n",
        "reverse_word_index = dict((index, word) for (word, index) in word_index.items())"
      ],
      "metadata": {
        "id": "6JijvaYdKK6z",
        "colab": {
          "base_uri": "https://localhost:8080/"
        },
        "outputId": "49aab8a0-7606-45a6-dc83-b4f65a2abc34"
      },
      "execution_count": null,
      "outputs": [
        {
          "output_type": "stream",
          "name": "stdout",
          "text": [
            "Downloading data from https://storage.googleapis.com/tensorflow/tf-keras-datasets/reuters_word_index.json\n",
            "550378/550378 [==============================] - 1s 1us/step\n"
          ]
        }
      ]
    },
    {
      "cell_type": "code",
      "source": [
        "from keras.utils import pad_sequences\n",
        "from keras.utils import to_categorical\n",
        "\n",
        "\n",
        "max_len = 200\n",
        "num_classes = 46\n",
        "\n",
        "(X_train, y_train), (X_test, y_test) = reuters.load_data(num_words=max_features)\n",
        "X_train = pad_sequences(X_train, maxlen=max_len)\n",
        "X_test = pad_sequences(X_test, maxlen=max_len)\n",
        "y_train = to_categorical(y_train, num_classes=num_classes)\n",
        "y_test = to_categorical(y_test, num_classes=num_classes)"
      ],
      "metadata": {
        "id": "mMv4jH_06CLc",
        "colab": {
          "base_uri": "https://localhost:8080/"
        },
        "outputId": "dd31121d-f682-41b3-e64d-d5dd947a0159"
      },
      "execution_count": null,
      "outputs": [
        {
          "output_type": "stream",
          "name": "stdout",
          "text": [
            "Downloading data from https://storage.googleapis.com/tensorflow/tf-keras-datasets/reuters.npz\n",
            "2110848/2110848 [==============================] - 1s 0us/step\n"
          ]
        }
      ]
    },
    {
      "cell_type": "code",
      "source": [
        "y_train.min()\n"
      ],
      "metadata": {
        "colab": {
          "base_uri": "https://localhost:8080/"
        },
        "id": "GSh4L0czs0A-",
        "outputId": "57db458c-b2a5-4275-daea-0f5f5a1356e6"
      },
      "execution_count": null,
      "outputs": [
        {
          "output_type": "execute_result",
          "data": {
            "text/plain": [
              "0"
            ]
          },
          "metadata": {},
          "execution_count": 103
        }
      ]
    },
    {
      "cell_type": "markdown",
      "source": [
        "\n",
        "2. Zdefiniuj architekturę modelu klasyfikacji. Możesz użyć różnych warstw, takich jak Embedding, LSTM, Dense itp., aby zbudować model.\n"
      ],
      "metadata": {
        "id": "21-G_IwD6E3d"
      }
    },
    {
      "cell_type": "code",
      "source": [
        "from keras.models import Sequential\n",
        "from keras.layers import Embedding, LSTM, Dense, Conv1D, GlobalMaxPooling1D, Dropout\n",
        "\n",
        "model = Sequential()\n",
        "model.add(Embedding(input_dim=max_features, output_dim=512))\n",
        "model.add(Conv1D(filters=1024, kernel_size=5))\n",
        "#model.add(GlobalMaxPooling1D())\n",
        "model.add(LSTM(512,dropout=0.25, recurrent_dropout=0.25))\n",
        "#model.add(Dropout(0.2))\n",
        "model.add(Dense(1024, activation='relu'))\n",
        "model.add(Dense(2048, activation='relu'))\n",
        "model.add(Dense(num_classes, activation='softmax'))\n",
        "\n",
        "model.compile(optimizer='adam', loss='categorical_crossentropy', metrics=['accuracy'])\n",
        "\n",
        "model.fit(X_train, y_train, epochs=100, batch_size=1024, verbose=1, validation_split=0.2)"
      ],
      "metadata": {
        "id": "es9NDPk76CUR",
        "colab": {
          "base_uri": "https://localhost:8080/"
        },
        "outputId": "170e60c5-aa78-4b47-f052-ed3da85ae99d"
      },
      "execution_count": null,
      "outputs": [
        {
          "output_type": "stream",
          "name": "stdout",
          "text": [
            "Epoch 1/100\n"
          ]
        }
      ]
    },
    {
      "cell_type": "markdown",
      "source": [
        "\n",
        "3. Podziel dane na zbiór treningowy i zbiór testowy w celu oceny jakości modelu.\n",
        "\n"
      ],
      "metadata": {
        "id": "byF8XCFC6HC2"
      }
    },
    {
      "cell_type": "code",
      "source": [
        "model.evaluate(X_test,y_test)\n"
      ],
      "metadata": {
        "id": "Wo2vv_bt6CXR",
        "colab": {
          "base_uri": "https://localhost:8080/"
        },
        "outputId": "e663fd9c-2dd6-44ec-e9c9-0791dbea1be8"
      },
      "execution_count": null,
      "outputs": [
        {
          "output_type": "stream",
          "name": "stdout",
          "text": [
            "71/71 [==============================] - 5s 74ms/step - loss: 1.4992 - accuracy: 0.6941\n"
          ]
        },
        {
          "output_type": "execute_result",
          "data": {
            "text/plain": [
              "[1.499165654182434, 0.6941229104995728]"
            ]
          },
          "metadata": {},
          "execution_count": 11
        }
      ]
    },
    {
      "cell_type": "markdown",
      "source": [
        "4. Skonfiguruj model, wybierz odpowiedni optymalizator i funkcję straty.\n",
        "\n"
      ],
      "metadata": {
        "id": "zoihU5TO6Ifr"
      }
    },
    {
      "cell_type": "code",
      "source": [],
      "metadata": {
        "id": "mTZctHX_6CaJ",
        "colab": {
          "base_uri": "https://localhost:8080/",
          "height": 175
        },
        "outputId": "74181c29-7474-4902-d87d-315023b1af4e"
      },
      "execution_count": null,
      "outputs": [
        {
          "output_type": "error",
          "ename": "AttributeError",
          "evalue": "'dict' object has no attribute 'size'",
          "traceback": [
            "\u001b[0;31m---------------------------------------------------------------------------\u001b[0m",
            "\u001b[0;31mAttributeError\u001b[0m                            Traceback (most recent call last)",
            "\u001b[0;32m<ipython-input-4-ddaa4a534378>\u001b[0m in \u001b[0;36m<cell line: 1>\u001b[0;34m()\u001b[0m\n\u001b[0;32m----> 1\u001b[0;31m \u001b[0mword_index\u001b[0m\u001b[0;34m.\u001b[0m\u001b[0msize\u001b[0m\u001b[0;34m\u001b[0m\u001b[0;34m\u001b[0m\u001b[0m\n\u001b[0m",
            "\u001b[0;31mAttributeError\u001b[0m: 'dict' object has no attribute 'size'"
          ]
        }
      ]
    },
    {
      "cell_type": "markdown",
      "source": [
        "5. Trenuj model na danych treningowych.\n",
        "\n"
      ],
      "metadata": {
        "id": "pAi3GgGV6KBy"
      }
    },
    {
      "cell_type": "code",
      "source": [],
      "metadata": {
        "id": "dNUVwCio6LHf"
      },
      "execution_count": null,
      "outputs": []
    },
    {
      "cell_type": "markdown",
      "source": [
        "6. Oceń wyniki treningu i przetestuj działanie modelu na danych testowych.\n"
      ],
      "metadata": {
        "id": "Y2uuWm9N6LsX"
      }
    },
    {
      "cell_type": "code",
      "source": [],
      "metadata": {
        "id": "D61hZzX36MoN"
      },
      "execution_count": null,
      "outputs": []
    }
  ]
}